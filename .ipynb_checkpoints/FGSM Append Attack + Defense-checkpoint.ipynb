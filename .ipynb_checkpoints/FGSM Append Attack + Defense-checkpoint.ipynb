{
 "cells": [
  {
   "cell_type": "markdown",
   "metadata": {
    "id": "XTcvA2L0l6uJ"
   },
   "source": [
    "# Import Libraries"
   ]
  },
  {
   "cell_type": "code",
   "execution_count": 1,
   "metadata": {
    "colab": {
     "base_uri": "https://localhost:8080/"
    },
    "executionInfo": {
     "elapsed": 37472,
     "status": "ok",
     "timestamp": 1703067316115,
     "user": {
      "displayName": "Abhignya",
      "userId": "05737312112655230415"
     },
     "user_tz": 300
    },
    "id": "n8Dzp5OglAVR",
    "outputId": "549fd09a-c0c7-4093-87c0-177220d2f2e9"
   },
   "outputs": [
    {
     "name": "stdout",
     "output_type": "stream",
     "text": [
      "Mounted at /content/drive\n"
     ]
    }
   ],
   "source": [
    "from google.colab import drive\n",
    "drive.mount('/content/drive')\n",
    "import numpy as np\n",
    "import pandas as pd\n",
    "\n",
    "import os\n",
    "import time\n",
    "import gc\n",
    "\n",
    "from sklearn.model_selection import KFold, StratifiedKFold\n",
    "from sklearn.feature_extraction.text import TfidfVectorizer\n",
    "from sklearn.metrics import mean_squared_error, accuracy_score, roc_auc_score, log_loss, f1_score, precision_score, recall_score\n",
    "from sklearn.ensemble import ExtraTreesClassifier\n",
    "\n",
    "from lightgbm import LGBMClassifier\n",
    "\n",
    "import random\n",
    "\n",
    "import warnings\n",
    "warnings.filterwarnings(\"ignore\")\n",
    "\n",
    "from tqdm import tqdm\n",
    "from keras.preprocessing import text, sequence\n",
    "import torch\n",
    "from torch import nn\n",
    "from torch.utils import data\n",
    "from torch.nn import functional as F\n",
    "import matplotlib.pyplot as plt\n",
    "import pickle\n",
    "from sklearn.model_selection import StratifiedKFold\n",
    "from xgboost import XGBClassifier\n",
    "from sklearn.ensemble import RandomForestClassifier\n",
    "from sklearn import metrics\n",
    "from sklearn.linear_model import LogisticRegression\n",
    "from sklearn.svm import SVC\n",
    "from sklearn.ensemble import RandomForestClassifier\n",
    "import matplotlib.pyplot as plt\n",
    "from sklearn.metrics import confusion_matrix\n",
    "import seaborn as sns"
   ]
  },
  {
   "cell_type": "markdown",
   "metadata": {
    "id": "m8JpwapRl_MV"
   },
   "source": [
    "# Data Augmentation"
   ]
  },
  {
   "cell_type": "code",
   "execution_count": 2,
   "metadata": {
    "colab": {
     "base_uri": "https://localhost:8080/",
     "height": 255
    },
    "executionInfo": {
     "elapsed": 16684,
     "status": "ok",
     "timestamp": 1703067335391,
     "user": {
      "displayName": "Abhignya",
      "userId": "05737312112655230415"
     },
     "user_tz": 300
    },
    "id": "utFARsE0lXAI",
    "outputId": "0da43978-80e0-4cb5-8cf2-0e417bc3ca73"
   },
   "outputs": [
    {
     "data": {
      "text/html": [
       "\n",
       "  <div id=\"df-f9ed903b-aace-426a-b5fb-5ec5f6a0cb0c\" class=\"colab-df-container\">\n",
       "    <div>\n",
       "<style scoped>\n",
       "    .dataframe tbody tr th:only-of-type {\n",
       "        vertical-align: middle;\n",
       "    }\n",
       "\n",
       "    .dataframe tbody tr th {\n",
       "        vertical-align: top;\n",
       "    }\n",
       "\n",
       "    .dataframe thead th {\n",
       "        text-align: right;\n",
       "    }\n",
       "</style>\n",
       "<table border=\"1\" class=\"dataframe\">\n",
       "  <thead>\n",
       "    <tr style=\"text-align: right;\">\n",
       "      <th></th>\n",
       "      <th>ID</th>\n",
       "      <th>Family</th>\n",
       "      <th>0</th>\n",
       "      <th>1</th>\n",
       "      <th>2</th>\n",
       "      <th>3</th>\n",
       "      <th>4</th>\n",
       "      <th>5</th>\n",
       "      <th>6</th>\n",
       "      <th>7</th>\n",
       "      <th>...</th>\n",
       "      <th>90</th>\n",
       "      <th>91</th>\n",
       "      <th>92</th>\n",
       "      <th>93</th>\n",
       "      <th>94</th>\n",
       "      <th>95</th>\n",
       "      <th>96</th>\n",
       "      <th>97</th>\n",
       "      <th>98</th>\n",
       "      <th>99</th>\n",
       "    </tr>\n",
       "  </thead>\n",
       "  <tbody>\n",
       "    <tr>\n",
       "      <th>0</th>\n",
       "      <td>01kcPWA9K2BOxQeS5Rju</td>\n",
       "      <td>1</td>\n",
       "      <td>-0.426271</td>\n",
       "      <td>1.495527</td>\n",
       "      <td>0.442969</td>\n",
       "      <td>-1.784287</td>\n",
       "      <td>0.687246</td>\n",
       "      <td>-0.163921</td>\n",
       "      <td>-0.821085</td>\n",
       "      <td>-0.767919</td>\n",
       "      <td>...</td>\n",
       "      <td>-0.816768</td>\n",
       "      <td>-1.232931</td>\n",
       "      <td>0.312494</td>\n",
       "      <td>0.956752</td>\n",
       "      <td>0.134952</td>\n",
       "      <td>0.596190</td>\n",
       "      <td>-0.748863</td>\n",
       "      <td>-0.692929</td>\n",
       "      <td>1.376552</td>\n",
       "      <td>-0.300369</td>\n",
       "    </tr>\n",
       "    <tr>\n",
       "      <th>1</th>\n",
       "      <td>04EjIdbPV5e1XroFOpiN</td>\n",
       "      <td>1</td>\n",
       "      <td>-0.429474</td>\n",
       "      <td>1.381561</td>\n",
       "      <td>0.241621</td>\n",
       "      <td>-0.654752</td>\n",
       "      <td>0.227177</td>\n",
       "      <td>-0.599185</td>\n",
       "      <td>-0.663230</td>\n",
       "      <td>-0.332880</td>\n",
       "      <td>...</td>\n",
       "      <td>-0.419219</td>\n",
       "      <td>-0.413807</td>\n",
       "      <td>-0.152669</td>\n",
       "      <td>0.227969</td>\n",
       "      <td>0.036689</td>\n",
       "      <td>1.294578</td>\n",
       "      <td>-0.139708</td>\n",
       "      <td>-0.803917</td>\n",
       "      <td>1.071521</td>\n",
       "      <td>-0.173929</td>\n",
       "    </tr>\n",
       "    <tr>\n",
       "      <th>2</th>\n",
       "      <td>05EeG39MTRrI6VY21DPd</td>\n",
       "      <td>1</td>\n",
       "      <td>-0.386531</td>\n",
       "      <td>1.551624</td>\n",
       "      <td>0.240367</td>\n",
       "      <td>-0.513145</td>\n",
       "      <td>0.496933</td>\n",
       "      <td>-0.666564</td>\n",
       "      <td>-0.377270</td>\n",
       "      <td>-0.464443</td>\n",
       "      <td>...</td>\n",
       "      <td>-0.594439</td>\n",
       "      <td>-0.584387</td>\n",
       "      <td>-0.087269</td>\n",
       "      <td>0.306046</td>\n",
       "      <td>0.010809</td>\n",
       "      <td>1.528025</td>\n",
       "      <td>-0.402952</td>\n",
       "      <td>-0.582781</td>\n",
       "      <td>1.199226</td>\n",
       "      <td>-0.128288</td>\n",
       "    </tr>\n",
       "    <tr>\n",
       "      <th>3</th>\n",
       "      <td>05rJTUWYAKNegBk2wE8X</td>\n",
       "      <td>1</td>\n",
       "      <td>-0.355359</td>\n",
       "      <td>1.305468</td>\n",
       "      <td>0.119359</td>\n",
       "      <td>-0.908725</td>\n",
       "      <td>0.154450</td>\n",
       "      <td>-0.639722</td>\n",
       "      <td>-0.896534</td>\n",
       "      <td>-0.308548</td>\n",
       "      <td>...</td>\n",
       "      <td>-0.354546</td>\n",
       "      <td>-0.347760</td>\n",
       "      <td>-0.217605</td>\n",
       "      <td>0.317562</td>\n",
       "      <td>0.046546</td>\n",
       "      <td>1.289890</td>\n",
       "      <td>-0.135289</td>\n",
       "      <td>-0.718038</td>\n",
       "      <td>1.174416</td>\n",
       "      <td>-0.230006</td>\n",
       "    </tr>\n",
       "    <tr>\n",
       "      <th>4</th>\n",
       "      <td>0AnoOZDNbPXIr2MRBSCJ</td>\n",
       "      <td>1</td>\n",
       "      <td>-0.193080</td>\n",
       "      <td>1.316853</td>\n",
       "      <td>-0.107708</td>\n",
       "      <td>-0.632932</td>\n",
       "      <td>0.209633</td>\n",
       "      <td>-0.560659</td>\n",
       "      <td>-0.372401</td>\n",
       "      <td>-0.302188</td>\n",
       "      <td>...</td>\n",
       "      <td>-0.367623</td>\n",
       "      <td>-0.139803</td>\n",
       "      <td>-0.225833</td>\n",
       "      <td>-0.011875</td>\n",
       "      <td>0.134646</td>\n",
       "      <td>1.751419</td>\n",
       "      <td>-0.285946</td>\n",
       "      <td>-0.762208</td>\n",
       "      <td>1.015983</td>\n",
       "      <td>0.295280</td>\n",
       "    </tr>\n",
       "  </tbody>\n",
       "</table>\n",
       "<p>5 rows × 102 columns</p>\n",
       "</div>\n",
       "    <div class=\"colab-df-buttons\">\n",
       "\n",
       "  <div class=\"colab-df-container\">\n",
       "    <button class=\"colab-df-convert\" onclick=\"convertToInteractive('df-f9ed903b-aace-426a-b5fb-5ec5f6a0cb0c')\"\n",
       "            title=\"Convert this dataframe to an interactive table.\"\n",
       "            style=\"display:none;\">\n",
       "\n",
       "  <svg xmlns=\"http://www.w3.org/2000/svg\" height=\"24px\" viewBox=\"0 -960 960 960\">\n",
       "    <path d=\"M120-120v-720h720v720H120Zm60-500h600v-160H180v160Zm220 220h160v-160H400v160Zm0 220h160v-160H400v160ZM180-400h160v-160H180v160Zm440 0h160v-160H620v160ZM180-180h160v-160H180v160Zm440 0h160v-160H620v160Z\"/>\n",
       "  </svg>\n",
       "    </button>\n",
       "\n",
       "  <style>\n",
       "    .colab-df-container {\n",
       "      display:flex;\n",
       "      gap: 12px;\n",
       "    }\n",
       "\n",
       "    .colab-df-convert {\n",
       "      background-color: #E8F0FE;\n",
       "      border: none;\n",
       "      border-radius: 50%;\n",
       "      cursor: pointer;\n",
       "      display: none;\n",
       "      fill: #1967D2;\n",
       "      height: 32px;\n",
       "      padding: 0 0 0 0;\n",
       "      width: 32px;\n",
       "    }\n",
       "\n",
       "    .colab-df-convert:hover {\n",
       "      background-color: #E2EBFA;\n",
       "      box-shadow: 0px 1px 2px rgba(60, 64, 67, 0.3), 0px 1px 3px 1px rgba(60, 64, 67, 0.15);\n",
       "      fill: #174EA6;\n",
       "    }\n",
       "\n",
       "    .colab-df-buttons div {\n",
       "      margin-bottom: 4px;\n",
       "    }\n",
       "\n",
       "    [theme=dark] .colab-df-convert {\n",
       "      background-color: #3B4455;\n",
       "      fill: #D2E3FC;\n",
       "    }\n",
       "\n",
       "    [theme=dark] .colab-df-convert:hover {\n",
       "      background-color: #434B5C;\n",
       "      box-shadow: 0px 1px 3px 1px rgba(0, 0, 0, 0.15);\n",
       "      filter: drop-shadow(0px 1px 2px rgba(0, 0, 0, 0.3));\n",
       "      fill: #FFFFFF;\n",
       "    }\n",
       "  </style>\n",
       "\n",
       "    <script>\n",
       "      const buttonEl =\n",
       "        document.querySelector('#df-f9ed903b-aace-426a-b5fb-5ec5f6a0cb0c button.colab-df-convert');\n",
       "      buttonEl.style.display =\n",
       "        google.colab.kernel.accessAllowed ? 'block' : 'none';\n",
       "\n",
       "      async function convertToInteractive(key) {\n",
       "        const element = document.querySelector('#df-f9ed903b-aace-426a-b5fb-5ec5f6a0cb0c');\n",
       "        const dataTable =\n",
       "          await google.colab.kernel.invokeFunction('convertToInteractive',\n",
       "                                                    [key], {});\n",
       "        if (!dataTable) return;\n",
       "\n",
       "        const docLinkHtml = 'Like what you see? Visit the ' +\n",
       "          '<a target=\"_blank\" href=https://colab.research.google.com/notebooks/data_table.ipynb>data table notebook</a>'\n",
       "          + ' to learn more about interactive tables.';\n",
       "        element.innerHTML = '';\n",
       "        dataTable['output_type'] = 'display_data';\n",
       "        await google.colab.output.renderOutput(dataTable, element);\n",
       "        const docLink = document.createElement('div');\n",
       "        docLink.innerHTML = docLinkHtml;\n",
       "        element.appendChild(docLink);\n",
       "      }\n",
       "    </script>\n",
       "  </div>\n",
       "\n",
       "\n",
       "<div id=\"df-fd5d2597-7981-4a97-ab1c-506d81790290\">\n",
       "  <button class=\"colab-df-quickchart\" onclick=\"quickchart('df-fd5d2597-7981-4a97-ab1c-506d81790290')\"\n",
       "            title=\"Suggest charts\"\n",
       "            style=\"display:none;\">\n",
       "\n",
       "<svg xmlns=\"http://www.w3.org/2000/svg\" height=\"24px\"viewBox=\"0 0 24 24\"\n",
       "     width=\"24px\">\n",
       "    <g>\n",
       "        <path d=\"M19 3H5c-1.1 0-2 .9-2 2v14c0 1.1.9 2 2 2h14c1.1 0 2-.9 2-2V5c0-1.1-.9-2-2-2zM9 17H7v-7h2v7zm4 0h-2V7h2v10zm4 0h-2v-4h2v4z\"/>\n",
       "    </g>\n",
       "</svg>\n",
       "  </button>\n",
       "\n",
       "<style>\n",
       "  .colab-df-quickchart {\n",
       "      --bg-color: #E8F0FE;\n",
       "      --fill-color: #1967D2;\n",
       "      --hover-bg-color: #E2EBFA;\n",
       "      --hover-fill-color: #174EA6;\n",
       "      --disabled-fill-color: #AAA;\n",
       "      --disabled-bg-color: #DDD;\n",
       "  }\n",
       "\n",
       "  [theme=dark] .colab-df-quickchart {\n",
       "      --bg-color: #3B4455;\n",
       "      --fill-color: #D2E3FC;\n",
       "      --hover-bg-color: #434B5C;\n",
       "      --hover-fill-color: #FFFFFF;\n",
       "      --disabled-bg-color: #3B4455;\n",
       "      --disabled-fill-color: #666;\n",
       "  }\n",
       "\n",
       "  .colab-df-quickchart {\n",
       "    background-color: var(--bg-color);\n",
       "    border: none;\n",
       "    border-radius: 50%;\n",
       "    cursor: pointer;\n",
       "    display: none;\n",
       "    fill: var(--fill-color);\n",
       "    height: 32px;\n",
       "    padding: 0;\n",
       "    width: 32px;\n",
       "  }\n",
       "\n",
       "  .colab-df-quickchart:hover {\n",
       "    background-color: var(--hover-bg-color);\n",
       "    box-shadow: 0 1px 2px rgba(60, 64, 67, 0.3), 0 1px 3px 1px rgba(60, 64, 67, 0.15);\n",
       "    fill: var(--button-hover-fill-color);\n",
       "  }\n",
       "\n",
       "  .colab-df-quickchart-complete:disabled,\n",
       "  .colab-df-quickchart-complete:disabled:hover {\n",
       "    background-color: var(--disabled-bg-color);\n",
       "    fill: var(--disabled-fill-color);\n",
       "    box-shadow: none;\n",
       "  }\n",
       "\n",
       "  .colab-df-spinner {\n",
       "    border: 2px solid var(--fill-color);\n",
       "    border-color: transparent;\n",
       "    border-bottom-color: var(--fill-color);\n",
       "    animation:\n",
       "      spin 1s steps(1) infinite;\n",
       "  }\n",
       "\n",
       "  @keyframes spin {\n",
       "    0% {\n",
       "      border-color: transparent;\n",
       "      border-bottom-color: var(--fill-color);\n",
       "      border-left-color: var(--fill-color);\n",
       "    }\n",
       "    20% {\n",
       "      border-color: transparent;\n",
       "      border-left-color: var(--fill-color);\n",
       "      border-top-color: var(--fill-color);\n",
       "    }\n",
       "    30% {\n",
       "      border-color: transparent;\n",
       "      border-left-color: var(--fill-color);\n",
       "      border-top-color: var(--fill-color);\n",
       "      border-right-color: var(--fill-color);\n",
       "    }\n",
       "    40% {\n",
       "      border-color: transparent;\n",
       "      border-right-color: var(--fill-color);\n",
       "      border-top-color: var(--fill-color);\n",
       "    }\n",
       "    60% {\n",
       "      border-color: transparent;\n",
       "      border-right-color: var(--fill-color);\n",
       "    }\n",
       "    80% {\n",
       "      border-color: transparent;\n",
       "      border-right-color: var(--fill-color);\n",
       "      border-bottom-color: var(--fill-color);\n",
       "    }\n",
       "    90% {\n",
       "      border-color: transparent;\n",
       "      border-bottom-color: var(--fill-color);\n",
       "    }\n",
       "  }\n",
       "</style>\n",
       "\n",
       "  <script>\n",
       "    async function quickchart(key) {\n",
       "      const quickchartButtonEl =\n",
       "        document.querySelector('#' + key + ' button');\n",
       "      quickchartButtonEl.disabled = true;  // To prevent multiple clicks.\n",
       "      quickchartButtonEl.classList.add('colab-df-spinner');\n",
       "      try {\n",
       "        const charts = await google.colab.kernel.invokeFunction(\n",
       "            'suggestCharts', [key], {});\n",
       "      } catch (error) {\n",
       "        console.error('Error during call to suggestCharts:', error);\n",
       "      }\n",
       "      quickchartButtonEl.classList.remove('colab-df-spinner');\n",
       "      quickchartButtonEl.classList.add('colab-df-quickchart-complete');\n",
       "    }\n",
       "    (() => {\n",
       "      let quickchartButtonEl =\n",
       "        document.querySelector('#df-fd5d2597-7981-4a97-ab1c-506d81790290 button');\n",
       "      quickchartButtonEl.style.display =\n",
       "        google.colab.kernel.accessAllowed ? 'block' : 'none';\n",
       "    })();\n",
       "  </script>\n",
       "</div>\n",
       "\n",
       "    </div>\n",
       "  </div>\n"
      ],
      "text/plain": [
       "                     ID  Family         0         1         2         3  \\\n",
       "0  01kcPWA9K2BOxQeS5Rju       1 -0.426271  1.495527  0.442969 -1.784287   \n",
       "1  04EjIdbPV5e1XroFOpiN       1 -0.429474  1.381561  0.241621 -0.654752   \n",
       "2  05EeG39MTRrI6VY21DPd       1 -0.386531  1.551624  0.240367 -0.513145   \n",
       "3  05rJTUWYAKNegBk2wE8X       1 -0.355359  1.305468  0.119359 -0.908725   \n",
       "4  0AnoOZDNbPXIr2MRBSCJ       1 -0.193080  1.316853 -0.107708 -0.632932   \n",
       "\n",
       "          4         5         6         7  ...        90        91        92  \\\n",
       "0  0.687246 -0.163921 -0.821085 -0.767919  ... -0.816768 -1.232931  0.312494   \n",
       "1  0.227177 -0.599185 -0.663230 -0.332880  ... -0.419219 -0.413807 -0.152669   \n",
       "2  0.496933 -0.666564 -0.377270 -0.464443  ... -0.594439 -0.584387 -0.087269   \n",
       "3  0.154450 -0.639722 -0.896534 -0.308548  ... -0.354546 -0.347760 -0.217605   \n",
       "4  0.209633 -0.560659 -0.372401 -0.302188  ... -0.367623 -0.139803 -0.225833   \n",
       "\n",
       "         93        94        95        96        97        98        99  \n",
       "0  0.956752  0.134952  0.596190 -0.748863 -0.692929  1.376552 -0.300369  \n",
       "1  0.227969  0.036689  1.294578 -0.139708 -0.803917  1.071521 -0.173929  \n",
       "2  0.306046  0.010809  1.528025 -0.402952 -0.582781  1.199226 -0.128288  \n",
       "3  0.317562  0.046546  1.289890 -0.135289 -0.718038  1.174416 -0.230006  \n",
       "4 -0.011875  0.134646  1.751419 -0.285946 -0.762208  1.015983  0.295280  \n",
       "\n",
       "[5 rows x 102 columns]"
      ]
     },
     "execution_count": 2,
     "metadata": {},
     "output_type": "execute_result"
    }
   ],
   "source": [
    "#Load data after append attack\n",
    "test2 = pd.read_csv('/content/drive/MyDrive/data/appended_new_opcodes.csv')\n",
    "test = pd.read_csv('/content/drive/MyDrive/data/appended_result_embed.csv')\n",
    "test.head()"
   ]
  },
  {
   "cell_type": "code",
   "execution_count": 3,
   "metadata": {
    "colab": {
     "base_uri": "https://localhost:8080/",
     "height": 423
    },
    "executionInfo": {
     "elapsed": 8,
     "status": "ok",
     "timestamp": 1703067335391,
     "user": {
      "displayName": "Abhignya",
      "userId": "05737312112655230415"
     },
     "user_tz": 300
    },
    "id": "kHDKY2hQnMZR",
    "outputId": "ab964c88-9bf9-42cf-fe34-1e73c69bd550"
   },
   "outputs": [
    {
     "data": {
      "text/html": [
       "\n",
       "  <div id=\"df-00d2b193-f8e0-40ed-8042-8e453c88afdf\" class=\"colab-df-container\">\n",
       "    <div>\n",
       "<style scoped>\n",
       "    .dataframe tbody tr th:only-of-type {\n",
       "        vertical-align: middle;\n",
       "    }\n",
       "\n",
       "    .dataframe tbody tr th {\n",
       "        vertical-align: top;\n",
       "    }\n",
       "\n",
       "    .dataframe thead th {\n",
       "        text-align: right;\n",
       "    }\n",
       "</style>\n",
       "<table border=\"1\" class=\"dataframe\">\n",
       "  <thead>\n",
       "    <tr style=\"text-align: right;\">\n",
       "      <th></th>\n",
       "      <th>ID</th>\n",
       "      <th>Opcodes</th>\n",
       "      <th>Family</th>\n",
       "    </tr>\n",
       "  </thead>\n",
       "  <tbody>\n",
       "    <tr>\n",
       "      <th>0</th>\n",
       "      <td>01kcPWA9K2BOxQeS5Rju</td>\n",
       "      <td>push push mov push mov sub mov push push lea m...</td>\n",
       "      <td>1</td>\n",
       "    </tr>\n",
       "    <tr>\n",
       "      <th>1</th>\n",
       "      <td>04EjIdbPV5e1XroFOpiN</td>\n",
       "      <td>push push mov push mov mov mov lea push retn m...</td>\n",
       "      <td>1</td>\n",
       "    </tr>\n",
       "    <tr>\n",
       "      <th>2</th>\n",
       "      <td>05EeG39MTRrI6VY21DPd</td>\n",
       "      <td>push mov mov test mov jz push call mov test jz...</td>\n",
       "      <td>1</td>\n",
       "    </tr>\n",
       "    <tr>\n",
       "      <th>3</th>\n",
       "      <td>05rJTUWYAKNegBk2wE8X</td>\n",
       "      <td>cmp jnz test jnz retn mov push mov mov push mo...</td>\n",
       "      <td>1</td>\n",
       "    </tr>\n",
       "    <tr>\n",
       "      <th>4</th>\n",
       "      <td>0AnoOZDNbPXIr2MRBSCJ</td>\n",
       "      <td>push mov sub mov and and push push mov cmp mov...</td>\n",
       "      <td>1</td>\n",
       "    </tr>\n",
       "    <tr>\n",
       "      <th>...</th>\n",
       "      <td>...</td>\n",
       "      <td>...</td>\n",
       "      <td>...</td>\n",
       "    </tr>\n",
       "    <tr>\n",
       "      <th>10863</th>\n",
       "      <td>KFrZ0Lop1WDGwUtkusCi</td>\n",
       "      <td>push mov sub retn push mov sub and adc or push...</td>\n",
       "      <td>9</td>\n",
       "    </tr>\n",
       "    <tr>\n",
       "      <th>10864</th>\n",
       "      <td>kg24YRJTB8DNdKMXpwOH</td>\n",
       "      <td>push mov sub adc and xor push pop lea cmp jz t...</td>\n",
       "      <td>9</td>\n",
       "    </tr>\n",
       "    <tr>\n",
       "      <th>10865</th>\n",
       "      <td>kG29BLiFYPgWtpb350sO</td>\n",
       "      <td>or push mov sub add sub or lea test ja test ja...</td>\n",
       "      <td>9</td>\n",
       "    </tr>\n",
       "    <tr>\n",
       "      <th>10866</th>\n",
       "      <td>kGITL4OJxYMWEQ1bKBiP</td>\n",
       "      <td>aAm out out out out out out push mov sub mov a...</td>\n",
       "      <td>9</td>\n",
       "    </tr>\n",
       "    <tr>\n",
       "      <th>10867</th>\n",
       "      <td>KGorN9J6XAC4bOEkmyup</td>\n",
       "      <td>call jmp mov jmp push call pop retn mov jmp ca...</td>\n",
       "      <td>9</td>\n",
       "    </tr>\n",
       "  </tbody>\n",
       "</table>\n",
       "<p>10868 rows × 3 columns</p>\n",
       "</div>\n",
       "    <div class=\"colab-df-buttons\">\n",
       "\n",
       "  <div class=\"colab-df-container\">\n",
       "    <button class=\"colab-df-convert\" onclick=\"convertToInteractive('df-00d2b193-f8e0-40ed-8042-8e453c88afdf')\"\n",
       "            title=\"Convert this dataframe to an interactive table.\"\n",
       "            style=\"display:none;\">\n",
       "\n",
       "  <svg xmlns=\"http://www.w3.org/2000/svg\" height=\"24px\" viewBox=\"0 -960 960 960\">\n",
       "    <path d=\"M120-120v-720h720v720H120Zm60-500h600v-160H180v160Zm220 220h160v-160H400v160Zm0 220h160v-160H400v160ZM180-400h160v-160H180v160Zm440 0h160v-160H620v160ZM180-180h160v-160H180v160Zm440 0h160v-160H620v160Z\"/>\n",
       "  </svg>\n",
       "    </button>\n",
       "\n",
       "  <style>\n",
       "    .colab-df-container {\n",
       "      display:flex;\n",
       "      gap: 12px;\n",
       "    }\n",
       "\n",
       "    .colab-df-convert {\n",
       "      background-color: #E8F0FE;\n",
       "      border: none;\n",
       "      border-radius: 50%;\n",
       "      cursor: pointer;\n",
       "      display: none;\n",
       "      fill: #1967D2;\n",
       "      height: 32px;\n",
       "      padding: 0 0 0 0;\n",
       "      width: 32px;\n",
       "    }\n",
       "\n",
       "    .colab-df-convert:hover {\n",
       "      background-color: #E2EBFA;\n",
       "      box-shadow: 0px 1px 2px rgba(60, 64, 67, 0.3), 0px 1px 3px 1px rgba(60, 64, 67, 0.15);\n",
       "      fill: #174EA6;\n",
       "    }\n",
       "\n",
       "    .colab-df-buttons div {\n",
       "      margin-bottom: 4px;\n",
       "    }\n",
       "\n",
       "    [theme=dark] .colab-df-convert {\n",
       "      background-color: #3B4455;\n",
       "      fill: #D2E3FC;\n",
       "    }\n",
       "\n",
       "    [theme=dark] .colab-df-convert:hover {\n",
       "      background-color: #434B5C;\n",
       "      box-shadow: 0px 1px 3px 1px rgba(0, 0, 0, 0.15);\n",
       "      filter: drop-shadow(0px 1px 2px rgba(0, 0, 0, 0.3));\n",
       "      fill: #FFFFFF;\n",
       "    }\n",
       "  </style>\n",
       "\n",
       "    <script>\n",
       "      const buttonEl =\n",
       "        document.querySelector('#df-00d2b193-f8e0-40ed-8042-8e453c88afdf button.colab-df-convert');\n",
       "      buttonEl.style.display =\n",
       "        google.colab.kernel.accessAllowed ? 'block' : 'none';\n",
       "\n",
       "      async function convertToInteractive(key) {\n",
       "        const element = document.querySelector('#df-00d2b193-f8e0-40ed-8042-8e453c88afdf');\n",
       "        const dataTable =\n",
       "          await google.colab.kernel.invokeFunction('convertToInteractive',\n",
       "                                                    [key], {});\n",
       "        if (!dataTable) return;\n",
       "\n",
       "        const docLinkHtml = 'Like what you see? Visit the ' +\n",
       "          '<a target=\"_blank\" href=https://colab.research.google.com/notebooks/data_table.ipynb>data table notebook</a>'\n",
       "          + ' to learn more about interactive tables.';\n",
       "        element.innerHTML = '';\n",
       "        dataTable['output_type'] = 'display_data';\n",
       "        await google.colab.output.renderOutput(dataTable, element);\n",
       "        const docLink = document.createElement('div');\n",
       "        docLink.innerHTML = docLinkHtml;\n",
       "        element.appendChild(docLink);\n",
       "      }\n",
       "    </script>\n",
       "  </div>\n",
       "\n",
       "\n",
       "<div id=\"df-bf8ca0a8-b380-4ec5-8f8e-5c9bd945e6db\">\n",
       "  <button class=\"colab-df-quickchart\" onclick=\"quickchart('df-bf8ca0a8-b380-4ec5-8f8e-5c9bd945e6db')\"\n",
       "            title=\"Suggest charts\"\n",
       "            style=\"display:none;\">\n",
       "\n",
       "<svg xmlns=\"http://www.w3.org/2000/svg\" height=\"24px\"viewBox=\"0 0 24 24\"\n",
       "     width=\"24px\">\n",
       "    <g>\n",
       "        <path d=\"M19 3H5c-1.1 0-2 .9-2 2v14c0 1.1.9 2 2 2h14c1.1 0 2-.9 2-2V5c0-1.1-.9-2-2-2zM9 17H7v-7h2v7zm4 0h-2V7h2v10zm4 0h-2v-4h2v4z\"/>\n",
       "    </g>\n",
       "</svg>\n",
       "  </button>\n",
       "\n",
       "<style>\n",
       "  .colab-df-quickchart {\n",
       "      --bg-color: #E8F0FE;\n",
       "      --fill-color: #1967D2;\n",
       "      --hover-bg-color: #E2EBFA;\n",
       "      --hover-fill-color: #174EA6;\n",
       "      --disabled-fill-color: #AAA;\n",
       "      --disabled-bg-color: #DDD;\n",
       "  }\n",
       "\n",
       "  [theme=dark] .colab-df-quickchart {\n",
       "      --bg-color: #3B4455;\n",
       "      --fill-color: #D2E3FC;\n",
       "      --hover-bg-color: #434B5C;\n",
       "      --hover-fill-color: #FFFFFF;\n",
       "      --disabled-bg-color: #3B4455;\n",
       "      --disabled-fill-color: #666;\n",
       "  }\n",
       "\n",
       "  .colab-df-quickchart {\n",
       "    background-color: var(--bg-color);\n",
       "    border: none;\n",
       "    border-radius: 50%;\n",
       "    cursor: pointer;\n",
       "    display: none;\n",
       "    fill: var(--fill-color);\n",
       "    height: 32px;\n",
       "    padding: 0;\n",
       "    width: 32px;\n",
       "  }\n",
       "\n",
       "  .colab-df-quickchart:hover {\n",
       "    background-color: var(--hover-bg-color);\n",
       "    box-shadow: 0 1px 2px rgba(60, 64, 67, 0.3), 0 1px 3px 1px rgba(60, 64, 67, 0.15);\n",
       "    fill: var(--button-hover-fill-color);\n",
       "  }\n",
       "\n",
       "  .colab-df-quickchart-complete:disabled,\n",
       "  .colab-df-quickchart-complete:disabled:hover {\n",
       "    background-color: var(--disabled-bg-color);\n",
       "    fill: var(--disabled-fill-color);\n",
       "    box-shadow: none;\n",
       "  }\n",
       "\n",
       "  .colab-df-spinner {\n",
       "    border: 2px solid var(--fill-color);\n",
       "    border-color: transparent;\n",
       "    border-bottom-color: var(--fill-color);\n",
       "    animation:\n",
       "      spin 1s steps(1) infinite;\n",
       "  }\n",
       "\n",
       "  @keyframes spin {\n",
       "    0% {\n",
       "      border-color: transparent;\n",
       "      border-bottom-color: var(--fill-color);\n",
       "      border-left-color: var(--fill-color);\n",
       "    }\n",
       "    20% {\n",
       "      border-color: transparent;\n",
       "      border-left-color: var(--fill-color);\n",
       "      border-top-color: var(--fill-color);\n",
       "    }\n",
       "    30% {\n",
       "      border-color: transparent;\n",
       "      border-left-color: var(--fill-color);\n",
       "      border-top-color: var(--fill-color);\n",
       "      border-right-color: var(--fill-color);\n",
       "    }\n",
       "    40% {\n",
       "      border-color: transparent;\n",
       "      border-right-color: var(--fill-color);\n",
       "      border-top-color: var(--fill-color);\n",
       "    }\n",
       "    60% {\n",
       "      border-color: transparent;\n",
       "      border-right-color: var(--fill-color);\n",
       "    }\n",
       "    80% {\n",
       "      border-color: transparent;\n",
       "      border-right-color: var(--fill-color);\n",
       "      border-bottom-color: var(--fill-color);\n",
       "    }\n",
       "    90% {\n",
       "      border-color: transparent;\n",
       "      border-bottom-color: var(--fill-color);\n",
       "    }\n",
       "  }\n",
       "</style>\n",
       "\n",
       "  <script>\n",
       "    async function quickchart(key) {\n",
       "      const quickchartButtonEl =\n",
       "        document.querySelector('#' + key + ' button');\n",
       "      quickchartButtonEl.disabled = true;  // To prevent multiple clicks.\n",
       "      quickchartButtonEl.classList.add('colab-df-spinner');\n",
       "      try {\n",
       "        const charts = await google.colab.kernel.invokeFunction(\n",
       "            'suggestCharts', [key], {});\n",
       "      } catch (error) {\n",
       "        console.error('Error during call to suggestCharts:', error);\n",
       "      }\n",
       "      quickchartButtonEl.classList.remove('colab-df-spinner');\n",
       "      quickchartButtonEl.classList.add('colab-df-quickchart-complete');\n",
       "    }\n",
       "    (() => {\n",
       "      let quickchartButtonEl =\n",
       "        document.querySelector('#df-bf8ca0a8-b380-4ec5-8f8e-5c9bd945e6db button');\n",
       "      quickchartButtonEl.style.display =\n",
       "        google.colab.kernel.accessAllowed ? 'block' : 'none';\n",
       "    })();\n",
       "  </script>\n",
       "</div>\n",
       "\n",
       "  <div id=\"id_3319b29e-fc0a-4260-a0cf-df5b82d59be0\">\n",
       "    <style>\n",
       "      .colab-df-generate {\n",
       "        background-color: #E8F0FE;\n",
       "        border: none;\n",
       "        border-radius: 50%;\n",
       "        cursor: pointer;\n",
       "        display: none;\n",
       "        fill: #1967D2;\n",
       "        height: 32px;\n",
       "        padding: 0 0 0 0;\n",
       "        width: 32px;\n",
       "      }\n",
       "\n",
       "      .colab-df-generate:hover {\n",
       "        background-color: #E2EBFA;\n",
       "        box-shadow: 0px 1px 2px rgba(60, 64, 67, 0.3), 0px 1px 3px 1px rgba(60, 64, 67, 0.15);\n",
       "        fill: #174EA6;\n",
       "      }\n",
       "\n",
       "      [theme=dark] .colab-df-generate {\n",
       "        background-color: #3B4455;\n",
       "        fill: #D2E3FC;\n",
       "      }\n",
       "\n",
       "      [theme=dark] .colab-df-generate:hover {\n",
       "        background-color: #434B5C;\n",
       "        box-shadow: 0px 1px 3px 1px rgba(0, 0, 0, 0.15);\n",
       "        filter: drop-shadow(0px 1px 2px rgba(0, 0, 0, 0.3));\n",
       "        fill: #FFFFFF;\n",
       "      }\n",
       "    </style>\n",
       "    <button class=\"colab-df-generate\" onclick=\"generateWithVariable('test2')\"\n",
       "            title=\"Generate code using this dataframe.\"\n",
       "            style=\"display:none;\">\n",
       "\n",
       "  <svg xmlns=\"http://www.w3.org/2000/svg\" height=\"24px\"viewBox=\"0 0 24 24\"\n",
       "       width=\"24px\">\n",
       "    <path d=\"M7,19H8.4L18.45,9,17,7.55,7,17.6ZM5,21V16.75L18.45,3.32a2,2,0,0,1,2.83,0l1.4,1.43a1.91,1.91,0,0,1,.58,1.4,1.91,1.91,0,0,1-.58,1.4L9.25,21ZM18.45,9,17,7.55Zm-12,3A5.31,5.31,0,0,0,4.9,8.1,5.31,5.31,0,0,0,1,6.5,5.31,5.31,0,0,0,4.9,4.9,5.31,5.31,0,0,0,6.5,1,5.31,5.31,0,0,0,8.1,4.9,5.31,5.31,0,0,0,12,6.5,5.46,5.46,0,0,0,6.5,12Z\"/>\n",
       "  </svg>\n",
       "    </button>\n",
       "    <script>\n",
       "      (() => {\n",
       "      const buttonEl =\n",
       "        document.querySelector('#id_3319b29e-fc0a-4260-a0cf-df5b82d59be0 button.colab-df-generate');\n",
       "      buttonEl.style.display =\n",
       "        google.colab.kernel.accessAllowed ? 'block' : 'none';\n",
       "\n",
       "      buttonEl.onclick = () => {\n",
       "        google.colab.notebook.generateWithVariable('test2');\n",
       "      }\n",
       "      })();\n",
       "    </script>\n",
       "  </div>\n",
       "\n",
       "    </div>\n",
       "  </div>\n"
      ],
      "text/plain": [
       "                         ID  \\\n",
       "0      01kcPWA9K2BOxQeS5Rju   \n",
       "1      04EjIdbPV5e1XroFOpiN   \n",
       "2      05EeG39MTRrI6VY21DPd   \n",
       "3      05rJTUWYAKNegBk2wE8X   \n",
       "4      0AnoOZDNbPXIr2MRBSCJ   \n",
       "...                     ...   \n",
       "10863  KFrZ0Lop1WDGwUtkusCi   \n",
       "10864  kg24YRJTB8DNdKMXpwOH   \n",
       "10865  kG29BLiFYPgWtpb350sO   \n",
       "10866  kGITL4OJxYMWEQ1bKBiP   \n",
       "10867  KGorN9J6XAC4bOEkmyup   \n",
       "\n",
       "                                                 Opcodes  Family  \n",
       "0      push push mov push mov sub mov push push lea m...       1  \n",
       "1      push push mov push mov mov mov lea push retn m...       1  \n",
       "2      push mov mov test mov jz push call mov test jz...       1  \n",
       "3      cmp jnz test jnz retn mov push mov mov push mo...       1  \n",
       "4      push mov sub mov and and push push mov cmp mov...       1  \n",
       "...                                                  ...     ...  \n",
       "10863  push mov sub retn push mov sub and adc or push...       9  \n",
       "10864  push mov sub adc and xor push pop lea cmp jz t...       9  \n",
       "10865  or push mov sub add sub or lea test ja test ja...       9  \n",
       "10866  aAm out out out out out out push mov sub mov a...       9  \n",
       "10867  call jmp mov jmp push call pop retn mov jmp ca...       9  \n",
       "\n",
       "[10868 rows x 3 columns]"
      ]
     },
     "execution_count": 3,
     "metadata": {},
     "output_type": "execute_result"
    }
   ],
   "source": [
    "test2= pd.DataFrame(test['ID']).merge(test2, on='ID').reset_index(drop = True)\n",
    "test2"
   ]
  },
  {
   "cell_type": "code",
   "execution_count": 4,
   "metadata": {
    "executionInfo": {
     "elapsed": 106670,
     "status": "ok",
     "timestamp": 1703067442055,
     "user": {
      "displayName": "Abhignya",
      "userId": "05737312112655230415"
     },
     "user_tz": 300
    },
    "id": "6vjUn50PnUGq"
   },
   "outputs": [],
   "source": [
    "vectorizer = TfidfVectorizer()\n",
    "tf_encs = vectorizer.fit_transform(test2['Opcodes'])\n",
    "tf_encs = tf_encs.toarray()\n",
    "Xx = pd.DataFrame(tf_encs)"
   ]
  },
  {
   "cell_type": "code",
   "execution_count": 5,
   "metadata": {
    "colab": {
     "base_uri": "https://localhost:8080/",
     "height": 255
    },
    "executionInfo": {
     "elapsed": 21,
     "status": "ok",
     "timestamp": 1703067442056,
     "user": {
      "displayName": "Abhignya",
      "userId": "05737312112655230415"
     },
     "user_tz": 300
    },
    "id": "2l-tLSgRnXJg",
    "outputId": "bd0559a6-a99a-4664-b01b-963a34d4e6b6"
   },
   "outputs": [
    {
     "data": {
      "text/html": [
       "\n",
       "  <div id=\"df-ccee4f4d-ce29-4779-a67e-3a432b97d0be\" class=\"colab-df-container\">\n",
       "    <div>\n",
       "<style scoped>\n",
       "    .dataframe tbody tr th:only-of-type {\n",
       "        vertical-align: middle;\n",
       "    }\n",
       "\n",
       "    .dataframe tbody tr th {\n",
       "        vertical-align: top;\n",
       "    }\n",
       "\n",
       "    .dataframe thead th {\n",
       "        text-align: right;\n",
       "    }\n",
       "</style>\n",
       "<table border=\"1\" class=\"dataframe\">\n",
       "  <thead>\n",
       "    <tr style=\"text-align: right;\">\n",
       "      <th></th>\n",
       "      <th>ID</th>\n",
       "      <th>Family</th>\n",
       "      <th>0</th>\n",
       "      <th>1</th>\n",
       "      <th>2</th>\n",
       "      <th>3</th>\n",
       "      <th>4</th>\n",
       "      <th>5</th>\n",
       "      <th>6</th>\n",
       "      <th>7</th>\n",
       "      <th>...</th>\n",
       "      <th>90</th>\n",
       "      <th>91</th>\n",
       "      <th>92</th>\n",
       "      <th>93</th>\n",
       "      <th>94</th>\n",
       "      <th>95</th>\n",
       "      <th>96</th>\n",
       "      <th>97</th>\n",
       "      <th>98</th>\n",
       "      <th>99</th>\n",
       "    </tr>\n",
       "  </thead>\n",
       "  <tbody>\n",
       "    <tr>\n",
       "      <th>0</th>\n",
       "      <td>01kcPWA9K2BOxQeS5Rju</td>\n",
       "      <td>0</td>\n",
       "      <td>-0.426271</td>\n",
       "      <td>1.495527</td>\n",
       "      <td>0.442969</td>\n",
       "      <td>-1.784287</td>\n",
       "      <td>0.687246</td>\n",
       "      <td>-0.163921</td>\n",
       "      <td>-0.821085</td>\n",
       "      <td>-0.767919</td>\n",
       "      <td>...</td>\n",
       "      <td>-0.816768</td>\n",
       "      <td>-1.232931</td>\n",
       "      <td>0.312494</td>\n",
       "      <td>0.956752</td>\n",
       "      <td>0.134952</td>\n",
       "      <td>0.596190</td>\n",
       "      <td>-0.748863</td>\n",
       "      <td>-0.692929</td>\n",
       "      <td>1.376552</td>\n",
       "      <td>-0.300369</td>\n",
       "    </tr>\n",
       "    <tr>\n",
       "      <th>1</th>\n",
       "      <td>04EjIdbPV5e1XroFOpiN</td>\n",
       "      <td>0</td>\n",
       "      <td>-0.429474</td>\n",
       "      <td>1.381561</td>\n",
       "      <td>0.241621</td>\n",
       "      <td>-0.654752</td>\n",
       "      <td>0.227177</td>\n",
       "      <td>-0.599185</td>\n",
       "      <td>-0.663230</td>\n",
       "      <td>-0.332880</td>\n",
       "      <td>...</td>\n",
       "      <td>-0.419219</td>\n",
       "      <td>-0.413807</td>\n",
       "      <td>-0.152669</td>\n",
       "      <td>0.227969</td>\n",
       "      <td>0.036689</td>\n",
       "      <td>1.294578</td>\n",
       "      <td>-0.139708</td>\n",
       "      <td>-0.803917</td>\n",
       "      <td>1.071521</td>\n",
       "      <td>-0.173929</td>\n",
       "    </tr>\n",
       "    <tr>\n",
       "      <th>2</th>\n",
       "      <td>05EeG39MTRrI6VY21DPd</td>\n",
       "      <td>0</td>\n",
       "      <td>-0.386531</td>\n",
       "      <td>1.551624</td>\n",
       "      <td>0.240367</td>\n",
       "      <td>-0.513145</td>\n",
       "      <td>0.496933</td>\n",
       "      <td>-0.666564</td>\n",
       "      <td>-0.377270</td>\n",
       "      <td>-0.464443</td>\n",
       "      <td>...</td>\n",
       "      <td>-0.594439</td>\n",
       "      <td>-0.584387</td>\n",
       "      <td>-0.087269</td>\n",
       "      <td>0.306046</td>\n",
       "      <td>0.010809</td>\n",
       "      <td>1.528025</td>\n",
       "      <td>-0.402952</td>\n",
       "      <td>-0.582781</td>\n",
       "      <td>1.199226</td>\n",
       "      <td>-0.128288</td>\n",
       "    </tr>\n",
       "    <tr>\n",
       "      <th>3</th>\n",
       "      <td>05rJTUWYAKNegBk2wE8X</td>\n",
       "      <td>0</td>\n",
       "      <td>-0.355359</td>\n",
       "      <td>1.305468</td>\n",
       "      <td>0.119359</td>\n",
       "      <td>-0.908725</td>\n",
       "      <td>0.154450</td>\n",
       "      <td>-0.639722</td>\n",
       "      <td>-0.896534</td>\n",
       "      <td>-0.308548</td>\n",
       "      <td>...</td>\n",
       "      <td>-0.354546</td>\n",
       "      <td>-0.347760</td>\n",
       "      <td>-0.217605</td>\n",
       "      <td>0.317562</td>\n",
       "      <td>0.046546</td>\n",
       "      <td>1.289890</td>\n",
       "      <td>-0.135289</td>\n",
       "      <td>-0.718038</td>\n",
       "      <td>1.174416</td>\n",
       "      <td>-0.230006</td>\n",
       "    </tr>\n",
       "    <tr>\n",
       "      <th>4</th>\n",
       "      <td>0AnoOZDNbPXIr2MRBSCJ</td>\n",
       "      <td>0</td>\n",
       "      <td>-0.193080</td>\n",
       "      <td>1.316853</td>\n",
       "      <td>-0.107708</td>\n",
       "      <td>-0.632932</td>\n",
       "      <td>0.209633</td>\n",
       "      <td>-0.560659</td>\n",
       "      <td>-0.372401</td>\n",
       "      <td>-0.302188</td>\n",
       "      <td>...</td>\n",
       "      <td>-0.367623</td>\n",
       "      <td>-0.139803</td>\n",
       "      <td>-0.225833</td>\n",
       "      <td>-0.011875</td>\n",
       "      <td>0.134646</td>\n",
       "      <td>1.751419</td>\n",
       "      <td>-0.285946</td>\n",
       "      <td>-0.762208</td>\n",
       "      <td>1.015983</td>\n",
       "      <td>0.295280</td>\n",
       "    </tr>\n",
       "  </tbody>\n",
       "</table>\n",
       "<p>5 rows × 102 columns</p>\n",
       "</div>\n",
       "    <div class=\"colab-df-buttons\">\n",
       "\n",
       "  <div class=\"colab-df-container\">\n",
       "    <button class=\"colab-df-convert\" onclick=\"convertToInteractive('df-ccee4f4d-ce29-4779-a67e-3a432b97d0be')\"\n",
       "            title=\"Convert this dataframe to an interactive table.\"\n",
       "            style=\"display:none;\">\n",
       "\n",
       "  <svg xmlns=\"http://www.w3.org/2000/svg\" height=\"24px\" viewBox=\"0 -960 960 960\">\n",
       "    <path d=\"M120-120v-720h720v720H120Zm60-500h600v-160H180v160Zm220 220h160v-160H400v160Zm0 220h160v-160H400v160ZM180-400h160v-160H180v160Zm440 0h160v-160H620v160ZM180-180h160v-160H180v160Zm440 0h160v-160H620v160Z\"/>\n",
       "  </svg>\n",
       "    </button>\n",
       "\n",
       "  <style>\n",
       "    .colab-df-container {\n",
       "      display:flex;\n",
       "      gap: 12px;\n",
       "    }\n",
       "\n",
       "    .colab-df-convert {\n",
       "      background-color: #E8F0FE;\n",
       "      border: none;\n",
       "      border-radius: 50%;\n",
       "      cursor: pointer;\n",
       "      display: none;\n",
       "      fill: #1967D2;\n",
       "      height: 32px;\n",
       "      padding: 0 0 0 0;\n",
       "      width: 32px;\n",
       "    }\n",
       "\n",
       "    .colab-df-convert:hover {\n",
       "      background-color: #E2EBFA;\n",
       "      box-shadow: 0px 1px 2px rgba(60, 64, 67, 0.3), 0px 1px 3px 1px rgba(60, 64, 67, 0.15);\n",
       "      fill: #174EA6;\n",
       "    }\n",
       "\n",
       "    .colab-df-buttons div {\n",
       "      margin-bottom: 4px;\n",
       "    }\n",
       "\n",
       "    [theme=dark] .colab-df-convert {\n",
       "      background-color: #3B4455;\n",
       "      fill: #D2E3FC;\n",
       "    }\n",
       "\n",
       "    [theme=dark] .colab-df-convert:hover {\n",
       "      background-color: #434B5C;\n",
       "      box-shadow: 0px 1px 3px 1px rgba(0, 0, 0, 0.15);\n",
       "      filter: drop-shadow(0px 1px 2px rgba(0, 0, 0, 0.3));\n",
       "      fill: #FFFFFF;\n",
       "    }\n",
       "  </style>\n",
       "\n",
       "    <script>\n",
       "      const buttonEl =\n",
       "        document.querySelector('#df-ccee4f4d-ce29-4779-a67e-3a432b97d0be button.colab-df-convert');\n",
       "      buttonEl.style.display =\n",
       "        google.colab.kernel.accessAllowed ? 'block' : 'none';\n",
       "\n",
       "      async function convertToInteractive(key) {\n",
       "        const element = document.querySelector('#df-ccee4f4d-ce29-4779-a67e-3a432b97d0be');\n",
       "        const dataTable =\n",
       "          await google.colab.kernel.invokeFunction('convertToInteractive',\n",
       "                                                    [key], {});\n",
       "        if (!dataTable) return;\n",
       "\n",
       "        const docLinkHtml = 'Like what you see? Visit the ' +\n",
       "          '<a target=\"_blank\" href=https://colab.research.google.com/notebooks/data_table.ipynb>data table notebook</a>'\n",
       "          + ' to learn more about interactive tables.';\n",
       "        element.innerHTML = '';\n",
       "        dataTable['output_type'] = 'display_data';\n",
       "        await google.colab.output.renderOutput(dataTable, element);\n",
       "        const docLink = document.createElement('div');\n",
       "        docLink.innerHTML = docLinkHtml;\n",
       "        element.appendChild(docLink);\n",
       "      }\n",
       "    </script>\n",
       "  </div>\n",
       "\n",
       "\n",
       "<div id=\"df-48466429-2081-4b02-8725-ea1bb7104afc\">\n",
       "  <button class=\"colab-df-quickchart\" onclick=\"quickchart('df-48466429-2081-4b02-8725-ea1bb7104afc')\"\n",
       "            title=\"Suggest charts\"\n",
       "            style=\"display:none;\">\n",
       "\n",
       "<svg xmlns=\"http://www.w3.org/2000/svg\" height=\"24px\"viewBox=\"0 0 24 24\"\n",
       "     width=\"24px\">\n",
       "    <g>\n",
       "        <path d=\"M19 3H5c-1.1 0-2 .9-2 2v14c0 1.1.9 2 2 2h14c1.1 0 2-.9 2-2V5c0-1.1-.9-2-2-2zM9 17H7v-7h2v7zm4 0h-2V7h2v10zm4 0h-2v-4h2v4z\"/>\n",
       "    </g>\n",
       "</svg>\n",
       "  </button>\n",
       "\n",
       "<style>\n",
       "  .colab-df-quickchart {\n",
       "      --bg-color: #E8F0FE;\n",
       "      --fill-color: #1967D2;\n",
       "      --hover-bg-color: #E2EBFA;\n",
       "      --hover-fill-color: #174EA6;\n",
       "      --disabled-fill-color: #AAA;\n",
       "      --disabled-bg-color: #DDD;\n",
       "  }\n",
       "\n",
       "  [theme=dark] .colab-df-quickchart {\n",
       "      --bg-color: #3B4455;\n",
       "      --fill-color: #D2E3FC;\n",
       "      --hover-bg-color: #434B5C;\n",
       "      --hover-fill-color: #FFFFFF;\n",
       "      --disabled-bg-color: #3B4455;\n",
       "      --disabled-fill-color: #666;\n",
       "  }\n",
       "\n",
       "  .colab-df-quickchart {\n",
       "    background-color: var(--bg-color);\n",
       "    border: none;\n",
       "    border-radius: 50%;\n",
       "    cursor: pointer;\n",
       "    display: none;\n",
       "    fill: var(--fill-color);\n",
       "    height: 32px;\n",
       "    padding: 0;\n",
       "    width: 32px;\n",
       "  }\n",
       "\n",
       "  .colab-df-quickchart:hover {\n",
       "    background-color: var(--hover-bg-color);\n",
       "    box-shadow: 0 1px 2px rgba(60, 64, 67, 0.3), 0 1px 3px 1px rgba(60, 64, 67, 0.15);\n",
       "    fill: var(--button-hover-fill-color);\n",
       "  }\n",
       "\n",
       "  .colab-df-quickchart-complete:disabled,\n",
       "  .colab-df-quickchart-complete:disabled:hover {\n",
       "    background-color: var(--disabled-bg-color);\n",
       "    fill: var(--disabled-fill-color);\n",
       "    box-shadow: none;\n",
       "  }\n",
       "\n",
       "  .colab-df-spinner {\n",
       "    border: 2px solid var(--fill-color);\n",
       "    border-color: transparent;\n",
       "    border-bottom-color: var(--fill-color);\n",
       "    animation:\n",
       "      spin 1s steps(1) infinite;\n",
       "  }\n",
       "\n",
       "  @keyframes spin {\n",
       "    0% {\n",
       "      border-color: transparent;\n",
       "      border-bottom-color: var(--fill-color);\n",
       "      border-left-color: var(--fill-color);\n",
       "    }\n",
       "    20% {\n",
       "      border-color: transparent;\n",
       "      border-left-color: var(--fill-color);\n",
       "      border-top-color: var(--fill-color);\n",
       "    }\n",
       "    30% {\n",
       "      border-color: transparent;\n",
       "      border-left-color: var(--fill-color);\n",
       "      border-top-color: var(--fill-color);\n",
       "      border-right-color: var(--fill-color);\n",
       "    }\n",
       "    40% {\n",
       "      border-color: transparent;\n",
       "      border-right-color: var(--fill-color);\n",
       "      border-top-color: var(--fill-color);\n",
       "    }\n",
       "    60% {\n",
       "      border-color: transparent;\n",
       "      border-right-color: var(--fill-color);\n",
       "    }\n",
       "    80% {\n",
       "      border-color: transparent;\n",
       "      border-right-color: var(--fill-color);\n",
       "      border-bottom-color: var(--fill-color);\n",
       "    }\n",
       "    90% {\n",
       "      border-color: transparent;\n",
       "      border-bottom-color: var(--fill-color);\n",
       "    }\n",
       "  }\n",
       "</style>\n",
       "\n",
       "  <script>\n",
       "    async function quickchart(key) {\n",
       "      const quickchartButtonEl =\n",
       "        document.querySelector('#' + key + ' button');\n",
       "      quickchartButtonEl.disabled = true;  // To prevent multiple clicks.\n",
       "      quickchartButtonEl.classList.add('colab-df-spinner');\n",
       "      try {\n",
       "        const charts = await google.colab.kernel.invokeFunction(\n",
       "            'suggestCharts', [key], {});\n",
       "      } catch (error) {\n",
       "        console.error('Error during call to suggestCharts:', error);\n",
       "      }\n",
       "      quickchartButtonEl.classList.remove('colab-df-spinner');\n",
       "      quickchartButtonEl.classList.add('colab-df-quickchart-complete');\n",
       "    }\n",
       "    (() => {\n",
       "      let quickchartButtonEl =\n",
       "        document.querySelector('#df-48466429-2081-4b02-8725-ea1bb7104afc button');\n",
       "      quickchartButtonEl.style.display =\n",
       "        google.colab.kernel.accessAllowed ? 'block' : 'none';\n",
       "    })();\n",
       "  </script>\n",
       "</div>\n",
       "\n",
       "    </div>\n",
       "  </div>\n"
      ],
      "text/plain": [
       "                     ID  Family         0         1         2         3  \\\n",
       "0  01kcPWA9K2BOxQeS5Rju       0 -0.426271  1.495527  0.442969 -1.784287   \n",
       "1  04EjIdbPV5e1XroFOpiN       0 -0.429474  1.381561  0.241621 -0.654752   \n",
       "2  05EeG39MTRrI6VY21DPd       0 -0.386531  1.551624  0.240367 -0.513145   \n",
       "3  05rJTUWYAKNegBk2wE8X       0 -0.355359  1.305468  0.119359 -0.908725   \n",
       "4  0AnoOZDNbPXIr2MRBSCJ       0 -0.193080  1.316853 -0.107708 -0.632932   \n",
       "\n",
       "          4         5         6         7  ...        90        91        92  \\\n",
       "0  0.687246 -0.163921 -0.821085 -0.767919  ... -0.816768 -1.232931  0.312494   \n",
       "1  0.227177 -0.599185 -0.663230 -0.332880  ... -0.419219 -0.413807 -0.152669   \n",
       "2  0.496933 -0.666564 -0.377270 -0.464443  ... -0.594439 -0.584387 -0.087269   \n",
       "3  0.154450 -0.639722 -0.896534 -0.308548  ... -0.354546 -0.347760 -0.217605   \n",
       "4  0.209633 -0.560659 -0.372401 -0.302188  ... -0.367623 -0.139803 -0.225833   \n",
       "\n",
       "         93        94        95        96        97        98        99  \n",
       "0  0.956752  0.134952  0.596190 -0.748863 -0.692929  1.376552 -0.300369  \n",
       "1  0.227969  0.036689  1.294578 -0.139708 -0.803917  1.071521 -0.173929  \n",
       "2  0.306046  0.010809  1.528025 -0.402952 -0.582781  1.199226 -0.128288  \n",
       "3  0.317562  0.046546  1.289890 -0.135289 -0.718038  1.174416 -0.230006  \n",
       "4 -0.011875  0.134646  1.751419 -0.285946 -0.762208  1.015983  0.295280  \n",
       "\n",
       "[5 rows x 102 columns]"
      ]
     },
     "execution_count": 5,
     "metadata": {},
     "output_type": "execute_result"
    }
   ],
   "source": [
    "test= test.reset_index(drop = True)\n",
    "test['Family'] = test['Family'] - 1\n",
    "test.head()"
   ]
  },
  {
   "cell_type": "markdown",
   "metadata": {
    "id": "0EMMZCBbnb5a"
   },
   "source": [
    "#Utility Functions"
   ]
  },
  {
   "cell_type": "code",
   "execution_count": 6,
   "metadata": {
    "executionInfo": {
     "elapsed": 114,
     "status": "ok",
     "timestamp": 1703067455392,
     "user": {
      "displayName": "Abhignya",
      "userId": "05737312112655230415"
     },
     "user_tz": 300
    },
    "id": "9G1y__Fmnh3Y"
   },
   "outputs": [],
   "source": [
    "def train_model(data_loader, model, optimizer, device):\n",
    "  \"\"\"\n",
    "  This function does training for one epoch\n",
    "  :param data_loader: this is the pytorch dataloader\n",
    "  :param model: pytorch model\n",
    "  :param optimizer: optimizer, for e.g. adam, sgd, etc\n",
    "  :param device: cuda/cpu\n",
    "  \"\"\"\n",
    "  # put the model in train mode\n",
    "  model.train()\n",
    "  # scheduler = get_scheduler(optimizer, 'CosineAnnealingWarmRestarts')\n",
    "  # go over every batch of data in data loader\n",
    "  for data in tqdm(data_loader):\n",
    "    # remember, we have image and targets\n",
    "    # in our dataset class\n",
    "    inputs = data[\"X\"]\n",
    "    targets = data[\"targets\"]\n",
    "\n",
    "    # move inputs/targets to cuda/cpu device\n",
    "    inputs = inputs.to(device, dtype=torch.float)\n",
    "    targets = targets.to(device, dtype=torch.float)\n",
    "\n",
    "    # zero grad the optimizer\n",
    "    optimizer.zero_grad()\n",
    "    #do the forward step of model\n",
    "    outputs = model(inputs)\n",
    "    # calculate loss\n",
    "\n",
    "    loss = nn.CrossEntropyLoss()(outputs,targets.long())\n",
    "    # backward step the loss\n",
    "    loss.backward()\n",
    "    # step optimizer\n",
    "    optimizer.step()\n",
    "    # if you have a scheduler, you either need to\n",
    "    # step it here or you have to step it after\n",
    "    # the epoch. here, we are not using any learning\n",
    "    # rate scheduler\n",
    "  # scheduler.step()\n",
    "\n",
    "def evaluate_model(data_loader, model, device):\n",
    "  \"\"\"\n",
    "  This function does evaluation for one epoch\n",
    "  :param data_loader: this is the pytorch dataloader\n",
    "  :param model: pytorch model\n",
    "  :param device: cuda/cpu\n",
    "  \"\"\"\n",
    "  # put model in evaluation mode\n",
    "  model.eval()\n",
    "\n",
    "  # init lists to store targets and outputs\n",
    "  final_targets = []\n",
    "  final_outputs = []\n",
    "\n",
    "  # we use no_grad context\n",
    "  with torch.no_grad():\n",
    "    for data in tqdm(data_loader):\n",
    "      inputs = data[\"X\"]\n",
    "      targets = data[\"targets\"]\n",
    "      inputs = inputs.to(device, dtype=torch.float)\n",
    "      targets = targets.to(device, dtype=torch.float)\n",
    "\n",
    "      # do the forward step to generate prediction\n",
    "      output = model(inputs)\n",
    "\n",
    "      # convert targets and outputs to lists\n",
    "      targets = targets.detach().cpu().numpy().tolist()\n",
    "      output = output.detach().cpu().numpy().tolist()\n",
    "\n",
    "      # extend the original list\n",
    "      final_targets.extend(targets)\n",
    "      final_outputs.extend(output)\n",
    "\n",
    "  # return final output and final targets\n",
    "  return final_outputs, final_targets\n",
    "\n",
    "import os\n",
    "def save_checkpoint(model, optimizer, path):\n",
    "    if not os.path.exists(os.path.dirname(path)):\n",
    "        print(\"Creating directories on path: `{}`\".format(path))\n",
    "        os.makedirs(os.path.dirname(path))\n",
    "\n",
    "    torch.save({\n",
    "        \"model_state_dict\": model.state_dict(),\n",
    "        \"optimizer_state_dict\": optimizer.state_dict(),\n",
    "    }, path)\n",
    "\n",
    "\n",
    "def load_checkpoint(model, path):\n",
    "    checkpoint = torch.load(path)\n",
    "\n",
    "    model.load_state_dict(checkpoint[\"model_state_dict\"])\n",
    "\n",
    "    optimizer = torch.optim.Adam(model.parameters())\n",
    "    optimizer.load_state_dict(checkpoint[\"optimizer_state_dict\"])\n",
    "\n",
    "    return model, optimizer\n",
    "\n",
    "\n",
    "def save_model(model, path):\n",
    "  if not os.path.exists(os.path.dirname(path)):\n",
    "      print(\"Creating directories on path: `{}`\".format(path))\n",
    "      os.makedirs(os.path.dirname(path))\n",
    "\n",
    "  torch.save({\n",
    "      \"model_state_dict\": model.state_dict(),\n",
    "  }, path)\n",
    "\n",
    "\n",
    "def load_model(model, path):\n",
    "  restore_dict = torch.load(path)\n",
    "\n",
    "  model.load_state_dict(restore_dict[\"model_state_dict\"])\n",
    "  model.eval()\n",
    "\n",
    "  return model\n",
    "\n",
    "from torch.optim.lr_scheduler import CosineAnnealingWarmRestarts, CosineAnnealingLR, ReduceLROnPlateau\n",
    "\n",
    "def get_scheduler(optimizer, scheduler):\n",
    "    if scheduler=='ReduceLROnPlateau':\n",
    "        scheduler = ReduceLROnPlateau(optimizer, mode='min', factor=0.2, patience=4, verbose=True, eps=1e-6)\n",
    "    elif scheduler=='CosineAnnealingLR':\n",
    "        scheduler = CosineAnnealingLR(optimizer, T_max=10, eta_min=1e-6, last_epoch=-1)\n",
    "    elif scheduler=='CosineAnnealingWarmRestarts':\n",
    "        scheduler = CosineAnnealingWarmRestarts(optimizer, T_0=10, T_mult=1, eta_min=1e-6, last_epoch=-1)\n",
    "    return scheduler"
   ]
  },
  {
   "cell_type": "code",
   "execution_count": 7,
   "metadata": {
    "executionInfo": {
     "elapsed": 3,
     "status": "ok",
     "timestamp": 1703067455527,
     "user": {
      "displayName": "Abhignya",
      "userId": "05737312112655230415"
     },
     "user_tz": 300
    },
    "id": "On6O7ZhsnlMo"
   },
   "outputs": [],
   "source": [
    "LSTM_UNITS = 128\n",
    "GRU_UNITS = 128\n",
    "DENSE_HIDDEN_UNITS = 4 * LSTM_UNITS\n",
    "MAX_LEN = 100"
   ]
  },
  {
   "cell_type": "code",
   "execution_count": 8,
   "metadata": {
    "executionInfo": {
     "elapsed": 3,
     "status": "ok",
     "timestamp": 1703067455527,
     "user": {
      "displayName": "Abhignya",
      "userId": "05737312112655230415"
     },
     "user_tz": 300
    },
    "id": "E5DRtAGgnnpa"
   },
   "outputs": [],
   "source": [
    "class NeuralNet(nn.Module):\n",
    "    def __init__(self, input_shape, num_aux_targets):\n",
    "        super(NeuralNet, self).__init__()\n",
    "        self.lstm = nn.LSTM(input_shape, LSTM_UNITS, bidirectional=True, batch_first=True)\n",
    "        self.gru = nn.GRU(input_shape, GRU_UNITS, bidirectional=True, batch_first=True)\n",
    "\n",
    "        self.linear1 = nn.Linear(LSTM_UNITS*2, DENSE_HIDDEN_UNITS)\n",
    "        self.linear2 = nn.Linear(GRU_UNITS*2, DENSE_HIDDEN_UNITS)\n",
    "\n",
    "        self.attention = nn.Sequential(\n",
    "            nn.Linear(DENSE_HIDDEN_UNITS, 256),\n",
    "            nn.Tanh(),\n",
    "            nn.Linear(256, 1),\n",
    "            nn.Softmax(dim=1)\n",
    "        )\n",
    "\n",
    "\n",
    "        self.linear_out = nn.Linear(DENSE_HIDDEN_UNITS, num_aux_targets)\n",
    "        # self.linear_aux_out = nn.Linear(DENSE_HIDDEN_UNITS, num_aux_targets)\n",
    "\n",
    "    def forward(self, x):\n",
    "        x = x.view((-1,1,100))\n",
    "        h_lstm, _ = self.lstm(x)\n",
    "        h_gru, _ = self.gru(x)\n",
    "\n",
    "        h_lstm = h_lstm.squeeze()\n",
    "        h_gru = h_gru.squeeze()\n",
    "\n",
    "        # global average pooling\n",
    "        # avg_pool = torch.mean(h_lstm2, 1)\n",
    "        # global max pooling\n",
    "        # max_pool, _ = torch.max(h_lstm2, 1)\n",
    "\n",
    "        # h_conc = torch.cat((max_pool, avg_pool), 1)\n",
    "        h_conc_linear1  = F.relu(self.linear1(h_lstm))\n",
    "        h_conc_linear2  = F.relu(self.linear2(h_gru))\n",
    "\n",
    "        hidden = (h_conc_linear1 + h_conc_linear2)/2\n",
    "\n",
    "        weights = self.attention(hidden)\n",
    "\n",
    "        context_vector = weights * hidden\n",
    "\n",
    "        # print(context_vector.shape)\n",
    "        # print(weights.shape)\n",
    "        # print(hidden.shape)\n",
    "\n",
    "        results = self.linear_out(context_vector)\n",
    "\n",
    "        return nn.Softmax(dim=1)(results)"
   ]
  },
  {
   "cell_type": "code",
   "execution_count": 9,
   "metadata": {
    "executionInfo": {
     "elapsed": 145,
     "status": "ok",
     "timestamp": 1703067455670,
     "user": {
      "displayName": "Abhignya",
      "userId": "05737312112655230415"
     },
     "user_tz": 300
    },
    "id": "9LY7qRUGnpnP"
   },
   "outputs": [],
   "source": [
    "class Dataset:\n",
    "  def __init__(self, X, targets):\n",
    "    self.X = X\n",
    "    self.target = targets\n",
    "\n",
    "  def __len__(self):\n",
    "    return len(self.X)\n",
    "\n",
    "  def __getitem__(self, item):\n",
    "    X = self.X[item, :]\n",
    "    target = self.target[item]\n",
    "    return {\n",
    "      \"X\": torch.tensor(X, dtype=torch.float),\n",
    "      \"targets\": torch.tensor(target, dtype=torch.float)\n",
    "    }"
   ]
  },
  {
   "cell_type": "code",
   "execution_count": 10,
   "metadata": {
    "executionInfo": {
     "elapsed": 3,
     "status": "ok",
     "timestamp": 1703067455670,
     "user": {
      "displayName": "Abhignya",
      "userId": "05737312112655230415"
     },
     "user_tz": 300
    },
    "id": "HEYD9STdnrXq"
   },
   "outputs": [],
   "source": [
    "epochs = 50\n",
    "device = 'cpu'"
   ]
  },
  {
   "cell_type": "code",
   "execution_count": 11,
   "metadata": {
    "executionInfo": {
     "elapsed": 2,
     "status": "ok",
     "timestamp": 1703067455670,
     "user": {
      "displayName": "Abhignya",
      "userId": "05737312112655230415"
     },
     "user_tz": 300
    },
    "id": "v3cOTLVZnvAy"
   },
   "outputs": [],
   "source": [
    "def inference(data_loader, model, device):\n",
    "  model.eval()\n",
    "\n",
    "  final_outputs = []\n",
    "\n",
    "  with torch.no_grad():\n",
    "    for data in tqdm(data_loader):\n",
    "      inputs = data[\"X\"]\n",
    "\n",
    "      inputs = inputs.to(device, dtype=torch.float)\n",
    "\n",
    "      output = model(inputs)\n",
    "\n",
    "      # convert targets and outputs to lists\n",
    "      output = output.detach().cpu().numpy().tolist()\n",
    "\n",
    "      # extend the original list\n",
    "      final_outputs.extend(output)\n",
    "\n",
    "  # return final output and final targets\n",
    "  return final_outputs"
   ]
  },
  {
   "cell_type": "markdown",
   "metadata": {
    "id": "rhzKRw9kn_HH"
   },
   "source": [
    "# FGSM Append Attack"
   ]
  },
  {
   "cell_type": "code",
   "execution_count": 12,
   "metadata": {
    "executionInfo": {
     "elapsed": 119,
     "status": "ok",
     "timestamp": 1703067476484,
     "user": {
      "displayName": "Abhignya",
      "userId": "05737312112655230415"
     },
     "user_tz": 300
    },
    "id": "FXp0QNFHoDKm"
   },
   "outputs": [],
   "source": [
    "# 1:08 - 1:25\n",
    "class TestDataset:\n",
    "  def __init__(self, X):\n",
    "    self.X = X\n",
    "\n",
    "  def __len__(self):\n",
    "    return len(self.X)\n",
    "\n",
    "  def __getitem__(self, item):\n",
    "    X = self.X[item, :]\n",
    "    return {\n",
    "      \"X\": torch.tensor(X, dtype=torch.float),\n",
    "    }"
   ]
  },
  {
   "cell_type": "code",
   "execution_count": 13,
   "metadata": {
    "executionInfo": {
     "elapsed": 2,
     "status": "ok",
     "timestamp": 1703067476607,
     "user": {
      "displayName": "Abhignya",
      "userId": "05737312112655230415"
     },
     "user_tz": 300
    },
    "id": "6I_MzpGkoK04"
   },
   "outputs": [],
   "source": [
    "test_dataset = TestDataset(test.iloc[:,2:].values)\n",
    "test_loader = torch.utils.data.DataLoader(\n",
    "  test_dataset, batch_size=64, shuffle=False, num_workers=4\n",
    ")"
   ]
  },
  {
   "cell_type": "code",
   "execution_count": 14,
   "metadata": {
    "executionInfo": {
     "elapsed": 110825,
     "status": "ok",
     "timestamp": 1703067587430,
     "user": {
      "displayName": "Abhignya",
      "userId": "05737312112655230415"
     },
     "user_tz": 300
    },
    "id": "MSd7eMsDoQTN"
   },
   "outputs": [],
   "source": [
    "test2['Opcodes'] = test2['Opcodes'].apply(lambda x: str(x).replace(',',' '))\n",
    "test_encs = vectorizer.transform(test2['Opcodes'])\n",
    "test_encs = test_encs.toarray()\n",
    "test_encs = pd.DataFrame(test_encs)"
   ]
  },
  {
   "cell_type": "code",
   "execution_count": 15,
   "metadata": {
    "executionInfo": {
     "elapsed": 13,
     "status": "ok",
     "timestamp": 1703067587431,
     "user": {
      "displayName": "Abhignya",
      "userId": "05737312112655230415"
     },
     "user_tz": 300
    },
    "id": "kPzE-RPOooE-"
   },
   "outputs": [],
   "source": [
    "models_nn = [\n",
    "             '/content/drive/MyDrive/models/models_nn/model_fold0_49.pth',\n",
    "             '/content/drive/MyDrive/models/models_nn/model_fold1_49.pth',\n",
    "             '/content/drive/MyDrive/models/models_nn/model_fold2_37.pth',\n",
    "             '/content/drive/MyDrive/models/models_nn/model_fold3_47.pth',\n",
    "             '/content/drive/MyDrive/models/models_nn/model_fold4_45.pth'\n",
    "]\n",
    "models_xgb = [\n",
    "              '/content/drive/MyDrive/models/models_xgb/xgb_fold0.b5',\n",
    "              '/content/drive/MyDrive/models/models_xgb/xgb_fold1.b5',\n",
    "              '/content/drive/MyDrive/models/models_xgb/xgb_fold2.b5',\n",
    "              '/content/drive/MyDrive/models/models_xgb/xgb_fold3.b5',\n",
    "              '/content/drive/MyDrive/models/models_xgb/xgb_fold4.b5'\n",
    "]\n",
    "\n",
    "models_lgbm = [\n",
    "               '/content/drive/MyDrive/models/models_lgbm/lgbm_fold0.b5',\n",
    "               '/content/drive/MyDrive/models/models_lgbm/lgbm_fold1.b5',\n",
    "               '/content/drive/MyDrive/models/models_lgbm/lgbm_fold2.b5',\n",
    "               '/content/drive/MyDrive/models/models_lgbm/lgbm_fold3.b5',\n",
    "               '/content/drive/MyDrive/models/models_lgbm/lgbm_fold4.b5'\n",
    "]\n",
    "\n",
    "models_log=[\n",
    "               '/content/drive/MyDrive/models/models_log/logistic_reg_fold0.b5',\n",
    "               '/content/drive/MyDrive/models/models_log/logistic_reg_fold1.b5',\n",
    "               '/content/drive/MyDrive/models/models_log/logistic_reg_fold2.b5',\n",
    "               '/content/drive/MyDrive/models/models_log/logistic_reg_fold3.b5',\n",
    "               '/content/drive/MyDrive/models/models_log/logistic_reg_fold0.b5'\n",
    "]\n",
    "\n",
    "models_svm=[\n",
    "               '/content/drive/MyDrive/models/models_svm/svm_fold0.b5',\n",
    "               '/content/drive/MyDrive/models/models_svm/svm_fold1.b5',\n",
    "               '/content/drive/MyDrive/models/models_svm/svm_fold2.b5',\n",
    "               '/content/drive/MyDrive/models/models_svm/svm_fold3.b5',\n",
    "               '/content/drive/MyDrive/models/models_svm/svm_fold4.b5'\n",
    "]\n",
    "\n",
    "models_rf=[\n",
    "               '/content/drive/MyDrive/models/models_rf/random_forest_fold0.b5',\n",
    "               '/content/drive/MyDrive/models/models_rf/random_forest_fold1.b5',\n",
    "               '/content/drive/MyDrive/models/models_rf/random_forest_fold2.b5',\n",
    "               '/content/drive/MyDrive/models/models_rf/random_forest_fold3.b5',\n",
    "               '/content/drive/MyDrive/models/models_rf/random_forest_fold4.b5'\n",
    "]"
   ]
  },
  {
   "cell_type": "code",
   "execution_count": 16,
   "metadata": {
    "colab": {
     "base_uri": "https://localhost:8080/"
    },
    "executionInfo": {
     "elapsed": 17135,
     "status": "ok",
     "timestamp": 1703067604554,
     "user": {
      "displayName": "Abhignya",
      "userId": "05737312112655230415"
     },
     "user_tz": 300
    },
    "id": "DY3h_8lpoWvk",
    "outputId": "6831ad02-159d-49c5-cd52-06d1ab70d79b"
   },
   "outputs": [
    {
     "name": "stderr",
     "output_type": "stream",
     "text": [
      "100%|██████████| 170/170 [00:01<00:00, 112.03it/s]\n",
      "100%|██████████| 170/170 [00:02<00:00, 82.18it/s]\n",
      "100%|██████████| 170/170 [00:01<00:00, 105.21it/s]\n",
      "100%|██████████| 170/170 [00:01<00:00, 95.59it/s] \n",
      "100%|██████████| 170/170 [00:01<00:00, 118.71it/s]\n"
     ]
    }
   ],
   "source": [
    "preds_all = []\n",
    "for i in models_nn:\n",
    "  model = NeuralNet(100, 9).to(device)\n",
    "  model, _ = load_checkpoint(model, i)\n",
    "  nn_preds = inference(test_loader, model, device)\n",
    "  preds_all.append(nn_preds)\n",
    "final_preds=  pd.DataFrame(np.array(preds_all).mean(axis=0))\n",
    "argmax_result = final_preds.idxmax(axis=1)\n",
    "y=list(test['Family'])\n"
   ]
  },
  {
   "cell_type": "code",
   "execution_count": 17,
   "metadata": {
    "executionInfo": {
     "elapsed": 7,
     "status": "ok",
     "timestamp": 1703067604554,
     "user": {
      "displayName": "Abhignya",
      "userId": "05737312112655230415"
     },
     "user_tz": 300
    },
    "id": "ZO-cjfHnoj3y"
   },
   "outputs": [],
   "source": [
    "# Define the FGSM attack function\n",
    "def fgsm_attack(model, data, target, epsilon):\n",
    "    # Set the model in evaluation mode\n",
    "    model.eval()\n",
    "\n",
    "    # Create a copy of the input data\n",
    "    data = data.clone().detach().requires_grad_(True)\n",
    "\n",
    "    # Forward pass\n",
    "    output = model(data)\n",
    "\n",
    "    # Calculate the loss\n",
    "    loss = nn.CrossEntropyLoss()(output, target)\n",
    "\n",
    "    # Zero gradients\n",
    "    model.zero_grad()\n",
    "\n",
    "    # Backward pass\n",
    "    loss.backward()\n",
    "\n",
    "    # Collect the gradients of the input data\n",
    "    data_grad = data.grad.data\n",
    "\n",
    "    # Create perturbed data using FGSM formula\n",
    "    perturbed_data = data + epsilon * data_grad.sign()\n",
    "\n",
    "    return perturbed_data\n",
    "\n"
   ]
  },
  {
   "cell_type": "code",
   "execution_count": 18,
   "metadata": {
    "executionInfo": {
     "elapsed": 6,
     "status": "ok",
     "timestamp": 1703067604554,
     "user": {
      "displayName": "Abhignya",
      "userId": "05737312112655230415"
     },
     "user_tz": 300
    },
    "id": "NNA4vTDUpAM2"
   },
   "outputs": [],
   "source": [
    "def final_adv_sample(x):\n",
    "  final_adversarial_sample=[]\n",
    "  c=len(test)\n",
    "  for i in range(len(test)):\n",
    "    sample= (x[i]+x[i+c]+x[i+(2*c)]+x[i+(3*c)]+x[i+(4*c)])/5\n",
    "    final_adversarial_sample.append(sample)\n",
    "  return final_adversarial_sample\n",
    "#adversarial_preds_all_test=final_adv_sample(adversarial_preds_all_test)"
   ]
  },
  {
   "cell_type": "code",
   "execution_count": 19,
   "metadata": {
    "executionInfo": {
     "elapsed": 5,
     "status": "ok",
     "timestamp": 1703067604554,
     "user": {
      "displayName": "Abhignya",
      "userId": "05737312112655230415"
     },
     "user_tz": 300
    },
    "id": "fMEsiWHbpqLq"
   },
   "outputs": [],
   "source": [
    "def get_final_test_acc(x,y):\n",
    "  count=0\n",
    "  for i in range(len(x)):\n",
    "    if x[i]==y[i]:\n",
    "      count+=1\n",
    "  return count"
   ]
  },
  {
   "cell_type": "code",
   "execution_count": 20,
   "metadata": {
    "colab": {
     "base_uri": "https://localhost:8080/"
    },
    "executionInfo": {
     "elapsed": 256000,
     "status": "ok",
     "timestamp": 1703067860549,
     "user": {
      "displayName": "Abhignya",
      "userId": "05737312112655230415"
     },
     "user_tz": 300
    },
    "id": "E7Scr_cApStn",
    "outputId": "cc679c2e-5c2a-4728-f3d2-ae43b38859a4"
   },
   "outputs": [
    {
     "name": "stderr",
     "output_type": "stream",
     "text": [
      "100%|██████████| 170/170 [00:01<00:00, 98.11it/s] \n"
     ]
    },
    {
     "name": "stdout",
     "output_type": "stream",
     "text": [
      "[LightGBM] [Warning] Unknown parameter: silent\n"
     ]
    },
    {
     "name": "stderr",
     "output_type": "stream",
     "text": [
      "100%|██████████| 170/170 [00:01<00:00, 123.07it/s]\n"
     ]
    },
    {
     "name": "stdout",
     "output_type": "stream",
     "text": [
      "[LightGBM] [Warning] Unknown parameter: silent\n"
     ]
    },
    {
     "name": "stderr",
     "output_type": "stream",
     "text": [
      "100%|██████████| 170/170 [00:01<00:00, 118.33it/s]\n"
     ]
    },
    {
     "name": "stdout",
     "output_type": "stream",
     "text": [
      "[LightGBM] [Warning] Unknown parameter: silent\n"
     ]
    },
    {
     "name": "stderr",
     "output_type": "stream",
     "text": [
      "100%|██████████| 170/170 [00:01<00:00, 121.27it/s]\n"
     ]
    },
    {
     "name": "stdout",
     "output_type": "stream",
     "text": [
      "[LightGBM] [Warning] Unknown parameter: silent\n"
     ]
    },
    {
     "name": "stderr",
     "output_type": "stream",
     "text": [
      "100%|██████████| 170/170 [00:01<00:00, 120.09it/s]\n"
     ]
    },
    {
     "name": "stdout",
     "output_type": "stream",
     "text": [
      "[LightGBM] [Warning] Unknown parameter: silent\n",
      "\n",
      "For epsilon =  0.05\n",
      "\n",
      "\n",
      "Test Accuracy for Model 1 (SEA + XGBoost + LGBM) =  0.8719175561280824\n",
      "\n",
      "\n",
      "Test Accuracy for Model 2 (SEA + Logistic Regression) =  0.695068089804932\n",
      "\n",
      "\n",
      "Test Accuracy for Model 3 (SEA + SVM) =  0.6754692675745307\n",
      "\n",
      "\n",
      "Test Accuracy for Model 4 (SEA + Random Forest) =  0.8143172616856827\n",
      "\n",
      "\n",
      "\n"
     ]
    },
    {
     "name": "stderr",
     "output_type": "stream",
     "text": [
      "100%|██████████| 170/170 [00:01<00:00, 113.42it/s]\n"
     ]
    },
    {
     "name": "stdout",
     "output_type": "stream",
     "text": [
      "[LightGBM] [Warning] Unknown parameter: silent\n"
     ]
    },
    {
     "name": "stderr",
     "output_type": "stream",
     "text": [
      "100%|██████████| 170/170 [00:02<00:00, 77.35it/s]\n"
     ]
    },
    {
     "name": "stdout",
     "output_type": "stream",
     "text": [
      "[LightGBM] [Warning] Unknown parameter: silent\n"
     ]
    },
    {
     "name": "stderr",
     "output_type": "stream",
     "text": [
      "100%|██████████| 170/170 [00:01<00:00, 117.15it/s]\n"
     ]
    },
    {
     "name": "stdout",
     "output_type": "stream",
     "text": [
      "[LightGBM] [Warning] Unknown parameter: silent\n"
     ]
    },
    {
     "name": "stderr",
     "output_type": "stream",
     "text": [
      "100%|██████████| 170/170 [00:01<00:00, 114.96it/s]\n"
     ]
    },
    {
     "name": "stdout",
     "output_type": "stream",
     "text": [
      "[LightGBM] [Warning] Unknown parameter: silent\n"
     ]
    },
    {
     "name": "stderr",
     "output_type": "stream",
     "text": [
      "100%|██████████| 170/170 [00:01<00:00, 98.65it/s] \n"
     ]
    },
    {
     "name": "stdout",
     "output_type": "stream",
     "text": [
      "[LightGBM] [Warning] Unknown parameter: silent\n",
      "\n",
      "For epsilon =  0.1\n",
      "\n",
      "\n",
      "Test Accuracy for Model 1 (SEA + XGBoost + LGBM) =  0.7901177769598822\n",
      "\n",
      "\n",
      "Test Accuracy for Model 2 (SEA + Logistic Regression) =  0.5992822966507177\n",
      "\n",
      "\n",
      "Test Accuracy for Model 3 (SEA + SVM) =  0.5534596981965403\n",
      "\n",
      "\n",
      "Test Accuracy for Model 4 (SEA + Random Forest) =  0.7330695620169304\n",
      "\n",
      "\n",
      "\n"
     ]
    },
    {
     "name": "stderr",
     "output_type": "stream",
     "text": [
      "100%|██████████| 170/170 [00:01<00:00, 115.48it/s]\n"
     ]
    },
    {
     "name": "stdout",
     "output_type": "stream",
     "text": [
      "[LightGBM] [Warning] Unknown parameter: silent\n"
     ]
    },
    {
     "name": "stderr",
     "output_type": "stream",
     "text": [
      "100%|██████████| 170/170 [00:02<00:00, 76.06it/s]\n"
     ]
    },
    {
     "name": "stdout",
     "output_type": "stream",
     "text": [
      "[LightGBM] [Warning] Unknown parameter: silent\n"
     ]
    },
    {
     "name": "stderr",
     "output_type": "stream",
     "text": [
      "100%|██████████| 170/170 [00:01<00:00, 87.43it/s]\n"
     ]
    },
    {
     "name": "stdout",
     "output_type": "stream",
     "text": [
      "[LightGBM] [Warning] Unknown parameter: silent\n"
     ]
    },
    {
     "name": "stderr",
     "output_type": "stream",
     "text": [
      "100%|██████████| 170/170 [00:01<00:00, 117.94it/s]\n"
     ]
    },
    {
     "name": "stdout",
     "output_type": "stream",
     "text": [
      "[LightGBM] [Warning] Unknown parameter: silent\n"
     ]
    },
    {
     "name": "stderr",
     "output_type": "stream",
     "text": [
      "100%|██████████| 170/170 [00:02<00:00, 76.66it/s]\n"
     ]
    },
    {
     "name": "stdout",
     "output_type": "stream",
     "text": [
      "[LightGBM] [Warning] Unknown parameter: silent\n",
      "\n",
      "For epsilon =  0.15\n",
      "\n",
      "\n",
      "Test Accuracy for Model 1 (SEA + XGBoost + LGBM) =  0.7505520794994479\n",
      "\n",
      "\n",
      "Test Accuracy for Model 2 (SEA + Logistic Regression) =  0.5184026499815974\n",
      "\n",
      "\n",
      "Test Accuracy for Model 3 (SEA + SVM) =  0.4812292970187707\n",
      "\n",
      "\n",
      "Test Accuracy for Model 4 (SEA + Random Forest) =  0.6912035333087965\n",
      "\n",
      "\n",
      "\n"
     ]
    },
    {
     "name": "stderr",
     "output_type": "stream",
     "text": [
      "100%|██████████| 170/170 [00:01<00:00, 114.62it/s]\n"
     ]
    },
    {
     "name": "stdout",
     "output_type": "stream",
     "text": [
      "[LightGBM] [Warning] Unknown parameter: silent\n"
     ]
    },
    {
     "name": "stderr",
     "output_type": "stream",
     "text": [
      "100%|██████████| 170/170 [00:02<00:00, 74.72it/s]\n"
     ]
    },
    {
     "name": "stdout",
     "output_type": "stream",
     "text": [
      "[LightGBM] [Warning] Unknown parameter: silent\n"
     ]
    },
    {
     "name": "stderr",
     "output_type": "stream",
     "text": [
      "100%|██████████| 170/170 [00:02<00:00, 79.49it/s]\n"
     ]
    },
    {
     "name": "stdout",
     "output_type": "stream",
     "text": [
      "[LightGBM] [Warning] Unknown parameter: silent\n"
     ]
    },
    {
     "name": "stderr",
     "output_type": "stream",
     "text": [
      "100%|██████████| 170/170 [00:01<00:00, 101.71it/s]\n"
     ]
    },
    {
     "name": "stdout",
     "output_type": "stream",
     "text": [
      "[LightGBM] [Warning] Unknown parameter: silent\n"
     ]
    },
    {
     "name": "stderr",
     "output_type": "stream",
     "text": [
      "100%|██████████| 170/170 [00:02<00:00, 57.35it/s]\n"
     ]
    },
    {
     "name": "stdout",
     "output_type": "stream",
     "text": [
      "[LightGBM] [Warning] Unknown parameter: silent\n",
      "\n",
      "For epsilon =  0.2\n",
      "\n",
      "\n",
      "Test Accuracy for Model 1 (SEA + XGBoost + LGBM) =  0.7408906882591093\n",
      "\n",
      "\n",
      "Test Accuracy for Model 2 (SEA + Logistic Regression) =  0.41240338608759664\n",
      "\n",
      "\n",
      "Test Accuracy for Model 3 (SEA + SVM) =  0.4368789105631211\n",
      "\n",
      "\n",
      "Test Accuracy for Model 4 (SEA + Random Forest) =  0.6379278616120722\n",
      "\n",
      "\n",
      "\n"
     ]
    },
    {
     "name": "stderr",
     "output_type": "stream",
     "text": [
      "100%|██████████| 170/170 [00:01<00:00, 106.56it/s]\n"
     ]
    },
    {
     "name": "stdout",
     "output_type": "stream",
     "text": [
      "[LightGBM] [Warning] Unknown parameter: silent\n"
     ]
    },
    {
     "name": "stderr",
     "output_type": "stream",
     "text": [
      "100%|██████████| 170/170 [00:01<00:00, 103.27it/s]\n"
     ]
    },
    {
     "name": "stdout",
     "output_type": "stream",
     "text": [
      "[LightGBM] [Warning] Unknown parameter: silent\n"
     ]
    },
    {
     "name": "stderr",
     "output_type": "stream",
     "text": [
      "100%|██████████| 170/170 [00:02<00:00, 70.70it/s]\n"
     ]
    },
    {
     "name": "stdout",
     "output_type": "stream",
     "text": [
      "[LightGBM] [Warning] Unknown parameter: silent\n"
     ]
    },
    {
     "name": "stderr",
     "output_type": "stream",
     "text": [
      "100%|██████████| 170/170 [00:01<00:00, 106.73it/s]\n"
     ]
    },
    {
     "name": "stdout",
     "output_type": "stream",
     "text": [
      "[LightGBM] [Warning] Unknown parameter: silent\n"
     ]
    },
    {
     "name": "stderr",
     "output_type": "stream",
     "text": [
      "100%|██████████| 170/170 [00:01<00:00, 106.13it/s]\n"
     ]
    },
    {
     "name": "stdout",
     "output_type": "stream",
     "text": [
      "[LightGBM] [Warning] Unknown parameter: silent\n",
      "\n",
      "For epsilon =  0.25\n",
      "\n",
      "\n",
      "Test Accuracy for Model 1 (SEA + XGBoost + LGBM) =  0.735921972764078\n",
      "\n",
      "\n",
      "Test Accuracy for Model 2 (SEA + Logistic Regression) =  0.33870077291129924\n",
      "\n",
      "\n",
      "Test Accuracy for Model 3 (SEA + SVM) =  0.4055023923444976\n",
      "\n",
      "\n",
      "Test Accuracy for Model 4 (SEA + Random Forest) =  0.5825358851674641\n",
      "\n",
      "\n",
      "\n"
     ]
    }
   ],
   "source": [
    "# FGSM attack parameters\n",
    "epsilons = [0.05,0.10,0.15,0.20,0.25]  # Adjust this value based on your needs\n",
    "model1_preds_all = []\n",
    "model2_preds_all = []\n",
    "model3_preds_all = []\n",
    "model4_preds_all = []\n",
    "test_accs=[]\n",
    "\n",
    "for epsilon in epsilons:\n",
    "  # Loop through the test loader to generate adversarial examples\n",
    "  adversarial_preds_all = []\n",
    "  for z in models_nn:\n",
    "    model = NeuralNet(100, 9).to(device)\n",
    "    model, _ = load_checkpoint(model, z)\n",
    "    for i, data_batch in enumerate(test_loader):\n",
    "        inputs = data_batch[\"X\"].to(device)\n",
    "\n",
    "        # Choose the target label (ground truth label)\n",
    "        targets = torch.tensor(y[i * 64 : (i + 1) * 64], dtype=torch.long).to(device)\n",
    "\n",
    "        # Generate adversarial examples\n",
    "        adversarial_inputs = fgsm_attack(model, inputs, targets, epsilon)\n",
    "        adversarial_preds_all.append(adversarial_inputs.detach().cpu().numpy())\n",
    "  adversarial_preds_all_test = np.concatenate(adversarial_preds_all, axis=0)\n",
    "  adversarial_preds_all_test=final_adv_sample(adversarial_preds_all_test)\n",
    "  columns_to_add=[]\n",
    "  for i in range(100):\n",
    "    columns_to_add.append(str(i))\n",
    "  df = pd.DataFrame(adversarial_preds_all_test, columns=columns_to_add)\n",
    "  test_dataset = TestDataset(df.iloc[:,0:].values)\n",
    "  test_loader = torch.utils.data.DataLoader(\n",
    "    test_dataset, batch_size=64, shuffle=False, num_workers=4\n",
    "  )\n",
    "\n",
    "  preds_all = []\n",
    "  #5 fold training  \n",
    "  for model_nn, model_lgbm, model_xgb, model_log, model_svm, model_rf in zip(models_nn, models_lgbm, models_xgb, models_log, models_svm, models_rf):\n",
    "    #load model    \n",
    "    model = NeuralNet(100, 9).to(device)\n",
    "    model, _ = load_checkpoint(model, model_nn)\n",
    "    model_xgb = pickle.load(open(model_xgb, 'rb'))\n",
    "    model_lgbm = pickle.load(open(model_lgbm, 'rb'))\n",
    "    model_log = pickle.load(open(model_log, 'rb'))\n",
    "    model_svm = pickle.load(open(model_svm, 'rb'))\n",
    "    model_rf = pickle.load(open(model_rf, 'rb'))\n",
    "    #generate base model predictions\n",
    "    nn_preds = inference(test_loader, model, device)\n",
    "    lgbm_preds = model_lgbm.predict_proba(test_encs.values)\n",
    "    xgb_preds = model_xgb.predict_proba(test_encs.values)\n",
    "    log_preds = model_log.predict_proba(test_encs.values)\n",
    "    svm_preds = model_svm.predict_proba(test_encs.values)\n",
    "    rf_preds = model_rf.predict_proba(test_encs.values)\n",
    "    #predictions for ensemble models\n",
    "    model1_preds = np.array(nn_preds) * 0.33 + lgbm_preds * 0.33 + xgb_preds * 0.33\n",
    "    model2_preds = np.array(nn_preds) * 0.50 + log_preds * 0.50\n",
    "    model3_preds=np.array(nn_preds) * 0.50 + svm_preds * 0.50\n",
    "    model4_preds = np.array(nn_preds) * 0.50 + rf_preds * 0.50\n",
    "\n",
    "\n",
    "    model1_preds_all.append(model1_preds)\n",
    "    model2_preds_all.append(model2_preds)\n",
    "    model3_preds_all.append(model3_preds)\n",
    "    model4_preds_all.append(model4_preds)\n",
    "\n",
    "  print(\"\\nFor epsilon = \",epsilon)\n",
    "  #averaging predictions over 5 folds and get Test accuracy  \n",
    "  model1_final_preds=  pd.DataFrame(np.array(model1_preds_all).mean(axis=0))\n",
    "  model1_final_preds = model1_final_preds.idxmax(axis=1)\n",
    "  model1_final_test_acc = (get_final_test_acc(test['Family'],model1_final_preds))/len(model1_final_preds)\n",
    "  test_accs.append(model1_final_test_acc)\n",
    "  print(\"\\n\\nTest Accuracy for Model 1 (SEA + XGBoost + LGBM) = \",model1_final_test_acc)\n",
    "\n",
    "  #averaging predictions over 5 folds and get Test accuracy  \n",
    "  model2_final_preds=  pd.DataFrame(np.array(model2_preds_all).mean(axis=0))\n",
    "  model2_final_preds = model2_final_preds.idxmax(axis=1)\n",
    "  model2_final_test_acc = (get_final_test_acc(test['Family'],model2_final_preds))/len(model2_final_preds)\n",
    "  test_accs.append(model2_final_test_acc)\n",
    "  print(\"\\n\\nTest Accuracy for Model 2 (SEA + Logistic Regression) = \",model2_final_test_acc)\n",
    "\n",
    "  #averaging predictions over 5 folds and get Test accuracy  \n",
    "  model3_final_preds=  pd.DataFrame(np.array(model3_preds_all).mean(axis=0))\n",
    "  model3_final_preds = model3_final_preds.idxmax(axis=1)\n",
    "  model3_final_test_acc = (get_final_test_acc(test['Family'],model3_final_preds))/len(model3_final_preds)\n",
    "  test_accs.append(model3_final_test_acc)\n",
    "  print(\"\\n\\nTest Accuracy for Model 3 (SEA + SVM) = \",model3_final_test_acc)\n",
    "\n",
    "  #averaging predictions over 5 folds and get Test accuracy  \n",
    "  model4_final_preds=  pd.DataFrame(np.array(model4_preds_all).mean(axis=0))\n",
    "  model4_final_preds = model4_final_preds.idxmax(axis=1)\n",
    "  model4_final_test_acc = (get_final_test_acc(test['Family'],model4_final_preds))/len(model4_final_preds)\n",
    "  test_accs.append(model4_final_test_acc)\n",
    "  print(\"\\n\\nTest Accuracy for Model 4 (SEA + Random Forest) = \",model4_final_test_acc)\n",
    "\n",
    "  print(\"\\n\\n\")\n",
    "\n"
   ]
  },
  {
   "cell_type": "code",
   "execution_count": 22,
   "metadata": {
    "executionInfo": {
     "elapsed": 214,
     "status": "ok",
     "timestamp": 1703068099008,
     "user": {
      "displayName": "Abhignya",
      "userId": "05737312112655230415"
     },
     "user_tz": 300
    },
    "id": "E1QFO4ZcwayV"
   },
   "outputs": [],
   "source": [
    "model1_test_acc=[]\n",
    "model2_test_acc=[]\n",
    "model3_test_acc=[]\n",
    "model4_test_acc=[]\n",
    "model5_test_acc=[]\n",
    "\n",
    "for i in range(5):\n",
    "  z=4*i\n",
    "  model1_test_acc.append(test_accs[z])\n",
    "  model2_test_acc.append(test_accs[z+1])\n",
    "  model3_test_acc.append(test_accs[z+2])\n",
    "  model4_test_acc.append(test_accs[z+3])\n"
   ]
  },
  {
   "cell_type": "code",
   "execution_count": 23,
   "metadata": {
    "colab": {
     "base_uri": "https://localhost:8080/",
     "height": 564
    },
    "executionInfo": {
     "elapsed": 752,
     "status": "ok",
     "timestamp": 1703068200205,
     "user": {
      "displayName": "Abhignya",
      "userId": "05737312112655230415"
     },
     "user_tz": 300
    },
    "id": "vVKFbHu8wdWJ",
    "outputId": "ce5c89b3-cf60-4189-f297-789cca0cf79a"
   },
   "outputs": [
    {
     "data": {
      "image/png": "[encoded data removed]",
      "text/plain": [
       "<Figure size 1000x600 with 1 Axes>"
      ]
     },
     "metadata": {},
     "output_type": "display_data"
    }
   ],
   "source": [
    "plt.figure(figsize=(10, 6))\n",
    "\n",
    "# Plotting test accuracies for each model\n",
    "plt.plot(epsilons, model1_test_acc, label='Model 1 (SEA + XGBoost + LGBM)')\n",
    "plt.plot(epsilons, model2_test_acc, label='Model 2 (SEA + Logistic Regression)')\n",
    "plt.plot(epsilons, model3_test_acc, label='Model 3 (SEA + SVM)')\n",
    "plt.plot(epsilons, model4_test_acc, label='Model 4 (SEA + Random Forest)')\n",
    "\n",
    "plt.legend()\n",
    "plt.xlabel('Epsilon')\n",
    "plt.ylabel('Test Accuracy')\n",
    "plt.title('Epsilon vs Test Accuracy for Multiple Models')\n",
    "plt.show()"
   ]
  },
  {
   "cell_type": "markdown",
   "metadata": {
    "id": "40QSqWBYxs_E"
   },
   "source": [
    "# Adversarial Retraining Defense"
   ]
  },
  {
   "cell_type": "markdown",
   "metadata": {
    "id": "C3DqtYwR188M"
   },
   "source": [
    "## Adversarial Retraining"
   ]
  },
  {
   "cell_type": "code",
   "execution_count": 24,
   "metadata": {
    "executionInfo": {
     "elapsed": 24074,
     "status": "ok",
     "timestamp": 1703068371398,
     "user": {
      "displayName": "Abhignya",
      "userId": "05737312112655230415"
     },
     "user_tz": 300
    },
    "id": "Jb_KQ67fx1RV"
   },
   "outputs": [],
   "source": [
    "test2 = pd.read_csv('/content/drive/MyDrive/data/appended_new_opcodes.csv')\n",
    "test = pd.read_csv('/content/drive/MyDrive/data/appended_result_embed.csv')"
   ]
  },
  {
   "cell_type": "code",
   "execution_count": 25,
   "metadata": {
    "executionInfo": {
     "elapsed": 209,
     "status": "ok",
     "timestamp": 1703068377230,
     "user": {
      "displayName": "Abhignya",
      "userId": "05737312112655230415"
     },
     "user_tz": 300
    },
    "id": "f-eVC2ChyKlm"
   },
   "outputs": [],
   "source": [
    "test2= pd.DataFrame(test['ID']).merge(test2, on='ID').reset_index(drop = True)"
   ]
  },
  {
   "cell_type": "code",
   "execution_count": 26,
   "metadata": {
    "executionInfo": {
     "elapsed": 216,
     "status": "ok",
     "timestamp": 1703068378563,
     "user": {
      "displayName": "Abhignya",
      "userId": "05737312112655230415"
     },
     "user_tz": 300
    },
    "id": "fFCdutrMyP00"
   },
   "outputs": [],
   "source": [
    "test_dataset = TestDataset(test.iloc[:,2:].values)\n",
    "test_loader = torch.utils.data.DataLoader(\n",
    "  test_dataset, batch_size=64, shuffle=False, num_workers=4\n",
    ")"
   ]
  },
  {
   "cell_type": "code",
   "execution_count": 27,
   "metadata": {
    "executionInfo": {
     "elapsed": 118638,
     "status": "ok",
     "timestamp": 1703068505613,
     "user": {
      "displayName": "Abhignya",
      "userId": "05737312112655230415"
     },
     "user_tz": 300
    },
    "id": "Sarl-BuCyS15"
   },
   "outputs": [],
   "source": [
    "test2['Opcodes'] = test2['Opcodes'].apply(lambda x: str(x).replace(',',' '))\n",
    "test_encs = vectorizer.transform(test2['Opcodes'])\n",
    "test_encs = test_encs.toarray()\n",
    "test_encs = pd.DataFrame(test_encs)"
   ]
  },
  {
   "cell_type": "code",
   "execution_count": 28,
   "metadata": {
    "colab": {
     "base_uri": "https://localhost:8080/"
    },
    "executionInfo": {
     "elapsed": 10338,
     "status": "ok",
     "timestamp": 1703068533496,
     "user": {
      "displayName": "Abhignya",
      "userId": "05737312112655230415"
     },
     "user_tz": 300
    },
    "id": "0OUvNk8QyWFB",
    "outputId": "4d07059e-107a-4a77-f75a-40a381b8b899"
   },
   "outputs": [
    {
     "name": "stderr",
     "output_type": "stream",
     "text": [
      "100%|██████████| 170/170 [00:02<00:00, 63.27it/s]\n",
      "100%|██████████| 170/170 [00:01<00:00, 91.13it/s] \n",
      "100%|██████████| 170/170 [00:01<00:00, 104.00it/s]\n",
      "100%|██████████| 170/170 [00:01<00:00, 104.72it/s]\n",
      "100%|██████████| 170/170 [00:01<00:00, 99.93it/s] \n"
     ]
    }
   ],
   "source": [
    "preds_all = []\n",
    "for i in models_nn:\n",
    "  model = NeuralNet(100, 9).to(device)\n",
    "  model, _ = load_checkpoint(model, i)\n",
    "  nn_preds = inference(test_loader, model, device)\n",
    "  preds_all.append(nn_preds)\n",
    "final_preds=  pd.DataFrame(np.array(preds_all).mean(axis=0))\n",
    "argmax_result = final_preds.idxmax(axis=1)\n",
    "y=list(test['Family']-1)\n"
   ]
  },
  {
   "cell_type": "code",
   "execution_count": 29,
   "metadata": {
    "colab": {
     "base_uri": "https://localhost:8080/",
     "height": 255
    },
    "executionInfo": {
     "elapsed": 20519,
     "status": "ok",
     "timestamp": 1703068559454,
     "user": {
      "displayName": "Abhignya",
      "userId": "05737312112655230415"
     },
     "user_tz": 300
    },
    "id": "0-pvD2zLyjai",
    "outputId": "0a02f0df-4591-47ce-d91f-519065a10ff2"
   },
   "outputs": [
    {
     "data": {
      "text/html": [
       "\n",
       "  <div id=\"df-b7e6ad5b-7c71-4421-aa22-238b30bca634\" class=\"colab-df-container\">\n",
       "    <div>\n",
       "<style scoped>\n",
       "    .dataframe tbody tr th:only-of-type {\n",
       "        vertical-align: middle;\n",
       "    }\n",
       "\n",
       "    .dataframe tbody tr th {\n",
       "        vertical-align: top;\n",
       "    }\n",
       "\n",
       "    .dataframe thead th {\n",
       "        text-align: right;\n",
       "    }\n",
       "</style>\n",
       "<table border=\"1\" class=\"dataframe\">\n",
       "  <thead>\n",
       "    <tr style=\"text-align: right;\">\n",
       "      <th></th>\n",
       "      <th>ID</th>\n",
       "      <th>Family</th>\n",
       "      <th>0</th>\n",
       "      <th>1</th>\n",
       "      <th>2</th>\n",
       "      <th>3</th>\n",
       "      <th>4</th>\n",
       "      <th>5</th>\n",
       "      <th>6</th>\n",
       "      <th>7</th>\n",
       "      <th>...</th>\n",
       "      <th>90</th>\n",
       "      <th>91</th>\n",
       "      <th>92</th>\n",
       "      <th>93</th>\n",
       "      <th>94</th>\n",
       "      <th>95</th>\n",
       "      <th>96</th>\n",
       "      <th>97</th>\n",
       "      <th>98</th>\n",
       "      <th>99</th>\n",
       "    </tr>\n",
       "  </thead>\n",
       "  <tbody>\n",
       "    <tr>\n",
       "      <th>0</th>\n",
       "      <td>01kcPWA9K2BOxQeS5Rju</td>\n",
       "      <td>1</td>\n",
       "      <td>-0.576271</td>\n",
       "      <td>1.585527</td>\n",
       "      <td>0.352969</td>\n",
       "      <td>-1.754287</td>\n",
       "      <td>0.657246</td>\n",
       "      <td>-0.013921</td>\n",
       "      <td>-0.671085</td>\n",
       "      <td>-0.677919</td>\n",
       "      <td>...</td>\n",
       "      <td>-0.906768</td>\n",
       "      <td>-1.322931</td>\n",
       "      <td>0.462494</td>\n",
       "      <td>0.806752</td>\n",
       "      <td>0.104952</td>\n",
       "      <td>0.446190</td>\n",
       "      <td>-0.898863</td>\n",
       "      <td>-0.782929</td>\n",
       "      <td>1.526552</td>\n",
       "      <td>-0.210369</td>\n",
       "    </tr>\n",
       "    <tr>\n",
       "      <th>1</th>\n",
       "      <td>04EjIdbPV5e1XroFOpiN</td>\n",
       "      <td>1</td>\n",
       "      <td>-0.579475</td>\n",
       "      <td>1.471561</td>\n",
       "      <td>0.091621</td>\n",
       "      <td>-0.564752</td>\n",
       "      <td>0.077177</td>\n",
       "      <td>-0.449185</td>\n",
       "      <td>-0.573230</td>\n",
       "      <td>-0.182880</td>\n",
       "      <td>...</td>\n",
       "      <td>-0.509219</td>\n",
       "      <td>-0.563807</td>\n",
       "      <td>-0.002669</td>\n",
       "      <td>0.077969</td>\n",
       "      <td>-0.113311</td>\n",
       "      <td>1.204578</td>\n",
       "      <td>-0.289708</td>\n",
       "      <td>-0.953917</td>\n",
       "      <td>1.161521</td>\n",
       "      <td>-0.023929</td>\n",
       "    </tr>\n",
       "    <tr>\n",
       "      <th>2</th>\n",
       "      <td>05EeG39MTRrI6VY21DPd</td>\n",
       "      <td>1</td>\n",
       "      <td>-0.536531</td>\n",
       "      <td>1.461624</td>\n",
       "      <td>0.090367</td>\n",
       "      <td>-0.483145</td>\n",
       "      <td>0.346933</td>\n",
       "      <td>-0.516564</td>\n",
       "      <td>-0.227270</td>\n",
       "      <td>-0.314443</td>\n",
       "      <td>...</td>\n",
       "      <td>-0.684439</td>\n",
       "      <td>-0.674387</td>\n",
       "      <td>0.062731</td>\n",
       "      <td>0.156046</td>\n",
       "      <td>-0.019191</td>\n",
       "      <td>1.438025</td>\n",
       "      <td>-0.552952</td>\n",
       "      <td>-0.732781</td>\n",
       "      <td>1.349226</td>\n",
       "      <td>0.021712</td>\n",
       "    </tr>\n",
       "    <tr>\n",
       "      <th>3</th>\n",
       "      <td>05rJTUWYAKNegBk2wE8X</td>\n",
       "      <td>1</td>\n",
       "      <td>-0.505359</td>\n",
       "      <td>1.395468</td>\n",
       "      <td>-0.030641</td>\n",
       "      <td>-0.818725</td>\n",
       "      <td>0.004450</td>\n",
       "      <td>-0.489722</td>\n",
       "      <td>-0.746534</td>\n",
       "      <td>-0.158548</td>\n",
       "      <td>...</td>\n",
       "      <td>-0.444547</td>\n",
       "      <td>-0.497760</td>\n",
       "      <td>-0.067605</td>\n",
       "      <td>0.167562</td>\n",
       "      <td>-0.103454</td>\n",
       "      <td>1.139890</td>\n",
       "      <td>-0.285289</td>\n",
       "      <td>-0.868038</td>\n",
       "      <td>1.264416</td>\n",
       "      <td>-0.080006</td>\n",
       "    </tr>\n",
       "    <tr>\n",
       "      <th>4</th>\n",
       "      <td>0AnoOZDNbPXIr2MRBSCJ</td>\n",
       "      <td>1</td>\n",
       "      <td>-0.343080</td>\n",
       "      <td>1.166853</td>\n",
       "      <td>-0.257708</td>\n",
       "      <td>-0.542932</td>\n",
       "      <td>0.059633</td>\n",
       "      <td>-0.410659</td>\n",
       "      <td>-0.222401</td>\n",
       "      <td>-0.152188</td>\n",
       "      <td>...</td>\n",
       "      <td>-0.397623</td>\n",
       "      <td>-0.169803</td>\n",
       "      <td>-0.075833</td>\n",
       "      <td>-0.161875</td>\n",
       "      <td>0.224646</td>\n",
       "      <td>1.781419</td>\n",
       "      <td>-0.435946</td>\n",
       "      <td>-0.852208</td>\n",
       "      <td>1.165983</td>\n",
       "      <td>0.445280</td>\n",
       "    </tr>\n",
       "  </tbody>\n",
       "</table>\n",
       "<p>5 rows × 102 columns</p>\n",
       "</div>\n",
       "    <div class=\"colab-df-buttons\">\n",
       "\n",
       "  <div class=\"colab-df-container\">\n",
       "    <button class=\"colab-df-convert\" onclick=\"convertToInteractive('df-b7e6ad5b-7c71-4421-aa22-238b30bca634')\"\n",
       "            title=\"Convert this dataframe to an interactive table.\"\n",
       "            style=\"display:none;\">\n",
       "\n",
       "  <svg xmlns=\"http://www.w3.org/2000/svg\" height=\"24px\" viewBox=\"0 -960 960 960\">\n",
       "    <path d=\"M120-120v-720h720v720H120Zm60-500h600v-160H180v160Zm220 220h160v-160H400v160Zm0 220h160v-160H400v160ZM180-400h160v-160H180v160Zm440 0h160v-160H620v160ZM180-180h160v-160H180v160Zm440 0h160v-160H620v160Z\"/>\n",
       "  </svg>\n",
       "    </button>\n",
       "\n",
       "  <style>\n",
       "    .colab-df-container {\n",
       "      display:flex;\n",
       "      gap: 12px;\n",
       "    }\n",
       "\n",
       "    .colab-df-convert {\n",
       "      background-color: #E8F0FE;\n",
       "      border: none;\n",
       "      border-radius: 50%;\n",
       "      cursor: pointer;\n",
       "      display: none;\n",
       "      fill: #1967D2;\n",
       "      height: 32px;\n",
       "      padding: 0 0 0 0;\n",
       "      width: 32px;\n",
       "    }\n",
       "\n",
       "    .colab-df-convert:hover {\n",
       "      background-color: #E2EBFA;\n",
       "      box-shadow: 0px 1px 2px rgba(60, 64, 67, 0.3), 0px 1px 3px 1px rgba(60, 64, 67, 0.15);\n",
       "      fill: #174EA6;\n",
       "    }\n",
       "\n",
       "    .colab-df-buttons div {\n",
       "      margin-bottom: 4px;\n",
       "    }\n",
       "\n",
       "    [theme=dark] .colab-df-convert {\n",
       "      background-color: #3B4455;\n",
       "      fill: #D2E3FC;\n",
       "    }\n",
       "\n",
       "    [theme=dark] .colab-df-convert:hover {\n",
       "      background-color: #434B5C;\n",
       "      box-shadow: 0px 1px 3px 1px rgba(0, 0, 0, 0.15);\n",
       "      filter: drop-shadow(0px 1px 2px rgba(0, 0, 0, 0.3));\n",
       "      fill: #FFFFFF;\n",
       "    }\n",
       "  </style>\n",
       "\n",
       "    <script>\n",
       "      const buttonEl =\n",
       "        document.querySelector('#df-b7e6ad5b-7c71-4421-aa22-238b30bca634 button.colab-df-convert');\n",
       "      buttonEl.style.display =\n",
       "        google.colab.kernel.accessAllowed ? 'block' : 'none';\n",
       "\n",
       "      async function convertToInteractive(key) {\n",
       "        const element = document.querySelector('#df-b7e6ad5b-7c71-4421-aa22-238b30bca634');\n",
       "        const dataTable =\n",
       "          await google.colab.kernel.invokeFunction('convertToInteractive',\n",
       "                                                    [key], {});\n",
       "        if (!dataTable) return;\n",
       "\n",
       "        const docLinkHtml = 'Like what you see? Visit the ' +\n",
       "          '<a target=\"_blank\" href=https://colab.research.google.com/notebooks/data_table.ipynb>data table notebook</a>'\n",
       "          + ' to learn more about interactive tables.';\n",
       "        element.innerHTML = '';\n",
       "        dataTable['output_type'] = 'display_data';\n",
       "        await google.colab.output.renderOutput(dataTable, element);\n",
       "        const docLink = document.createElement('div');\n",
       "        docLink.innerHTML = docLinkHtml;\n",
       "        element.appendChild(docLink);\n",
       "      }\n",
       "    </script>\n",
       "  </div>\n",
       "\n",
       "\n",
       "<div id=\"df-1588c470-30ac-4947-bbbc-8e1d9c88eebc\">\n",
       "  <button class=\"colab-df-quickchart\" onclick=\"quickchart('df-1588c470-30ac-4947-bbbc-8e1d9c88eebc')\"\n",
       "            title=\"Suggest charts\"\n",
       "            style=\"display:none;\">\n",
       "\n",
       "<svg xmlns=\"http://www.w3.org/2000/svg\" height=\"24px\"viewBox=\"0 0 24 24\"\n",
       "     width=\"24px\">\n",
       "    <g>\n",
       "        <path d=\"M19 3H5c-1.1 0-2 .9-2 2v14c0 1.1.9 2 2 2h14c1.1 0 2-.9 2-2V5c0-1.1-.9-2-2-2zM9 17H7v-7h2v7zm4 0h-2V7h2v10zm4 0h-2v-4h2v4z\"/>\n",
       "    </g>\n",
       "</svg>\n",
       "  </button>\n",
       "\n",
       "<style>\n",
       "  .colab-df-quickchart {\n",
       "      --bg-color: #E8F0FE;\n",
       "      --fill-color: #1967D2;\n",
       "      --hover-bg-color: #E2EBFA;\n",
       "      --hover-fill-color: #174EA6;\n",
       "      --disabled-fill-color: #AAA;\n",
       "      --disabled-bg-color: #DDD;\n",
       "  }\n",
       "\n",
       "  [theme=dark] .colab-df-quickchart {\n",
       "      --bg-color: #3B4455;\n",
       "      --fill-color: #D2E3FC;\n",
       "      --hover-bg-color: #434B5C;\n",
       "      --hover-fill-color: #FFFFFF;\n",
       "      --disabled-bg-color: #3B4455;\n",
       "      --disabled-fill-color: #666;\n",
       "  }\n",
       "\n",
       "  .colab-df-quickchart {\n",
       "    background-color: var(--bg-color);\n",
       "    border: none;\n",
       "    border-radius: 50%;\n",
       "    cursor: pointer;\n",
       "    display: none;\n",
       "    fill: var(--fill-color);\n",
       "    height: 32px;\n",
       "    padding: 0;\n",
       "    width: 32px;\n",
       "  }\n",
       "\n",
       "  .colab-df-quickchart:hover {\n",
       "    background-color: var(--hover-bg-color);\n",
       "    box-shadow: 0 1px 2px rgba(60, 64, 67, 0.3), 0 1px 3px 1px rgba(60, 64, 67, 0.15);\n",
       "    fill: var(--button-hover-fill-color);\n",
       "  }\n",
       "\n",
       "  .colab-df-quickchart-complete:disabled,\n",
       "  .colab-df-quickchart-complete:disabled:hover {\n",
       "    background-color: var(--disabled-bg-color);\n",
       "    fill: var(--disabled-fill-color);\n",
       "    box-shadow: none;\n",
       "  }\n",
       "\n",
       "  .colab-df-spinner {\n",
       "    border: 2px solid var(--fill-color);\n",
       "    border-color: transparent;\n",
       "    border-bottom-color: var(--fill-color);\n",
       "    animation:\n",
       "      spin 1s steps(1) infinite;\n",
       "  }\n",
       "\n",
       "  @keyframes spin {\n",
       "    0% {\n",
       "      border-color: transparent;\n",
       "      border-bottom-color: var(--fill-color);\n",
       "      border-left-color: var(--fill-color);\n",
       "    }\n",
       "    20% {\n",
       "      border-color: transparent;\n",
       "      border-left-color: var(--fill-color);\n",
       "      border-top-color: var(--fill-color);\n",
       "    }\n",
       "    30% {\n",
       "      border-color: transparent;\n",
       "      border-left-color: var(--fill-color);\n",
       "      border-top-color: var(--fill-color);\n",
       "      border-right-color: var(--fill-color);\n",
       "    }\n",
       "    40% {\n",
       "      border-color: transparent;\n",
       "      border-right-color: var(--fill-color);\n",
       "      border-top-color: var(--fill-color);\n",
       "    }\n",
       "    60% {\n",
       "      border-color: transparent;\n",
       "      border-right-color: var(--fill-color);\n",
       "    }\n",
       "    80% {\n",
       "      border-color: transparent;\n",
       "      border-right-color: var(--fill-color);\n",
       "      border-bottom-color: var(--fill-color);\n",
       "    }\n",
       "    90% {\n",
       "      border-color: transparent;\n",
       "      border-bottom-color: var(--fill-color);\n",
       "    }\n",
       "  }\n",
       "</style>\n",
       "\n",
       "  <script>\n",
       "    async function quickchart(key) {\n",
       "      const quickchartButtonEl =\n",
       "        document.querySelector('#' + key + ' button');\n",
       "      quickchartButtonEl.disabled = true;  // To prevent multiple clicks.\n",
       "      quickchartButtonEl.classList.add('colab-df-spinner');\n",
       "      try {\n",
       "        const charts = await google.colab.kernel.invokeFunction(\n",
       "            'suggestCharts', [key], {});\n",
       "      } catch (error) {\n",
       "        console.error('Error during call to suggestCharts:', error);\n",
       "      }\n",
       "      quickchartButtonEl.classList.remove('colab-df-spinner');\n",
       "      quickchartButtonEl.classList.add('colab-df-quickchart-complete');\n",
       "    }\n",
       "    (() => {\n",
       "      let quickchartButtonEl =\n",
       "        document.querySelector('#df-1588c470-30ac-4947-bbbc-8e1d9c88eebc button');\n",
       "      quickchartButtonEl.style.display =\n",
       "        google.colab.kernel.accessAllowed ? 'block' : 'none';\n",
       "    })();\n",
       "  </script>\n",
       "</div>\n",
       "\n",
       "    </div>\n",
       "  </div>\n"
      ],
      "text/plain": [
       "                     ID  Family         0         1         2         3  \\\n",
       "0  01kcPWA9K2BOxQeS5Rju       1 -0.576271  1.585527  0.352969 -1.754287   \n",
       "1  04EjIdbPV5e1XroFOpiN       1 -0.579475  1.471561  0.091621 -0.564752   \n",
       "2  05EeG39MTRrI6VY21DPd       1 -0.536531  1.461624  0.090367 -0.483145   \n",
       "3  05rJTUWYAKNegBk2wE8X       1 -0.505359  1.395468 -0.030641 -0.818725   \n",
       "4  0AnoOZDNbPXIr2MRBSCJ       1 -0.343080  1.166853 -0.257708 -0.542932   \n",
       "\n",
       "          4         5         6         7  ...        90        91        92  \\\n",
       "0  0.657246 -0.013921 -0.671085 -0.677919  ... -0.906768 -1.322931  0.462494   \n",
       "1  0.077177 -0.449185 -0.573230 -0.182880  ... -0.509219 -0.563807 -0.002669   \n",
       "2  0.346933 -0.516564 -0.227270 -0.314443  ... -0.684439 -0.674387  0.062731   \n",
       "3  0.004450 -0.489722 -0.746534 -0.158548  ... -0.444547 -0.497760 -0.067605   \n",
       "4  0.059633 -0.410659 -0.222401 -0.152188  ... -0.397623 -0.169803 -0.075833   \n",
       "\n",
       "         93        94        95        96        97        98        99  \n",
       "0  0.806752  0.104952  0.446190 -0.898863 -0.782929  1.526552 -0.210369  \n",
       "1  0.077969 -0.113311  1.204578 -0.289708 -0.953917  1.161521 -0.023929  \n",
       "2  0.156046 -0.019191  1.438025 -0.552952 -0.732781  1.349226  0.021712  \n",
       "3  0.167562 -0.103454  1.139890 -0.285289 -0.868038  1.264416 -0.080006  \n",
       "4 -0.161875  0.224646  1.781419 -0.435946 -0.852208  1.165983  0.445280  \n",
       "\n",
       "[5 rows x 102 columns]"
      ]
     },
     "execution_count": 29,
     "metadata": {},
     "output_type": "execute_result"
    }
   ],
   "source": [
    "# FGSM attack parameters\n",
    "epsilon = 0.15  # Adjust this value based on your needs\n",
    "\n",
    "# Loop through the test loader to generate adversarial examples\n",
    "adversarial_preds_all = []\n",
    "for z in models_nn:\n",
    "  model = NeuralNet(100, 9).to(device)\n",
    "  model, _ = load_checkpoint(model, z)\n",
    "  for i, data_batch in enumerate(test_loader):\n",
    "      inputs = data_batch[\"X\"].to(device)\n",
    "\n",
    "      # Choose the target label (ground truth label)\n",
    "      targets = torch.tensor(y[i * 64 : (i + 1) * 64], dtype=torch.long).to(device)\n",
    "\n",
    "      # Generate adversarial examples\n",
    "      adversarial_inputs = fgsm_attack(model, inputs, targets, epsilon)\n",
    "      adversarial_preds_all.append(adversarial_inputs.detach().cpu().numpy())\n",
    "adversarial_preds_all_test = np.concatenate(adversarial_preds_all, axis=0)\n",
    "adversarial_preds_all_test=final_adv_sample(adversarial_preds_all_test)\n",
    "columns_to_add=[]\n",
    "for i in range(100):\n",
    "  columns_to_add.append(str(i))\n",
    "df = pd.DataFrame(adversarial_preds_all_test, columns=columns_to_add)\n",
    "id=test['ID']\n",
    "target=test['Family']\n",
    "df=pd.concat([id,target, df], axis=1)\n",
    "df.head()"
   ]
  },
  {
   "cell_type": "code",
   "execution_count": 30,
   "metadata": {
    "executionInfo": {
     "elapsed": 22953,
     "status": "ok",
     "timestamp": 1703068602929,
     "user": {
      "displayName": "Abhignya",
      "userId": "05737312112655230415"
     },
     "user_tz": 300
    },
    "id": "Zq6vYpXvy7iq"
   },
   "outputs": [],
   "source": [
    "#Load original Data\n",
    "orig_test=pd.read_csv('/content/drive/MyDrive/data/result_embed.csv')\n",
    "orig_test2=pd.read_csv('/content/drive/MyDrive/data/dataset.csv')\n",
    "orig_test2= pd.DataFrame(orig_test['ID']).merge(orig_test2, on='ID').reset_index(drop = True)\n",
    "orig_test2['Opcodes'] = orig_test2['Opcodes'].apply(lambda x: str(x).replace(',',' '))\n",
    "orig_test2.drop(columns=['Family'], inplace=True)\n"
   ]
  },
  {
   "cell_type": "code",
   "execution_count": 31,
   "metadata": {
    "executionInfo": {
     "elapsed": 17214,
     "status": "ok",
     "timestamp": 1703068623605,
     "user": {
      "displayName": "Abhignya",
      "userId": "05737312112655230415"
     },
     "user_tz": 300
    },
    "id": "lGpVTMqZzEkC"
   },
   "outputs": [],
   "source": [
    "#load data after append attack\n",
    "test2 = pd.read_csv('/content/drive/MyDrive/data/appended_new_opcodes.csv')\n",
    "test = pd.read_csv('/content/drive/MyDrive/data/appended_result_embed.csv')\n",
    "test2= pd.DataFrame(test['ID']).merge(test2, on='ID').reset_index(drop = True)\n",
    "test2.drop(columns=['Family'], inplace=True)\n",
    "#Combine datasets for retraining\n",
    "final_embed=pd.concat([orig_test, df], ignore_index=True)\n",
    "final_op=pd.concat([orig_test2, test2], ignore_index=True)"
   ]
  },
  {
   "cell_type": "code",
   "execution_count": 32,
   "metadata": {
    "executionInfo": {
     "elapsed": 255677,
     "status": "ok",
     "timestamp": 1703068914023,
     "user": {
      "displayName": "Abhignya",
      "userId": "05737312112655230415"
     },
     "user_tz": 300
    },
    "id": "aQGZqbfrzKik"
   },
   "outputs": [],
   "source": [
    "vectorizer = TfidfVectorizer()\n",
    "tf_encs = vectorizer.fit_transform(final_op['Opcodes'])\n",
    "tf_encs = tf_encs.toarray()\n",
    "Xx = pd.DataFrame(tf_encs)"
   ]
  },
  {
   "cell_type": "code",
   "execution_count": 33,
   "metadata": {
    "colab": {
     "base_uri": "https://localhost:8080/",
     "height": 255
    },
    "executionInfo": {
     "elapsed": 214,
     "status": "ok",
     "timestamp": 1703068926307,
     "user": {
      "displayName": "Abhignya",
      "userId": "05737312112655230415"
     },
     "user_tz": 300
    },
    "id": "y0vYRk1EzKaf",
    "outputId": "24a9c19b-8e9a-4d18-d340-67c17d0275e4"
   },
   "outputs": [
    {
     "data": {
      "text/html": [
       "\n",
       "  <div id=\"df-16a4c78d-6f0e-47cc-9b9e-b85af35b5a13\" class=\"colab-df-container\">\n",
       "    <div>\n",
       "<style scoped>\n",
       "    .dataframe tbody tr th:only-of-type {\n",
       "        vertical-align: middle;\n",
       "    }\n",
       "\n",
       "    .dataframe tbody tr th {\n",
       "        vertical-align: top;\n",
       "    }\n",
       "\n",
       "    .dataframe thead th {\n",
       "        text-align: right;\n",
       "    }\n",
       "</style>\n",
       "<table border=\"1\" class=\"dataframe\">\n",
       "  <thead>\n",
       "    <tr style=\"text-align: right;\">\n",
       "      <th></th>\n",
       "      <th>ID</th>\n",
       "      <th>Family</th>\n",
       "      <th>0</th>\n",
       "      <th>1</th>\n",
       "      <th>2</th>\n",
       "      <th>3</th>\n",
       "      <th>4</th>\n",
       "      <th>5</th>\n",
       "      <th>6</th>\n",
       "      <th>7</th>\n",
       "      <th>...</th>\n",
       "      <th>90</th>\n",
       "      <th>91</th>\n",
       "      <th>92</th>\n",
       "      <th>93</th>\n",
       "      <th>94</th>\n",
       "      <th>95</th>\n",
       "      <th>96</th>\n",
       "      <th>97</th>\n",
       "      <th>98</th>\n",
       "      <th>99</th>\n",
       "    </tr>\n",
       "  </thead>\n",
       "  <tbody>\n",
       "    <tr>\n",
       "      <th>0</th>\n",
       "      <td>01kcPWA9K2BOxQeS5Rju</td>\n",
       "      <td>0</td>\n",
       "      <td>-0.338611</td>\n",
       "      <td>1.291727</td>\n",
       "      <td>0.118837</td>\n",
       "      <td>-1.118286</td>\n",
       "      <td>0.183966</td>\n",
       "      <td>-0.405247</td>\n",
       "      <td>-0.729886</td>\n",
       "      <td>-0.332307</td>\n",
       "      <td>...</td>\n",
       "      <td>-0.475346</td>\n",
       "      <td>-0.425257</td>\n",
       "      <td>-0.000070</td>\n",
       "      <td>0.276955</td>\n",
       "      <td>0.192112</td>\n",
       "      <td>1.176439</td>\n",
       "      <td>-0.234972</td>\n",
       "      <td>-0.730219</td>\n",
       "      <td>1.071440</td>\n",
       "      <td>-0.091770</td>\n",
       "    </tr>\n",
       "    <tr>\n",
       "      <th>1</th>\n",
       "      <td>04EjIdbPV5e1XroFOpiN</td>\n",
       "      <td>0</td>\n",
       "      <td>-0.428330</td>\n",
       "      <td>1.376984</td>\n",
       "      <td>0.234024</td>\n",
       "      <td>-0.627847</td>\n",
       "      <td>0.213055</td>\n",
       "      <td>-0.609343</td>\n",
       "      <td>-0.659496</td>\n",
       "      <td>-0.320076</td>\n",
       "      <td>...</td>\n",
       "      <td>-0.408290</td>\n",
       "      <td>-0.389868</td>\n",
       "      <td>-0.164271</td>\n",
       "      <td>0.207200</td>\n",
       "      <td>0.035918</td>\n",
       "      <td>1.313510</td>\n",
       "      <td>-0.123089</td>\n",
       "      <td>-0.806177</td>\n",
       "      <td>1.062548</td>\n",
       "      <td>-0.169090</td>\n",
       "    </tr>\n",
       "    <tr>\n",
       "      <th>2</th>\n",
       "      <td>05EeG39MTRrI6VY21DPd</td>\n",
       "      <td>0</td>\n",
       "      <td>-0.377473</td>\n",
       "      <td>1.542212</td>\n",
       "      <td>0.202506</td>\n",
       "      <td>-0.368294</td>\n",
       "      <td>0.447894</td>\n",
       "      <td>-0.722350</td>\n",
       "      <td>-0.336275</td>\n",
       "      <td>-0.411114</td>\n",
       "      <td>...</td>\n",
       "      <td>-0.553859</td>\n",
       "      <td>-0.478773</td>\n",
       "      <td>-0.139812</td>\n",
       "      <td>0.208929</td>\n",
       "      <td>0.004945</td>\n",
       "      <td>1.640448</td>\n",
       "      <td>-0.340988</td>\n",
       "      <td>-0.576668</td>\n",
       "      <td>1.164637</td>\n",
       "      <td>-0.100652</td>\n",
       "    </tr>\n",
       "    <tr>\n",
       "      <th>3</th>\n",
       "      <td>05rJTUWYAKNegBk2wE8X</td>\n",
       "      <td>0</td>\n",
       "      <td>-0.354789</td>\n",
       "      <td>1.304047</td>\n",
       "      <td>0.117015</td>\n",
       "      <td>-0.903091</td>\n",
       "      <td>0.150693</td>\n",
       "      <td>-0.642379</td>\n",
       "      <td>-0.896521</td>\n",
       "      <td>-0.305303</td>\n",
       "      <td>...</td>\n",
       "      <td>-0.351606</td>\n",
       "      <td>-0.341613</td>\n",
       "      <td>-0.220712</td>\n",
       "      <td>0.312799</td>\n",
       "      <td>0.046395</td>\n",
       "      <td>1.294530</td>\n",
       "      <td>-0.131182</td>\n",
       "      <td>-0.718261</td>\n",
       "      <td>1.172608</td>\n",
       "      <td>-0.229033</td>\n",
       "    </tr>\n",
       "    <tr>\n",
       "      <th>4</th>\n",
       "      <td>0AnoOZDNbPXIr2MRBSCJ</td>\n",
       "      <td>0</td>\n",
       "      <td>-0.175248</td>\n",
       "      <td>1.296375</td>\n",
       "      <td>-0.155661</td>\n",
       "      <td>-0.533257</td>\n",
       "      <td>0.156963</td>\n",
       "      <td>-0.595596</td>\n",
       "      <td>-0.341953</td>\n",
       "      <td>-0.253579</td>\n",
       "      <td>...</td>\n",
       "      <td>-0.324669</td>\n",
       "      <td>-0.036423</td>\n",
       "      <td>-0.272495</td>\n",
       "      <td>-0.101691</td>\n",
       "      <td>0.137479</td>\n",
       "      <td>1.847042</td>\n",
       "      <td>-0.233596</td>\n",
       "      <td>-0.768067</td>\n",
       "      <td>0.979953</td>\n",
       "      <td>0.340067</td>\n",
       "    </tr>\n",
       "  </tbody>\n",
       "</table>\n",
       "<p>5 rows × 102 columns</p>\n",
       "</div>\n",
       "    <div class=\"colab-df-buttons\">\n",
       "\n",
       "  <div class=\"colab-df-container\">\n",
       "    <button class=\"colab-df-convert\" onclick=\"convertToInteractive('df-16a4c78d-6f0e-47cc-9b9e-b85af35b5a13')\"\n",
       "            title=\"Convert this dataframe to an interactive table.\"\n",
       "            style=\"display:none;\">\n",
       "\n",
       "  <svg xmlns=\"http://www.w3.org/2000/svg\" height=\"24px\" viewBox=\"0 -960 960 960\">\n",
       "    <path d=\"M120-120v-720h720v720H120Zm60-500h600v-160H180v160Zm220 220h160v-160H400v160Zm0 220h160v-160H400v160ZM180-400h160v-160H180v160Zm440 0h160v-160H620v160ZM180-180h160v-160H180v160Zm440 0h160v-160H620v160Z\"/>\n",
       "  </svg>\n",
       "    </button>\n",
       "\n",
       "  <style>\n",
       "    .colab-df-container {\n",
       "      display:flex;\n",
       "      gap: 12px;\n",
       "    }\n",
       "\n",
       "    .colab-df-convert {\n",
       "      background-color: #E8F0FE;\n",
       "      border: none;\n",
       "      border-radius: 50%;\n",
       "      cursor: pointer;\n",
       "      display: none;\n",
       "      fill: #1967D2;\n",
       "      height: 32px;\n",
       "      padding: 0 0 0 0;\n",
       "      width: 32px;\n",
       "    }\n",
       "\n",
       "    .colab-df-convert:hover {\n",
       "      background-color: #E2EBFA;\n",
       "      box-shadow: 0px 1px 2px rgba(60, 64, 67, 0.3), 0px 1px 3px 1px rgba(60, 64, 67, 0.15);\n",
       "      fill: #174EA6;\n",
       "    }\n",
       "\n",
       "    .colab-df-buttons div {\n",
       "      margin-bottom: 4px;\n",
       "    }\n",
       "\n",
       "    [theme=dark] .colab-df-convert {\n",
       "      background-color: #3B4455;\n",
       "      fill: #D2E3FC;\n",
       "    }\n",
       "\n",
       "    [theme=dark] .colab-df-convert:hover {\n",
       "      background-color: #434B5C;\n",
       "      box-shadow: 0px 1px 3px 1px rgba(0, 0, 0, 0.15);\n",
       "      filter: drop-shadow(0px 1px 2px rgba(0, 0, 0, 0.3));\n",
       "      fill: #FFFFFF;\n",
       "    }\n",
       "  </style>\n",
       "\n",
       "    <script>\n",
       "      const buttonEl =\n",
       "        document.querySelector('#df-16a4c78d-6f0e-47cc-9b9e-b85af35b5a13 button.colab-df-convert');\n",
       "      buttonEl.style.display =\n",
       "        google.colab.kernel.accessAllowed ? 'block' : 'none';\n",
       "\n",
       "      async function convertToInteractive(key) {\n",
       "        const element = document.querySelector('#df-16a4c78d-6f0e-47cc-9b9e-b85af35b5a13');\n",
       "        const dataTable =\n",
       "          await google.colab.kernel.invokeFunction('convertToInteractive',\n",
       "                                                    [key], {});\n",
       "        if (!dataTable) return;\n",
       "\n",
       "        const docLinkHtml = 'Like what you see? Visit the ' +\n",
       "          '<a target=\"_blank\" href=https://colab.research.google.com/notebooks/data_table.ipynb>data table notebook</a>'\n",
       "          + ' to learn more about interactive tables.';\n",
       "        element.innerHTML = '';\n",
       "        dataTable['output_type'] = 'display_data';\n",
       "        await google.colab.output.renderOutput(dataTable, element);\n",
       "        const docLink = document.createElement('div');\n",
       "        docLink.innerHTML = docLinkHtml;\n",
       "        element.appendChild(docLink);\n",
       "      }\n",
       "    </script>\n",
       "  </div>\n",
       "\n",
       "\n",
       "<div id=\"df-cb852041-a5c1-432d-8573-3cd605fea148\">\n",
       "  <button class=\"colab-df-quickchart\" onclick=\"quickchart('df-cb852041-a5c1-432d-8573-3cd605fea148')\"\n",
       "            title=\"Suggest charts\"\n",
       "            style=\"display:none;\">\n",
       "\n",
       "<svg xmlns=\"http://www.w3.org/2000/svg\" height=\"24px\"viewBox=\"0 0 24 24\"\n",
       "     width=\"24px\">\n",
       "    <g>\n",
       "        <path d=\"M19 3H5c-1.1 0-2 .9-2 2v14c0 1.1.9 2 2 2h14c1.1 0 2-.9 2-2V5c0-1.1-.9-2-2-2zM9 17H7v-7h2v7zm4 0h-2V7h2v10zm4 0h-2v-4h2v4z\"/>\n",
       "    </g>\n",
       "</svg>\n",
       "  </button>\n",
       "\n",
       "<style>\n",
       "  .colab-df-quickchart {\n",
       "      --bg-color: #E8F0FE;\n",
       "      --fill-color: #1967D2;\n",
       "      --hover-bg-color: #E2EBFA;\n",
       "      --hover-fill-color: #174EA6;\n",
       "      --disabled-fill-color: #AAA;\n",
       "      --disabled-bg-color: #DDD;\n",
       "  }\n",
       "\n",
       "  [theme=dark] .colab-df-quickchart {\n",
       "      --bg-color: #3B4455;\n",
       "      --fill-color: #D2E3FC;\n",
       "      --hover-bg-color: #434B5C;\n",
       "      --hover-fill-color: #FFFFFF;\n",
       "      --disabled-bg-color: #3B4455;\n",
       "      --disabled-fill-color: #666;\n",
       "  }\n",
       "\n",
       "  .colab-df-quickchart {\n",
       "    background-color: var(--bg-color);\n",
       "    border: none;\n",
       "    border-radius: 50%;\n",
       "    cursor: pointer;\n",
       "    display: none;\n",
       "    fill: var(--fill-color);\n",
       "    height: 32px;\n",
       "    padding: 0;\n",
       "    width: 32px;\n",
       "  }\n",
       "\n",
       "  .colab-df-quickchart:hover {\n",
       "    background-color: var(--hover-bg-color);\n",
       "    box-shadow: 0 1px 2px rgba(60, 64, 67, 0.3), 0 1px 3px 1px rgba(60, 64, 67, 0.15);\n",
       "    fill: var(--button-hover-fill-color);\n",
       "  }\n",
       "\n",
       "  .colab-df-quickchart-complete:disabled,\n",
       "  .colab-df-quickchart-complete:disabled:hover {\n",
       "    background-color: var(--disabled-bg-color);\n",
       "    fill: var(--disabled-fill-color);\n",
       "    box-shadow: none;\n",
       "  }\n",
       "\n",
       "  .colab-df-spinner {\n",
       "    border: 2px solid var(--fill-color);\n",
       "    border-color: transparent;\n",
       "    border-bottom-color: var(--fill-color);\n",
       "    animation:\n",
       "      spin 1s steps(1) infinite;\n",
       "  }\n",
       "\n",
       "  @keyframes spin {\n",
       "    0% {\n",
       "      border-color: transparent;\n",
       "      border-bottom-color: var(--fill-color);\n",
       "      border-left-color: var(--fill-color);\n",
       "    }\n",
       "    20% {\n",
       "      border-color: transparent;\n",
       "      border-left-color: var(--fill-color);\n",
       "      border-top-color: var(--fill-color);\n",
       "    }\n",
       "    30% {\n",
       "      border-color: transparent;\n",
       "      border-left-color: var(--fill-color);\n",
       "      border-top-color: var(--fill-color);\n",
       "      border-right-color: var(--fill-color);\n",
       "    }\n",
       "    40% {\n",
       "      border-color: transparent;\n",
       "      border-right-color: var(--fill-color);\n",
       "      border-top-color: var(--fill-color);\n",
       "    }\n",
       "    60% {\n",
       "      border-color: transparent;\n",
       "      border-right-color: var(--fill-color);\n",
       "    }\n",
       "    80% {\n",
       "      border-color: transparent;\n",
       "      border-right-color: var(--fill-color);\n",
       "      border-bottom-color: var(--fill-color);\n",
       "    }\n",
       "    90% {\n",
       "      border-color: transparent;\n",
       "      border-bottom-color: var(--fill-color);\n",
       "    }\n",
       "  }\n",
       "</style>\n",
       "\n",
       "  <script>\n",
       "    async function quickchart(key) {\n",
       "      const quickchartButtonEl =\n",
       "        document.querySelector('#' + key + ' button');\n",
       "      quickchartButtonEl.disabled = true;  // To prevent multiple clicks.\n",
       "      quickchartButtonEl.classList.add('colab-df-spinner');\n",
       "      try {\n",
       "        const charts = await google.colab.kernel.invokeFunction(\n",
       "            'suggestCharts', [key], {});\n",
       "      } catch (error) {\n",
       "        console.error('Error during call to suggestCharts:', error);\n",
       "      }\n",
       "      quickchartButtonEl.classList.remove('colab-df-spinner');\n",
       "      quickchartButtonEl.classList.add('colab-df-quickchart-complete');\n",
       "    }\n",
       "    (() => {\n",
       "      let quickchartButtonEl =\n",
       "        document.querySelector('#df-cb852041-a5c1-432d-8573-3cd605fea148 button');\n",
       "      quickchartButtonEl.style.display =\n",
       "        google.colab.kernel.accessAllowed ? 'block' : 'none';\n",
       "    })();\n",
       "  </script>\n",
       "</div>\n",
       "\n",
       "    </div>\n",
       "  </div>\n"
      ],
      "text/plain": [
       "                     ID  Family         0         1         2         3  \\\n",
       "0  01kcPWA9K2BOxQeS5Rju       0 -0.338611  1.291727  0.118837 -1.118286   \n",
       "1  04EjIdbPV5e1XroFOpiN       0 -0.428330  1.376984  0.234024 -0.627847   \n",
       "2  05EeG39MTRrI6VY21DPd       0 -0.377473  1.542212  0.202506 -0.368294   \n",
       "3  05rJTUWYAKNegBk2wE8X       0 -0.354789  1.304047  0.117015 -0.903091   \n",
       "4  0AnoOZDNbPXIr2MRBSCJ       0 -0.175248  1.296375 -0.155661 -0.533257   \n",
       "\n",
       "          4         5         6         7  ...        90        91        92  \\\n",
       "0  0.183966 -0.405247 -0.729886 -0.332307  ... -0.475346 -0.425257 -0.000070   \n",
       "1  0.213055 -0.609343 -0.659496 -0.320076  ... -0.408290 -0.389868 -0.164271   \n",
       "2  0.447894 -0.722350 -0.336275 -0.411114  ... -0.553859 -0.478773 -0.139812   \n",
       "3  0.150693 -0.642379 -0.896521 -0.305303  ... -0.351606 -0.341613 -0.220712   \n",
       "4  0.156963 -0.595596 -0.341953 -0.253579  ... -0.324669 -0.036423 -0.272495   \n",
       "\n",
       "         93        94        95        96        97        98        99  \n",
       "0  0.276955  0.192112  1.176439 -0.234972 -0.730219  1.071440 -0.091770  \n",
       "1  0.207200  0.035918  1.313510 -0.123089 -0.806177  1.062548 -0.169090  \n",
       "2  0.208929  0.004945  1.640448 -0.340988 -0.576668  1.164637 -0.100652  \n",
       "3  0.312799  0.046395  1.294530 -0.131182 -0.718261  1.172608 -0.229033  \n",
       "4 -0.101691  0.137479  1.847042 -0.233596 -0.768067  0.979953  0.340067  \n",
       "\n",
       "[5 rows x 102 columns]"
      ]
     },
     "execution_count": 33,
     "metadata": {},
     "output_type": "execute_result"
    }
   ],
   "source": [
    "final_embed= final_embed.reset_index(drop = True)\n",
    "final_embed['Family'] = final_embed['Family'] - 1\n",
    "final_embed.head()"
   ]
  },
  {
   "cell_type": "code",
   "execution_count": 34,
   "metadata": {
    "colab": {
     "base_uri": "https://localhost:8080/"
    },
    "executionInfo": {
     "elapsed": 2975447,
     "status": "ok",
     "timestamp": 1703071917712,
     "user": {
      "displayName": "Abhignya",
      "userId": "05737312112655230415"
     },
     "user_tz": 300
    },
    "id": "c61o6rnszXLF",
    "outputId": "a717135c-be46-474f-d0f4-6f2737a6d638"
   },
   "outputs": [
    {
     "name": "stdout",
     "output_type": "stream",
     "text": [
      "[LightGBM] [Warning] Unknown parameter: silent\n",
      "[LightGBM] [Warning] Unknown parameter: silent\n",
      "[LightGBM] [Info] Auto-choosing row-wise multi-threading, the overhead of testing was 0.043881 seconds.\n",
      "You can set `force_row_wise=true` to remove the overhead.\n",
      "And if memory is not enough, you can set `force_col_wise=true`.\n",
      "[LightGBM] [Info] Total Bins 23428\n",
      "[LightGBM] [Info] Number of data points in the train set: 17388, number of used features: 96\n",
      "[LightGBM] [Info] Start training from score -1.953589\n",
      "[LightGBM] [Info] Start training from score -1.478274\n",
      "[LightGBM] [Info] Start training from score -1.306730\n",
      "[LightGBM] [Info] Start training from score -3.130217\n",
      "[LightGBM] [Info] Start training from score -5.558843\n",
      "[LightGBM] [Info] Start training from score -2.671793\n",
      "[LightGBM] [Info] Start training from score -3.306766\n",
      "[LightGBM] [Info] Start training from score -2.180288\n",
      "[LightGBM] [Info] Start training from score -2.373354\n",
      "[LightGBM] [Warning] No further splits with positive gain, best gain: -inf\n",
      "[LightGBM] [Warning] No further splits with positive gain, best gain: -inf\n",
      "[LightGBM] [Warning] No further splits with positive gain, best gain: -inf\n",
      "[LightGBM] [Warning] No further splits with positive gain, best gain: -inf\n",
      "[LightGBM] [Warning] No further splits with positive gain, best gain: -inf\n",
      "[LightGBM] [Warning] No further splits with positive gain, best gain: -inf\n",
      "[LightGBM] [Warning] No further splits with positive gain, best gain: -inf\n",
      "[LightGBM] [Warning] No further splits with positive gain, best gain: -inf\n",
      "[LightGBM] [Warning] No further splits with positive gain, best gain: -inf\n",
      "[LightGBM] [Warning] No further splits with positive gain, best gain: -inf\n",
      "[LightGBM] [Warning] No further splits with positive gain, best gain: -inf\n",
      "[LightGBM] [Warning] No further splits with positive gain, best gain: -inf\n",
      "[LightGBM] [Warning] No further splits with positive gain, best gain: -inf\n",
      "[LightGBM] [Warning] No further splits with positive gain, best gain: -inf\n",
      "[LightGBM] [Warning] No further splits with positive gain, best gain: -inf\n",
      "[LightGBM] [Warning] No further splits with positive gain, best gain: -inf\n",
      "[LightGBM] [Warning] No further splits with positive gain, best gain: -inf\n",
      "[LightGBM] [Warning] No further splits with positive gain, best gain: -inf\n",
      "[LightGBM] [Warning] No further splits with positive gain, best gain: -inf\n",
      "[LightGBM] [Warning] No further splits with positive gain, best gain: -inf\n",
      "[LightGBM] [Warning] No further splits with positive gain, best gain: -inf\n",
      "[LightGBM] [Warning] No further splits with positive gain, best gain: -inf\n",
      "[LightGBM] [Warning] No further splits with positive gain, best gain: -inf\n",
      "[LightGBM] [Warning] No further splits with positive gain, best gain: -inf\n",
      "[LightGBM] [Warning] No further splits with positive gain, best gain: -inf\n",
      "[LightGBM] [Warning] No further splits with positive gain, best gain: -inf\n",
      "[LightGBM] [Warning] No further splits with positive gain, best gain: -inf\n",
      "[LightGBM] [Warning] No further splits with positive gain, best gain: -inf\n",
      "[LightGBM] [Warning] No further splits with positive gain, best gain: -inf\n",
      "[LightGBM] [Warning] No further splits with positive gain, best gain: -inf\n",
      "[LightGBM] [Warning] No further splits with positive gain, best gain: -inf\n",
      "[LightGBM] [Warning] No further splits with positive gain, best gain: -inf\n",
      "[LightGBM] [Warning] No further splits with positive gain, best gain: -inf\n",
      "[LightGBM] [Warning] No further splits with positive gain, best gain: -inf\n",
      "[LightGBM] [Warning] No further splits with positive gain, best gain: -inf\n",
      "[LightGBM] [Warning] No further splits with positive gain, best gain: -inf\n",
      "[LightGBM] [Warning] No further splits with positive gain, best gain: -inf\n",
      "[LightGBM] [Warning] No further splits with positive gain, best gain: -inf\n",
      "[LightGBM] [Warning] No further splits with positive gain, best gain: -inf\n",
      "[LightGBM] [Warning] No further splits with positive gain, best gain: -inf\n",
      "[LightGBM] [Warning] No further splits with positive gain, best gain: -inf\n",
      "[LightGBM] [Warning] No further splits with positive gain, best gain: -inf\n",
      "[LightGBM] [Warning] No further splits with positive gain, best gain: -inf\n",
      "[LightGBM] [Warning] No further splits with positive gain, best gain: -inf\n",
      "[LightGBM] [Warning] No further splits with positive gain, best gain: -inf\n",
      "[LightGBM] [Warning] No further splits with positive gain, best gain: -inf\n",
      "[LightGBM] [Warning] No further splits with positive gain, best gain: -inf\n",
      "[LightGBM] [Warning] No further splits with positive gain, best gain: -inf\n",
      "[LightGBM] [Warning] No further splits with positive gain, best gain: -inf\n",
      "[LightGBM] [Warning] No further splits with positive gain, best gain: -inf\n",
      "[LightGBM] [Warning] No further splits with positive gain, best gain: -inf\n",
      "[LightGBM] [Warning] No further splits with positive gain, best gain: -inf\n",
      "[LightGBM] [Warning] No further splits with positive gain, best gain: -inf\n",
      "[LightGBM] [Warning] No further splits with positive gain, best gain: -inf\n",
      "[LightGBM] [Warning] No further splits with positive gain, best gain: -inf\n",
      "[LightGBM] [Warning] No further splits with positive gain, best gain: -inf\n",
      "[LightGBM] [Warning] No further splits with positive gain, best gain: -inf\n",
      "[LightGBM] [Warning] No further splits with positive gain, best gain: -inf\n",
      "[LightGBM] [Warning] No further splits with positive gain, best gain: -inf\n",
      "[LightGBM] [Warning] No further splits with positive gain, best gain: -inf\n",
      "[LightGBM] [Warning] No further splits with positive gain, best gain: -inf\n",
      "[LightGBM] [Warning] No further splits with positive gain, best gain: -inf\n",
      "[LightGBM] [Warning] No further splits with positive gain, best gain: -inf\n",
      "[LightGBM] [Warning] No further splits with positive gain, best gain: -inf\n",
      "[LightGBM] [Warning] No further splits with positive gain, best gain: -inf\n",
      "[LightGBM] [Warning] No further splits with positive gain, best gain: -inf\n",
      "[LightGBM] [Warning] No further splits with positive gain, best gain: -inf\n",
      "[LightGBM] [Warning] No further splits with positive gain, best gain: -inf\n",
      "[LightGBM] [Warning] No further splits with positive gain, best gain: -inf\n",
      "[LightGBM] [Warning] No further splits with positive gain, best gain: -inf\n",
      "[LightGBM] [Warning] No further splits with positive gain, best gain: -inf\n",
      "[LightGBM] [Warning] No further splits with positive gain, best gain: -inf\n",
      "[LightGBM] [Warning] No further splits with positive gain, best gain: -inf\n",
      "[LightGBM] [Warning] No further splits with positive gain, best gain: -inf\n",
      "[LightGBM] [Warning] No further splits with positive gain, best gain: -inf\n",
      "[LightGBM] [Warning] No further splits with positive gain, best gain: -inf\n",
      "[LightGBM] [Warning] No further splits with positive gain, best gain: -inf\n",
      "[LightGBM] [Warning] No further splits with positive gain, best gain: -inf\n",
      "[LightGBM] [Warning] No further splits with positive gain, best gain: -inf\n",
      "[LightGBM] [Warning] No further splits with positive gain, best gain: -inf\n",
      "[LightGBM] [Warning] No further splits with positive gain, best gain: -inf\n",
      "[LightGBM] [Warning] No further splits with positive gain, best gain: -inf\n",
      "[LightGBM] [Warning] No further splits with positive gain, best gain: -inf\n",
      "[LightGBM] [Warning] No further splits with positive gain, best gain: -inf\n",
      "[LightGBM] [Warning] No further splits with positive gain, best gain: -inf\n",
      "[LightGBM] [Warning] No further splits with positive gain, best gain: -inf\n",
      "[LightGBM] [Warning] No further splits with positive gain, best gain: -inf\n",
      "[LightGBM] [Warning] No further splits with positive gain, best gain: -inf\n",
      "[LightGBM] [Warning] No further splits with positive gain, best gain: -inf\n",
      "[LightGBM] [Warning] No further splits with positive gain, best gain: -inf\n",
      "[LightGBM] [Warning] No further splits with positive gain, best gain: -inf\n",
      "[LightGBM] [Warning] No further splits with positive gain, best gain: -inf\n",
      "[LightGBM] [Warning] No further splits with positive gain, best gain: -inf\n",
      "[LightGBM] [Warning] No further splits with positive gain, best gain: -inf\n",
      "[LightGBM] [Warning] No further splits with positive gain, best gain: -inf\n",
      "[LightGBM] [Warning] No further splits with positive gain, best gain: -inf\n",
      "[LightGBM] [Warning] No further splits with positive gain, best gain: -inf\n",
      "[LightGBM] [Warning] No further splits with positive gain, best gain: -inf\n",
      "[LightGBM] [Warning] No further splits with positive gain, best gain: -inf\n",
      "[LightGBM] [Warning] No further splits with positive gain, best gain: -inf\n",
      "[LightGBM] [Warning] No further splits with positive gain, best gain: -inf\n",
      "[LightGBM] [Warning] No further splits with positive gain, best gain: -inf\n",
      "[LightGBM] [Warning] No further splits with positive gain, best gain: -inf\n",
      "[LightGBM] [Warning] No further splits with positive gain, best gain: -inf\n",
      "[LightGBM] [Warning] No further splits with positive gain, best gain: -inf\n",
      "[LightGBM] [Warning] No further splits with positive gain, best gain: -inf\n",
      "[LightGBM] [Warning] No further splits with positive gain, best gain: -inf\n",
      "[LightGBM] [Warning] No further splits with positive gain, best gain: -inf\n",
      "[LightGBM] [Warning] No further splits with positive gain, best gain: -inf\n",
      "[LightGBM] [Warning] No further splits with positive gain, best gain: -inf\n",
      "[LightGBM] [Warning] No further splits with positive gain, best gain: -inf\n",
      "[LightGBM] [Warning] No further splits with positive gain, best gain: -inf\n",
      "[LightGBM] [Warning] No further splits with positive gain, best gain: -inf\n",
      "[LightGBM] [Warning] No further splits with positive gain, best gain: -inf\n",
      "[LightGBM] [Warning] No further splits with positive gain, best gain: -inf\n",
      "[LightGBM] [Warning] No further splits with positive gain, best gain: -inf\n",
      "[LightGBM] [Warning] No further splits with positive gain, best gain: -inf\n",
      "[LightGBM] [Warning] No further splits with positive gain, best gain: -inf\n",
      "[LightGBM] [Warning] No further splits with positive gain, best gain: -inf\n",
      "[LightGBM] [Warning] No further splits with positive gain, best gain: -inf\n",
      "[LightGBM] [Warning] No further splits with positive gain, best gain: -inf\n",
      "[LightGBM] [Warning] No further splits with positive gain, best gain: -inf\n",
      "[LightGBM] [Warning] No further splits with positive gain, best gain: -inf\n",
      "[LightGBM] [Warning] No further splits with positive gain, best gain: -inf\n",
      "[LightGBM] [Warning] No further splits with positive gain, best gain: -inf\n",
      "[LightGBM] [Warning] No further splits with positive gain, best gain: -inf\n",
      "[LightGBM] [Warning] No further splits with positive gain, best gain: -inf\n",
      "[LightGBM] [Warning] No further splits with positive gain, best gain: -inf\n",
      "[LightGBM] [Warning] No further splits with positive gain, best gain: -inf\n",
      "[LightGBM] [Warning] No further splits with positive gain, best gain: -inf\n",
      "[LightGBM] [Warning] No further splits with positive gain, best gain: -inf\n",
      "[LightGBM] [Warning] No further splits with positive gain, best gain: -inf\n",
      "[LightGBM] [Warning] No further splits with positive gain, best gain: -inf\n",
      "[LightGBM] [Warning] No further splits with positive gain, best gain: -inf\n",
      "[LightGBM] [Warning] No further splits with positive gain, best gain: -inf\n",
      "[LightGBM] [Warning] No further splits with positive gain, best gain: -inf\n",
      "[LightGBM] [Warning] No further splits with positive gain, best gain: -inf\n",
      "[LightGBM] [Warning] No further splits with positive gain, best gain: -inf\n",
      "[LightGBM] [Warning] No further splits with positive gain, best gain: -inf\n",
      "[LightGBM] [Warning] No further splits with positive gain, best gain: -inf\n",
      "[LightGBM] [Warning] No further splits with positive gain, best gain: -inf\n",
      "[LightGBM] [Warning] No further splits with positive gain, best gain: -inf\n",
      "[LightGBM] [Warning] No further splits with positive gain, best gain: -inf\n",
      "[LightGBM] [Warning] No further splits with positive gain, best gain: -inf\n",
      "[LightGBM] [Warning] No further splits with positive gain, best gain: -inf\n",
      "[LightGBM] [Warning] No further splits with positive gain, best gain: -inf\n",
      "[LightGBM] [Warning] No further splits with positive gain, best gain: -inf\n",
      "[LightGBM] [Warning] No further splits with positive gain, best gain: -inf\n",
      "[LightGBM] [Warning] No further splits with positive gain, best gain: -inf\n",
      "[LightGBM] [Warning] No further splits with positive gain, best gain: -inf\n",
      "[LightGBM] [Warning] No further splits with positive gain, best gain: -inf\n",
      "[LightGBM] [Warning] No further splits with positive gain, best gain: -inf\n",
      "[LightGBM] [Warning] No further splits with positive gain, best gain: -inf\n",
      "[LightGBM] [Warning] No further splits with positive gain, best gain: -inf\n",
      "[LightGBM] [Warning] No further splits with positive gain, best gain: -inf\n",
      "[LightGBM] [Warning] No further splits with positive gain, best gain: -inf\n",
      "[LightGBM] [Warning] No further splits with positive gain, best gain: -inf\n",
      "[LightGBM] [Warning] No further splits with positive gain, best gain: -inf\n",
      "[LightGBM] [Warning] No further splits with positive gain, best gain: -inf\n",
      "[LightGBM] [Warning] No further splits with positive gain, best gain: -inf\n",
      "[LightGBM] [Warning] No further splits with positive gain, best gain: -inf\n",
      "[LightGBM] [Warning] No further splits with positive gain, best gain: -inf\n",
      "[LightGBM] [Warning] No further splits with positive gain, best gain: -inf\n",
      "[LightGBM] [Warning] No further splits with positive gain, best gain: -inf\n",
      "[LightGBM] [Warning] No further splits with positive gain, best gain: -inf\n",
      "[LightGBM] [Warning] No further splits with positive gain, best gain: -inf\n",
      "[LightGBM] [Warning] No further splits with positive gain, best gain: -inf\n",
      "[LightGBM] [Warning] No further splits with positive gain, best gain: -inf\n",
      "[LightGBM] [Warning] No further splits with positive gain, best gain: -inf\n",
      "[LightGBM] [Warning] No further splits with positive gain, best gain: -inf\n",
      "[LightGBM] [Warning] No further splits with positive gain, best gain: -inf\n",
      "[LightGBM] [Warning] No further splits with positive gain, best gain: -inf\n",
      "[LightGBM] [Warning] No further splits with positive gain, best gain: -inf\n",
      "[LightGBM] [Warning] No further splits with positive gain, best gain: -inf\n",
      "[LightGBM] [Warning] No further splits with positive gain, best gain: -inf\n",
      "[LightGBM] [Warning] No further splits with positive gain, best gain: -inf\n",
      "[LightGBM] [Warning] No further splits with positive gain, best gain: -inf\n"
     ]
    },
    {
     "name": "stderr",
     "output_type": "stream",
     "text": [
      "100%|██████████| 272/272 [00:12<00:00, 21.54it/s]\n",
      "100%|██████████| 68/68 [00:01<00:00, 63.86it/s]\n"
     ]
    },
    {
     "name": "stdout",
     "output_type": "stream",
     "text": [
      "[LightGBM] [Warning] Unknown parameter: silent\n",
      "Epoch=0 \n",
      "Validation: = Logloss: 10.439 F1: 99.218 Recall: 99.218 Precision: 99.218 Accuracy: 99.218\n"
     ]
    },
    {
     "name": "stderr",
     "output_type": "stream",
     "text": [
      "100%|██████████| 272/272 [00:08<00:00, 31.71it/s]\n",
      "100%|██████████| 68/68 [00:01<00:00, 39.60it/s]\n"
     ]
    },
    {
     "name": "stdout",
     "output_type": "stream",
     "text": [
      "[LightGBM] [Warning] Unknown parameter: silent\n",
      "Epoch=1 \n",
      "Validation: = Logloss: 10.059 F1: 99.218 Recall: 99.218 Precision: 99.218 Accuracy: 99.218\n"
     ]
    },
    {
     "name": "stderr",
     "output_type": "stream",
     "text": [
      "100%|██████████| 272/272 [00:07<00:00, 36.43it/s]\n",
      "100%|██████████| 68/68 [00:01<00:00, 62.22it/s]\n"
     ]
    },
    {
     "name": "stdout",
     "output_type": "stream",
     "text": [
      "[LightGBM] [Warning] Unknown parameter: silent\n",
      "Epoch=2 \n",
      "Validation: = Logloss: 9.673 F1: 99.195 Recall: 99.195 Precision: 99.195 Accuracy: 99.195\n"
     ]
    },
    {
     "name": "stderr",
     "output_type": "stream",
     "text": [
      "100%|██████████| 272/272 [00:09<00:00, 29.51it/s]\n",
      "100%|██████████| 68/68 [00:01<00:00, 63.06it/s]\n"
     ]
    },
    {
     "name": "stdout",
     "output_type": "stream",
     "text": [
      "[LightGBM] [Warning] Unknown parameter: silent\n",
      "Epoch=3 \n",
      "Validation: = Logloss: 9.38 F1: 99.195 Recall: 99.195 Precision: 99.195 Accuracy: 99.195\n"
     ]
    },
    {
     "name": "stderr",
     "output_type": "stream",
     "text": [
      "100%|██████████| 272/272 [00:08<00:00, 33.63it/s]\n",
      "100%|██████████| 68/68 [00:01<00:00, 42.82it/s]\n"
     ]
    },
    {
     "name": "stdout",
     "output_type": "stream",
     "text": [
      "[LightGBM] [Warning] Unknown parameter: silent\n",
      "Epoch=4 \n",
      "Validation: = Logloss: 8.387 F1: 99.218 Recall: 99.218 Precision: 99.218 Accuracy: 99.218\n"
     ]
    },
    {
     "name": "stderr",
     "output_type": "stream",
     "text": [
      "100%|██████████| 272/272 [00:07<00:00, 35.00it/s]\n",
      "100%|██████████| 272/272 [00:09<00:00, 29.83it/s]\n",
      "100%|██████████| 68/68 [00:01<00:00, 62.64it/s] \n"
     ]
    },
    {
     "name": "stdout",
     "output_type": "stream",
     "text": [
      "[LightGBM] [Warning] Unknown parameter: silent\n",
      "Epoch=6 \n",
      "Validation: = Logloss: 7.99 F1: 99.218 Recall: 99.218 Precision: 99.218 Accuracy: 99.218\n"
     ]
    },
    {
     "name": "stderr",
     "output_type": "stream",
     "text": [
      "100%|██████████| 272/272 [00:07<00:00, 34.74it/s]\n",
      "100%|██████████| 68/68 [00:01<00:00, 40.98it/s]\n"
     ]
    },
    {
     "name": "stdout",
     "output_type": "stream",
     "text": [
      "[LightGBM] [Warning] Unknown parameter: silent\n",
      "Epoch=7 \n",
      "Validation: = Logloss: 7.878 F1: 99.218 Recall: 99.218 Precision: 99.218 Accuracy: 99.218\n"
     ]
    },
    {
     "name": "stderr",
     "output_type": "stream",
     "text": [
      "100%|██████████| 272/272 [00:07<00:00, 35.00it/s]\n",
      "100%|██████████| 68/68 [00:01<00:00, 61.95it/s]\n"
     ]
    },
    {
     "name": "stdout",
     "output_type": "stream",
     "text": [
      "[LightGBM] [Warning] Unknown parameter: silent\n",
      "Epoch=8 \n",
      "Validation: = Logloss: 7.901 F1: 99.218 Recall: 99.218 Precision: 99.218 Accuracy: 99.218\n"
     ]
    },
    {
     "name": "stderr",
     "output_type": "stream",
     "text": [
      "100%|██████████| 272/272 [00:09<00:00, 28.96it/s]\n",
      "100%|██████████| 68/68 [00:01<00:00, 64.17it/s]\n"
     ]
    },
    {
     "name": "stdout",
     "output_type": "stream",
     "text": [
      "[LightGBM] [Warning] Unknown parameter: silent\n",
      "Epoch=9 \n",
      "Validation: = Logloss: 7.82 F1: 99.218 Recall: 99.218 Precision: 99.218 Accuracy: 99.218\n"
     ]
    },
    {
     "name": "stderr",
     "output_type": "stream",
     "text": [
      "100%|██████████| 272/272 [00:07<00:00, 36.26it/s]\n",
      "100%|██████████| 68/68 [00:02<00:00, 27.52it/s]\n"
     ]
    },
    {
     "name": "stdout",
     "output_type": "stream",
     "text": [
      "[LightGBM] [Warning] Unknown parameter: silent\n",
      "Epoch=10 \n",
      "Validation: = Logloss: 7.704 F1: 99.218 Recall: 99.218 Precision: 99.218 Accuracy: 99.218\n"
     ]
    },
    {
     "name": "stderr",
     "output_type": "stream",
     "text": [
      "100%|██████████| 272/272 [00:07<00:00, 34.09it/s]\n",
      "100%|██████████| 68/68 [00:01<00:00, 63.41it/s] \n"
     ]
    },
    {
     "name": "stdout",
     "output_type": "stream",
     "text": [
      "[LightGBM] [Warning] Unknown parameter: silent\n",
      "Epoch=11 \n",
      "Validation: = Logloss: 7.729 F1: 99.218 Recall: 99.218 Precision: 99.218 Accuracy: 99.218\n"
     ]
    },
    {
     "name": "stderr",
     "output_type": "stream",
     "text": [
      "100%|██████████| 272/272 [00:09<00:00, 29.18it/s]\n",
      "100%|██████████| 68/68 [00:01<00:00, 62.13it/s]\n"
     ]
    },
    {
     "name": "stdout",
     "output_type": "stream",
     "text": [
      "[LightGBM] [Warning] Unknown parameter: silent\n",
      "Epoch=12 \n",
      "Validation: = Logloss: 6.516 F1: 99.287 Recall: 99.287 Precision: 99.287 Accuracy: 99.287\n"
     ]
    },
    {
     "name": "stderr",
     "output_type": "stream",
     "text": [
      "100%|██████████| 272/272 [00:07<00:00, 35.91it/s]\n",
      "100%|██████████| 68/68 [00:01<00:00, 40.21it/s]\n"
     ]
    },
    {
     "name": "stdout",
     "output_type": "stream",
     "text": [
      "[LightGBM] [Warning] Unknown parameter: silent\n",
      "Epoch=13 \n",
      "Validation: = Logloss: 6.579 F1: 99.287 Recall: 99.287 Precision: 99.287 Accuracy: 99.287\n"
     ]
    },
    {
     "name": "stderr",
     "output_type": "stream",
     "text": [
      "100%|██████████| 272/272 [00:08<00:00, 32.77it/s]\n",
      "100%|██████████| 68/68 [00:01<00:00, 63.94it/s] \n"
     ]
    },
    {
     "name": "stdout",
     "output_type": "stream",
     "text": [
      "[LightGBM] [Warning] Unknown parameter: silent\n",
      "Epoch=14 \n",
      "Validation: = Logloss: 6.442 F1: 99.287 Recall: 99.287 Precision: 99.287 Accuracy: 99.287\n"
     ]
    },
    {
     "name": "stderr",
     "output_type": "stream",
     "text": [
      "100%|██████████| 272/272 [00:09<00:00, 29.26it/s]\n",
      "100%|██████████| 68/68 [00:01<00:00, 60.88it/s]\n"
     ]
    },
    {
     "name": "stdout",
     "output_type": "stream",
     "text": [
      "[LightGBM] [Warning] Unknown parameter: silent\n",
      "Epoch=15 \n",
      "Validation: = Logloss: 6.393 F1: 99.287 Recall: 99.287 Precision: 99.287 Accuracy: 99.287\n"
     ]
    },
    {
     "name": "stderr",
     "output_type": "stream",
     "text": [
      "100%|██████████| 272/272 [00:07<00:00, 37.61it/s]\n",
      "100%|██████████| 68/68 [00:01<00:00, 54.47it/s]\n"
     ]
    },
    {
     "name": "stdout",
     "output_type": "stream",
     "text": [
      "[LightGBM] [Warning] Unknown parameter: silent\n",
      "Epoch=16 \n",
      "Validation: = Logloss: 6.509 F1: 99.287 Recall: 99.287 Precision: 99.287 Accuracy: 99.287\n"
     ]
    },
    {
     "name": "stderr",
     "output_type": "stream",
     "text": [
      "100%|██████████| 272/272 [00:08<00:00, 31.39it/s]\n",
      "100%|██████████| 68/68 [00:01<00:00, 64.20it/s] \n"
     ]
    },
    {
     "name": "stdout",
     "output_type": "stream",
     "text": [
      "[LightGBM] [Warning] Unknown parameter: silent\n",
      "Epoch=17 \n",
      "Validation: = Logloss: 6.298 F1: 99.287 Recall: 99.287 Precision: 99.287 Accuracy: 99.287\n"
     ]
    },
    {
     "name": "stderr",
     "output_type": "stream",
     "text": [
      "100%|██████████| 272/272 [00:08<00:00, 30.98it/s]\n",
      "100%|██████████| 68/68 [00:01<00:00, 42.37it/s]\n"
     ]
    },
    {
     "name": "stdout",
     "output_type": "stream",
     "text": [
      "[LightGBM] [Warning] Unknown parameter: silent\n",
      "Epoch=18 \n",
      "Validation: = Logloss: 6.455 F1: 99.287 Recall: 99.287 Precision: 99.287 Accuracy: 99.287\n"
     ]
    },
    {
     "name": "stderr",
     "output_type": "stream",
     "text": [
      "100%|██████████| 272/272 [00:07<00:00, 37.43it/s]\n",
      "100%|██████████| 68/68 [00:01<00:00, 62.31it/s]\n"
     ]
    },
    {
     "name": "stdout",
     "output_type": "stream",
     "text": [
      "[LightGBM] [Warning] Unknown parameter: silent\n",
      "Epoch=19 \n",
      "Validation: = Logloss: 6.27 F1: 99.31 Recall: 99.31 Precision: 99.31 Accuracy: 99.31\n"
     ]
    },
    {
     "name": "stderr",
     "output_type": "stream",
     "text": [
      "100%|██████████| 272/272 [00:09<00:00, 29.32it/s]\n",
      "100%|██████████| 68/68 [00:01<00:00, 60.91it/s]\n"
     ]
    },
    {
     "name": "stdout",
     "output_type": "stream",
     "text": [
      "[LightGBM] [Warning] Unknown parameter: silent\n",
      "Epoch=20 \n",
      "Validation: = Logloss: 6.239 F1: 99.287 Recall: 99.287 Precision: 99.287 Accuracy: 99.287\n"
     ]
    },
    {
     "name": "stderr",
     "output_type": "stream",
     "text": [
      "100%|██████████| 272/272 [00:11<00:00, 24.31it/s]\n",
      "100%|██████████| 68/68 [00:01<00:00, 46.70it/s]\n"
     ]
    },
    {
     "name": "stdout",
     "output_type": "stream",
     "text": [
      "[LightGBM] [Warning] Unknown parameter: silent\n",
      "Epoch=21 \n",
      "Validation: = Logloss: 5.994 F1: 99.287 Recall: 99.287 Precision: 99.287 Accuracy: 99.287\n"
     ]
    },
    {
     "name": "stderr",
     "output_type": "stream",
     "text": [
      "100%|██████████| 272/272 [00:07<00:00, 36.78it/s]\n",
      "100%|██████████| 68/68 [00:01<00:00, 63.69it/s] \n"
     ]
    },
    {
     "name": "stdout",
     "output_type": "stream",
     "text": [
      "[LightGBM] [Warning] Unknown parameter: silent\n",
      "Epoch=22 \n",
      "Validation: = Logloss: 5.933 F1: 99.379 Recall: 99.379 Precision: 99.379 Accuracy: 99.379\n"
     ]
    },
    {
     "name": "stderr",
     "output_type": "stream",
     "text": [
      "100%|██████████| 272/272 [00:09<00:00, 29.79it/s]\n",
      "100%|██████████| 68/68 [00:01<00:00, 63.53it/s]\n"
     ]
    },
    {
     "name": "stdout",
     "output_type": "stream",
     "text": [
      "[LightGBM] [Warning] Unknown parameter: silent\n",
      "Epoch=23 \n",
      "Validation: = Logloss: 6.054 F1: 99.287 Recall: 99.287 Precision: 99.287 Accuracy: 99.287\n"
     ]
    },
    {
     "name": "stderr",
     "output_type": "stream",
     "text": [
      "100%|██████████| 272/272 [00:10<00:00, 24.83it/s]\n",
      "100%|██████████| 68/68 [00:01<00:00, 34.48it/s]\n"
     ]
    },
    {
     "name": "stdout",
     "output_type": "stream",
     "text": [
      "[LightGBM] [Warning] Unknown parameter: silent\n",
      "Epoch=24 \n",
      "Validation: = Logloss: 5.944 F1: 99.356 Recall: 99.356 Precision: 99.356 Accuracy: 99.356\n"
     ]
    },
    {
     "name": "stderr",
     "output_type": "stream",
     "text": [
      "100%|██████████| 272/272 [00:07<00:00, 36.92it/s]\n",
      "100%|██████████| 68/68 [00:01<00:00, 64.85it/s] \n"
     ]
    },
    {
     "name": "stdout",
     "output_type": "stream",
     "text": [
      "[LightGBM] [Warning] Unknown parameter: silent\n",
      "Epoch=25 \n",
      "Validation: = Logloss: 4.429 F1: 99.402 Recall: 99.402 Precision: 99.402 Accuracy: 99.402\n"
     ]
    },
    {
     "name": "stderr",
     "output_type": "stream",
     "text": [
      "100%|██████████| 272/272 [00:09<00:00, 29.52it/s]\n",
      "100%|██████████| 68/68 [00:01<00:00, 61.96it/s]\n"
     ]
    },
    {
     "name": "stdout",
     "output_type": "stream",
     "text": [
      "[LightGBM] [Warning] Unknown parameter: silent\n",
      "Epoch=26 \n",
      "Validation: = Logloss: 4.309 F1: 99.31 Recall: 99.31 Precision: 99.31 Accuracy: 99.31\n"
     ]
    },
    {
     "name": "stderr",
     "output_type": "stream",
     "text": [
      "100%|██████████| 272/272 [00:07<00:00, 34.18it/s]\n",
      "100%|██████████| 68/68 [00:01<00:00, 41.16it/s]\n"
     ]
    },
    {
     "name": "stdout",
     "output_type": "stream",
     "text": [
      "[LightGBM] [Warning] Unknown parameter: silent\n",
      "Epoch=27 \n",
      "Validation: = Logloss: 4.243 F1: 99.379 Recall: 99.379 Precision: 99.379 Accuracy: 99.379\n"
     ]
    },
    {
     "name": "stderr",
     "output_type": "stream",
     "text": [
      "100%|██████████| 272/272 [00:07<00:00, 35.56it/s]\n",
      "100%|██████████| 68/68 [00:01<00:00, 63.15it/s] \n"
     ]
    },
    {
     "name": "stdout",
     "output_type": "stream",
     "text": [
      "[LightGBM] [Warning] Unknown parameter: silent\n",
      "Epoch=28 \n",
      "Validation: = Logloss: 4.397 F1: 99.356 Recall: 99.356 Precision: 99.356 Accuracy: 99.356\n"
     ]
    },
    {
     "name": "stderr",
     "output_type": "stream",
     "text": [
      "100%|██████████| 272/272 [00:09<00:00, 29.43it/s]\n",
      "100%|██████████| 68/68 [00:01<00:00, 63.18it/s]\n"
     ]
    },
    {
     "name": "stdout",
     "output_type": "stream",
     "text": [
      "[LightGBM] [Warning] Unknown parameter: silent\n",
      "Epoch=29 \n",
      "Validation: = Logloss: 4.158 F1: 99.356 Recall: 99.356 Precision: 99.356 Accuracy: 99.356\n"
     ]
    },
    {
     "name": "stderr",
     "output_type": "stream",
     "text": [
      "100%|██████████| 272/272 [00:14<00:00, 18.55it/s]\n",
      "100%|██████████| 68/68 [00:02<00:00, 32.36it/s]\n"
     ]
    },
    {
     "name": "stdout",
     "output_type": "stream",
     "text": [
      "[LightGBM] [Warning] Unknown parameter: silent\n",
      "Epoch=30 \n",
      "Validation: = Logloss: 4.122 F1: 99.356 Recall: 99.356 Precision: 99.356 Accuracy: 99.356\n"
     ]
    },
    {
     "name": "stderr",
     "output_type": "stream",
     "text": [
      "100%|██████████| 272/272 [00:13<00:00, 19.49it/s]\n",
      "100%|██████████| 68/68 [00:02<00:00, 25.92it/s]\n"
     ]
    },
    {
     "name": "stdout",
     "output_type": "stream",
     "text": [
      "[LightGBM] [Warning] Unknown parameter: silent\n",
      "Epoch=31 \n",
      "Validation: = Logloss: 3.958 F1: 99.356 Recall: 99.356 Precision: 99.356 Accuracy: 99.356\n"
     ]
    },
    {
     "name": "stderr",
     "output_type": "stream",
     "text": [
      "100%|██████████| 272/272 [00:16<00:00, 16.34it/s]\n",
      "100%|██████████| 68/68 [00:01<00:00, 63.54it/s] \n"
     ]
    },
    {
     "name": "stdout",
     "output_type": "stream",
     "text": [
      "[LightGBM] [Warning] Unknown parameter: silent\n",
      "Epoch=32 \n",
      "Validation: = Logloss: 3.883 F1: 99.379 Recall: 99.379 Precision: 99.379 Accuracy: 99.379\n"
     ]
    },
    {
     "name": "stderr",
     "output_type": "stream",
     "text": [
      "100%|██████████| 272/272 [00:09<00:00, 30.09it/s]\n",
      "100%|██████████| 68/68 [00:01<00:00, 51.01it/s]\n"
     ]
    },
    {
     "name": "stdout",
     "output_type": "stream",
     "text": [
      "[LightGBM] [Warning] Unknown parameter: silent\n",
      "Epoch=33 \n",
      "Validation: = Logloss: 3.92 F1: 99.287 Recall: 99.287 Precision: 99.287 Accuracy: 99.287\n"
     ]
    },
    {
     "name": "stderr",
     "output_type": "stream",
     "text": [
      "100%|██████████| 272/272 [00:07<00:00, 36.91it/s]\n",
      "100%|██████████| 68/68 [00:01<00:00, 63.20it/s] \n"
     ]
    },
    {
     "name": "stdout",
     "output_type": "stream",
     "text": [
      "[LightGBM] [Warning] Unknown parameter: silent\n",
      "Epoch=34 \n",
      "Validation: = Logloss: 4.01 F1: 99.379 Recall: 99.379 Precision: 99.379 Accuracy: 99.379\n"
     ]
    },
    {
     "name": "stderr",
     "output_type": "stream",
     "text": [
      "100%|██████████| 272/272 [00:08<00:00, 30.50it/s]\n",
      "100%|██████████| 68/68 [00:01<00:00, 63.63it/s] \n"
     ]
    },
    {
     "name": "stdout",
     "output_type": "stream",
     "text": [
      "[LightGBM] [Warning] Unknown parameter: silent\n",
      "Epoch=35 \n",
      "Validation: = Logloss: 3.95 F1: 99.356 Recall: 99.356 Precision: 99.356 Accuracy: 99.356\n"
     ]
    },
    {
     "name": "stderr",
     "output_type": "stream",
     "text": [
      "100%|██████████| 272/272 [00:08<00:00, 31.71it/s]\n",
      "100%|██████████| 68/68 [00:01<00:00, 40.26it/s]\n"
     ]
    },
    {
     "name": "stdout",
     "output_type": "stream",
     "text": [
      "[LightGBM] [Warning] Unknown parameter: silent\n",
      "Epoch=36 \n",
      "Validation: = Logloss: 3.896 F1: 99.333 Recall: 99.333 Precision: 99.333 Accuracy: 99.333\n"
     ]
    },
    {
     "name": "stderr",
     "output_type": "stream",
     "text": [
      "100%|██████████| 272/272 [00:07<00:00, 37.13it/s]\n",
      "100%|██████████| 68/68 [00:01<00:00, 62.56it/s]\n"
     ]
    },
    {
     "name": "stdout",
     "output_type": "stream",
     "text": [
      "[LightGBM] [Warning] Unknown parameter: silent\n",
      "Epoch=37 \n",
      "Validation: = Logloss: 3.868 F1: 99.379 Recall: 99.379 Precision: 99.379 Accuracy: 99.379\n"
     ]
    },
    {
     "name": "stderr",
     "output_type": "stream",
     "text": [
      "100%|██████████| 272/272 [00:09<00:00, 29.86it/s]\n",
      "100%|██████████| 68/68 [00:01<00:00, 62.85it/s] \n"
     ]
    },
    {
     "name": "stdout",
     "output_type": "stream",
     "text": [
      "[LightGBM] [Warning] Unknown parameter: silent\n",
      "Epoch=38 \n",
      "Validation: = Logloss: 4.14 F1: 99.287 Recall: 99.287 Precision: 99.287 Accuracy: 99.287\n"
     ]
    },
    {
     "name": "stderr",
     "output_type": "stream",
     "text": [
      "100%|██████████| 272/272 [00:08<00:00, 33.23it/s]\n",
      "100%|██████████| 68/68 [00:01<00:00, 39.81it/s]\n"
     ]
    },
    {
     "name": "stdout",
     "output_type": "stream",
     "text": [
      "[LightGBM] [Warning] Unknown parameter: silent\n",
      "Epoch=39 \n",
      "Validation: = Logloss: 4.002 F1: 99.356 Recall: 99.356 Precision: 99.356 Accuracy: 99.356\n"
     ]
    },
    {
     "name": "stderr",
     "output_type": "stream",
     "text": [
      "100%|██████████| 272/272 [00:07<00:00, 35.80it/s]\n",
      "100%|██████████| 68/68 [00:01<00:00, 64.30it/s] \n"
     ]
    },
    {
     "name": "stdout",
     "output_type": "stream",
     "text": [
      "[LightGBM] [Warning] Unknown parameter: silent\n",
      "Epoch=40 \n",
      "Validation: = Logloss: 4.113 F1: 99.356 Recall: 99.356 Precision: 99.356 Accuracy: 99.356\n"
     ]
    },
    {
     "name": "stderr",
     "output_type": "stream",
     "text": [
      "100%|██████████| 272/272 [00:09<00:00, 29.71it/s]\n",
      "100%|██████████| 68/68 [00:01<00:00, 62.70it/s]\n"
     ]
    },
    {
     "name": "stdout",
     "output_type": "stream",
     "text": [
      "[LightGBM] [Warning] Unknown parameter: silent\n",
      "Epoch=41 \n",
      "Validation: = Logloss: 3.919 F1: 99.333 Recall: 99.333 Precision: 99.333 Accuracy: 99.333\n"
     ]
    },
    {
     "name": "stderr",
     "output_type": "stream",
     "text": [
      "100%|██████████| 272/272 [00:07<00:00, 34.96it/s]\n",
      "100%|██████████| 68/68 [00:01<00:00, 40.51it/s]\n"
     ]
    },
    {
     "name": "stdout",
     "output_type": "stream",
     "text": [
      "[LightGBM] [Warning] Unknown parameter: silent\n",
      "Epoch=42 \n",
      "Validation: = Logloss: 3.882 F1: 99.379 Recall: 99.379 Precision: 99.379 Accuracy: 99.379\n"
     ]
    },
    {
     "name": "stderr",
     "output_type": "stream",
     "text": [
      "100%|██████████| 272/272 [00:08<00:00, 30.86it/s]\n",
      "100%|██████████| 68/68 [00:01<00:00, 63.35it/s]\n"
     ]
    },
    {
     "name": "stdout",
     "output_type": "stream",
     "text": [
      "[LightGBM] [Warning] Unknown parameter: silent\n",
      "Epoch=43 \n",
      "Validation: = Logloss: 3.974 F1: 99.333 Recall: 99.333 Precision: 99.333 Accuracy: 99.333\n"
     ]
    },
    {
     "name": "stderr",
     "output_type": "stream",
     "text": [
      "100%|██████████| 272/272 [00:09<00:00, 29.56it/s]\n",
      "100%|██████████| 68/68 [00:01<00:00, 62.98it/s]\n"
     ]
    },
    {
     "name": "stdout",
     "output_type": "stream",
     "text": [
      "[LightGBM] [Warning] Unknown parameter: silent\n",
      "Epoch=44 \n",
      "Validation: = Logloss: 3.893 F1: 99.356 Recall: 99.356 Precision: 99.356 Accuracy: 99.356\n"
     ]
    },
    {
     "name": "stderr",
     "output_type": "stream",
     "text": [
      "100%|██████████| 272/272 [00:07<00:00, 34.20it/s]\n",
      "100%|██████████| 68/68 [00:01<00:00, 35.32it/s]\n"
     ]
    },
    {
     "name": "stdout",
     "output_type": "stream",
     "text": [
      "[LightGBM] [Warning] Unknown parameter: silent\n",
      "Epoch=45 \n",
      "Validation: = Logloss: 3.807 F1: 99.333 Recall: 99.333 Precision: 99.333 Accuracy: 99.333\n"
     ]
    },
    {
     "name": "stderr",
     "output_type": "stream",
     "text": [
      "100%|██████████| 272/272 [00:09<00:00, 27.72it/s]\n",
      "100%|██████████| 68/68 [00:01<00:00, 63.21it/s] \n"
     ]
    },
    {
     "name": "stdout",
     "output_type": "stream",
     "text": [
      "[LightGBM] [Warning] Unknown parameter: silent\n",
      "Epoch=46 \n",
      "Validation: = Logloss: 3.75 F1: 99.333 Recall: 99.333 Precision: 99.333 Accuracy: 99.333\n"
     ]
    },
    {
     "name": "stderr",
     "output_type": "stream",
     "text": [
      "100%|██████████| 272/272 [00:08<00:00, 30.75it/s]\n",
      "100%|██████████| 68/68 [00:01<00:00, 45.13it/s]\n"
     ]
    },
    {
     "name": "stdout",
     "output_type": "stream",
     "text": [
      "[LightGBM] [Warning] Unknown parameter: silent\n",
      "Epoch=47 \n",
      "Validation: = Logloss: 3.864 F1: 99.402 Recall: 99.402 Precision: 99.402 Accuracy: 99.402\n"
     ]
    },
    {
     "name": "stderr",
     "output_type": "stream",
     "text": [
      "100%|██████████| 272/272 [00:07<00:00, 36.77it/s]\n",
      "100%|██████████| 68/68 [00:01<00:00, 62.67it/s] \n"
     ]
    },
    {
     "name": "stdout",
     "output_type": "stream",
     "text": [
      "[LightGBM] [Warning] Unknown parameter: silent\n",
      "Epoch=48 \n",
      "Validation: = Logloss: 3.756 F1: 99.356 Recall: 99.356 Precision: 99.356 Accuracy: 99.356\n"
     ]
    },
    {
     "name": "stderr",
     "output_type": "stream",
     "text": [
      "100%|██████████| 272/272 [00:09<00:00, 29.49it/s]\n",
      "100%|██████████| 68/68 [00:01<00:00, 62.49it/s]\n"
     ]
    },
    {
     "name": "stdout",
     "output_type": "stream",
     "text": [
      "[LightGBM] [Warning] Unknown parameter: silent\n",
      "Epoch=49 \n",
      "Validation: = Logloss: 3.792 F1: 99.333 Recall: 99.333 Precision: 99.333 Accuracy: 99.333\n",
      "[LightGBM] [Warning] Unknown parameter: silent\n",
      "[LightGBM] [Warning] Unknown parameter: silent\n",
      "[LightGBM] [Info] Auto-choosing row-wise multi-threading, the overhead of testing was 0.012261 seconds.\n",
      "You can set `force_row_wise=true` to remove the overhead.\n",
      "And if memory is not enough, you can set `force_col_wise=true`.\n",
      "[LightGBM] [Info] Total Bins 23437\n",
      "[LightGBM] [Info] Number of data points in the train set: 17389, number of used features: 96\n",
      "[LightGBM] [Info] Start training from score -1.953646\n",
      "[LightGBM] [Info] Start training from score -1.478332\n",
      "[LightGBM] [Info] Start training from score -1.306787\n",
      "[LightGBM] [Info] Start training from score -3.130275\n",
      "[LightGBM] [Info] Start training from score -5.544085\n",
      "[LightGBM] [Info] Start training from score -2.672683\n",
      "[LightGBM] [Info] Start training from score -3.306823\n",
      "[LightGBM] [Info] Start training from score -2.180346\n",
      "[LightGBM] [Info] Start training from score -2.372795\n",
      "[LightGBM] [Warning] No further splits with positive gain, best gain: -inf\n",
      "[LightGBM] [Warning] No further splits with positive gain, best gain: -inf\n",
      "[LightGBM] [Warning] No further splits with positive gain, best gain: -inf\n",
      "[LightGBM] [Warning] No further splits with positive gain, best gain: -inf\n",
      "[LightGBM] [Warning] No further splits with positive gain, best gain: -inf\n",
      "[LightGBM] [Warning] No further splits with positive gain, best gain: -inf\n",
      "[LightGBM] [Warning] No further splits with positive gain, best gain: -inf\n",
      "[LightGBM] [Warning] No further splits with positive gain, best gain: -inf\n",
      "[LightGBM] [Warning] No further splits with positive gain, best gain: -inf\n",
      "[LightGBM] [Warning] No further splits with positive gain, best gain: -inf\n",
      "[LightGBM] [Warning] No further splits with positive gain, best gain: -inf\n",
      "[LightGBM] [Warning] No further splits with positive gain, best gain: -inf\n",
      "[LightGBM] [Warning] No further splits with positive gain, best gain: -inf\n",
      "[LightGBM] [Warning] No further splits with positive gain, best gain: -inf\n",
      "[LightGBM] [Warning] No further splits with positive gain, best gain: -inf\n",
      "[LightGBM] [Warning] No further splits with positive gain, best gain: -inf\n",
      "[LightGBM] [Warning] No further splits with positive gain, best gain: -inf\n",
      "[LightGBM] [Warning] No further splits with positive gain, best gain: -inf\n",
      "[LightGBM] [Warning] No further splits with positive gain, best gain: -inf\n",
      "[LightGBM] [Warning] No further splits with positive gain, best gain: -inf\n",
      "[LightGBM] [Warning] No further splits with positive gain, best gain: -inf\n",
      "[LightGBM] [Warning] No further splits with positive gain, best gain: -inf\n",
      "[LightGBM] [Warning] No further splits with positive gain, best gain: -inf\n",
      "[LightGBM] [Warning] No further splits with positive gain, best gain: -inf\n",
      "[LightGBM] [Warning] No further splits with positive gain, best gain: -inf\n",
      "[LightGBM] [Warning] No further splits with positive gain, best gain: -inf\n",
      "[LightGBM] [Warning] No further splits with positive gain, best gain: -inf\n",
      "[LightGBM] [Warning] No further splits with positive gain, best gain: -inf\n",
      "[LightGBM] [Warning] No further splits with positive gain, best gain: -inf\n",
      "[LightGBM] [Warning] No further splits with positive gain, best gain: -inf\n",
      "[LightGBM] [Warning] No further splits with positive gain, best gain: -inf\n",
      "[LightGBM] [Warning] No further splits with positive gain, best gain: -inf\n",
      "[LightGBM] [Warning] No further splits with positive gain, best gain: -inf\n",
      "[LightGBM] [Warning] No further splits with positive gain, best gain: -inf\n",
      "[LightGBM] [Warning] No further splits with positive gain, best gain: -inf\n",
      "[LightGBM] [Warning] No further splits with positive gain, best gain: -inf\n",
      "[LightGBM] [Warning] No further splits with positive gain, best gain: -inf\n",
      "[LightGBM] [Warning] No further splits with positive gain, best gain: -inf\n",
      "[LightGBM] [Warning] No further splits with positive gain, best gain: -inf\n",
      "[LightGBM] [Warning] No further splits with positive gain, best gain: -inf\n",
      "[LightGBM] [Warning] No further splits with positive gain, best gain: -inf\n",
      "[LightGBM] [Warning] No further splits with positive gain, best gain: -inf\n",
      "[LightGBM] [Warning] No further splits with positive gain, best gain: -inf\n",
      "[LightGBM] [Warning] No further splits with positive gain, best gain: -inf\n",
      "[LightGBM] [Warning] No further splits with positive gain, best gain: -inf\n",
      "[LightGBM] [Warning] No further splits with positive gain, best gain: -inf\n",
      "[LightGBM] [Warning] No further splits with positive gain, best gain: -inf\n",
      "[LightGBM] [Warning] No further splits with positive gain, best gain: -inf\n",
      "[LightGBM] [Warning] No further splits with positive gain, best gain: -inf\n",
      "[LightGBM] [Warning] No further splits with positive gain, best gain: -inf\n",
      "[LightGBM] [Warning] No further splits with positive gain, best gain: -inf\n",
      "[LightGBM] [Warning] No further splits with positive gain, best gain: -inf\n",
      "[LightGBM] [Warning] No further splits with positive gain, best gain: -inf\n",
      "[LightGBM] [Warning] No further splits with positive gain, best gain: -inf\n",
      "[LightGBM] [Warning] No further splits with positive gain, best gain: -inf\n",
      "[LightGBM] [Warning] No further splits with positive gain, best gain: -inf\n",
      "[LightGBM] [Warning] No further splits with positive gain, best gain: -inf\n",
      "[LightGBM] [Warning] No further splits with positive gain, best gain: -inf\n",
      "[LightGBM] [Warning] No further splits with positive gain, best gain: -inf\n",
      "[LightGBM] [Warning] No further splits with positive gain, best gain: -inf\n",
      "[LightGBM] [Warning] No further splits with positive gain, best gain: -inf\n",
      "[LightGBM] [Warning] No further splits with positive gain, best gain: -inf\n",
      "[LightGBM] [Warning] No further splits with positive gain, best gain: -inf\n",
      "[LightGBM] [Warning] No further splits with positive gain, best gain: -inf\n",
      "[LightGBM] [Warning] No further splits with positive gain, best gain: -inf\n",
      "[LightGBM] [Warning] No further splits with positive gain, best gain: -inf\n",
      "[LightGBM] [Warning] No further splits with positive gain, best gain: -inf\n",
      "[LightGBM] [Warning] No further splits with positive gain, best gain: -inf\n",
      "[LightGBM] [Warning] No further splits with positive gain, best gain: -inf\n",
      "[LightGBM] [Warning] No further splits with positive gain, best gain: -inf\n",
      "[LightGBM] [Warning] No further splits with positive gain, best gain: -inf\n",
      "[LightGBM] [Warning] No further splits with positive gain, best gain: -inf\n",
      "[LightGBM] [Warning] No further splits with positive gain, best gain: -inf\n",
      "[LightGBM] [Warning] No further splits with positive gain, best gain: -inf\n",
      "[LightGBM] [Warning] No further splits with positive gain, best gain: -inf\n",
      "[LightGBM] [Warning] No further splits with positive gain, best gain: -inf\n",
      "[LightGBM] [Warning] No further splits with positive gain, best gain: -inf\n",
      "[LightGBM] [Warning] No further splits with positive gain, best gain: -inf\n",
      "[LightGBM] [Warning] No further splits with positive gain, best gain: -inf\n",
      "[LightGBM] [Warning] No further splits with positive gain, best gain: -inf\n",
      "[LightGBM] [Warning] No further splits with positive gain, best gain: -inf\n",
      "[LightGBM] [Warning] No further splits with positive gain, best gain: -inf\n",
      "[LightGBM] [Warning] No further splits with positive gain, best gain: -inf\n",
      "[LightGBM] [Warning] No further splits with positive gain, best gain: -inf\n",
      "[LightGBM] [Warning] No further splits with positive gain, best gain: -inf\n",
      "[LightGBM] [Warning] No further splits with positive gain, best gain: -inf\n",
      "[LightGBM] [Warning] No further splits with positive gain, best gain: -inf\n",
      "[LightGBM] [Warning] No further splits with positive gain, best gain: -inf\n",
      "[LightGBM] [Warning] No further splits with positive gain, best gain: -inf\n",
      "[LightGBM] [Warning] No further splits with positive gain, best gain: -inf\n",
      "[LightGBM] [Warning] No further splits with positive gain, best gain: -inf\n",
      "[LightGBM] [Warning] No further splits with positive gain, best gain: -inf\n",
      "[LightGBM] [Warning] No further splits with positive gain, best gain: -inf\n",
      "[LightGBM] [Warning] No further splits with positive gain, best gain: -inf\n",
      "[LightGBM] [Warning] No further splits with positive gain, best gain: -inf\n",
      "[LightGBM] [Warning] No further splits with positive gain, best gain: -inf\n",
      "[LightGBM] [Warning] No further splits with positive gain, best gain: -inf\n",
      "[LightGBM] [Warning] No further splits with positive gain, best gain: -inf\n",
      "[LightGBM] [Warning] No further splits with positive gain, best gain: -inf\n",
      "[LightGBM] [Warning] No further splits with positive gain, best gain: -inf\n",
      "[LightGBM] [Warning] No further splits with positive gain, best gain: -inf\n",
      "[LightGBM] [Warning] No further splits with positive gain, best gain: -inf\n",
      "[LightGBM] [Warning] No further splits with positive gain, best gain: -inf\n",
      "[LightGBM] [Warning] No further splits with positive gain, best gain: -inf\n",
      "[LightGBM] [Warning] No further splits with positive gain, best gain: -inf\n",
      "[LightGBM] [Warning] No further splits with positive gain, best gain: -inf\n",
      "[LightGBM] [Warning] No further splits with positive gain, best gain: -inf\n",
      "[LightGBM] [Warning] No further splits with positive gain, best gain: -inf\n",
      "[LightGBM] [Warning] No further splits with positive gain, best gain: -inf\n",
      "[LightGBM] [Warning] No further splits with positive gain, best gain: -inf\n",
      "[LightGBM] [Warning] No further splits with positive gain, best gain: -inf\n",
      "[LightGBM] [Warning] No further splits with positive gain, best gain: -inf\n",
      "[LightGBM] [Warning] No further splits with positive gain, best gain: -inf\n",
      "[LightGBM] [Warning] No further splits with positive gain, best gain: -inf\n",
      "[LightGBM] [Warning] No further splits with positive gain, best gain: -inf\n",
      "[LightGBM] [Warning] No further splits with positive gain, best gain: -inf\n",
      "[LightGBM] [Warning] No further splits with positive gain, best gain: -inf\n",
      "[LightGBM] [Warning] No further splits with positive gain, best gain: -inf\n",
      "[LightGBM] [Warning] No further splits with positive gain, best gain: -inf\n",
      "[LightGBM] [Warning] No further splits with positive gain, best gain: -inf\n",
      "[LightGBM] [Warning] No further splits with positive gain, best gain: -inf\n",
      "[LightGBM] [Warning] No further splits with positive gain, best gain: -inf\n",
      "[LightGBM] [Warning] No further splits with positive gain, best gain: -inf\n",
      "[LightGBM] [Warning] No further splits with positive gain, best gain: -inf\n",
      "[LightGBM] [Warning] No further splits with positive gain, best gain: -inf\n",
      "[LightGBM] [Warning] No further splits with positive gain, best gain: -inf\n",
      "[LightGBM] [Warning] No further splits with positive gain, best gain: -inf\n",
      "[LightGBM] [Warning] No further splits with positive gain, best gain: -inf\n",
      "[LightGBM] [Warning] No further splits with positive gain, best gain: -inf\n",
      "[LightGBM] [Warning] No further splits with positive gain, best gain: -inf\n",
      "[LightGBM] [Warning] No further splits with positive gain, best gain: -inf\n",
      "[LightGBM] [Warning] No further splits with positive gain, best gain: -inf\n",
      "[LightGBM] [Warning] No further splits with positive gain, best gain: -inf\n",
      "[LightGBM] [Warning] No further splits with positive gain, best gain: -inf\n",
      "[LightGBM] [Warning] No further splits with positive gain, best gain: -inf\n",
      "[LightGBM] [Warning] No further splits with positive gain, best gain: -inf\n",
      "[LightGBM] [Warning] No further splits with positive gain, best gain: -inf\n",
      "[LightGBM] [Warning] No further splits with positive gain, best gain: -inf\n",
      "[LightGBM] [Warning] No further splits with positive gain, best gain: -inf\n",
      "[LightGBM] [Warning] No further splits with positive gain, best gain: -inf\n",
      "[LightGBM] [Warning] No further splits with positive gain, best gain: -inf\n",
      "[LightGBM] [Warning] No further splits with positive gain, best gain: -inf\n",
      "[LightGBM] [Warning] No further splits with positive gain, best gain: -inf\n",
      "[LightGBM] [Warning] No further splits with positive gain, best gain: -inf\n",
      "[LightGBM] [Warning] No further splits with positive gain, best gain: -inf\n",
      "[LightGBM] [Warning] No further splits with positive gain, best gain: -inf\n",
      "[LightGBM] [Warning] No further splits with positive gain, best gain: -inf\n",
      "[LightGBM] [Warning] No further splits with positive gain, best gain: -inf\n",
      "[LightGBM] [Warning] No further splits with positive gain, best gain: -inf\n",
      "[LightGBM] [Warning] No further splits with positive gain, best gain: -inf\n",
      "[LightGBM] [Warning] No further splits with positive gain, best gain: -inf\n",
      "[LightGBM] [Warning] No further splits with positive gain, best gain: -inf\n",
      "[LightGBM] [Warning] No further splits with positive gain, best gain: -inf\n",
      "[LightGBM] [Warning] No further splits with positive gain, best gain: -inf\n",
      "[LightGBM] [Warning] No further splits with positive gain, best gain: -inf\n",
      "[LightGBM] [Warning] No further splits with positive gain, best gain: -inf\n",
      "[LightGBM] [Warning] No further splits with positive gain, best gain: -inf\n",
      "[LightGBM] [Warning] No further splits with positive gain, best gain: -inf\n",
      "[LightGBM] [Warning] No further splits with positive gain, best gain: -inf\n",
      "[LightGBM] [Warning] No further splits with positive gain, best gain: -inf\n",
      "[LightGBM] [Warning] No further splits with positive gain, best gain: -inf\n",
      "[LightGBM] [Warning] No further splits with positive gain, best gain: -inf\n",
      "[LightGBM] [Warning] No further splits with positive gain, best gain: -inf\n",
      "[LightGBM] [Warning] No further splits with positive gain, best gain: -inf\n",
      "[LightGBM] [Warning] No further splits with positive gain, best gain: -inf\n",
      "[LightGBM] [Warning] No further splits with positive gain, best gain: -inf\n",
      "[LightGBM] [Warning] No further splits with positive gain, best gain: -inf\n",
      "[LightGBM] [Warning] No further splits with positive gain, best gain: -inf\n",
      "[LightGBM] [Warning] No further splits with positive gain, best gain: -inf\n",
      "[LightGBM] [Warning] No further splits with positive gain, best gain: -inf\n",
      "[LightGBM] [Warning] No further splits with positive gain, best gain: -inf\n",
      "[LightGBM] [Warning] No further splits with positive gain, best gain: -inf\n",
      "[LightGBM] [Warning] No further splits with positive gain, best gain: -inf\n",
      "[LightGBM] [Warning] No further splits with positive gain, best gain: -inf\n",
      "[LightGBM] [Warning] No further splits with positive gain, best gain: -inf\n",
      "[LightGBM] [Warning] No further splits with positive gain, best gain: -inf\n",
      "[LightGBM] [Warning] No further splits with positive gain, best gain: -inf\n",
      "[LightGBM] [Warning] No further splits with positive gain, best gain: -inf\n",
      "[LightGBM] [Warning] No further splits with positive gain, best gain: -inf\n"
     ]
    },
    {
     "name": "stderr",
     "output_type": "stream",
     "text": [
      "100%|██████████| 272/272 [00:11<00:00, 23.07it/s]\n",
      "100%|██████████| 68/68 [00:01<00:00, 56.68it/s]\n"
     ]
    },
    {
     "name": "stdout",
     "output_type": "stream",
     "text": [
      "[LightGBM] [Warning] Unknown parameter: silent\n",
      "Epoch=0 \n",
      "Validation: = Logloss: 14.403 F1: 99.379 Recall: 99.379 Precision: 99.379 Accuracy: 99.379\n"
     ]
    },
    {
     "name": "stderr",
     "output_type": "stream",
     "text": [
      "100%|██████████| 272/272 [00:07<00:00, 36.24it/s]\n",
      "100%|██████████| 68/68 [00:01<00:00, 54.26it/s]\n"
     ]
    },
    {
     "name": "stdout",
     "output_type": "stream",
     "text": [
      "[LightGBM] [Warning] Unknown parameter: silent\n",
      "Epoch=1 \n",
      "Validation: = Logloss: 12.807 F1: 99.379 Recall: 99.379 Precision: 99.379 Accuracy: 99.379\n"
     ]
    },
    {
     "name": "stderr",
     "output_type": "stream",
     "text": [
      "100%|██████████| 272/272 [00:09<00:00, 29.66it/s]\n",
      "100%|██████████| 68/68 [00:01<00:00, 61.62it/s]\n"
     ]
    },
    {
     "name": "stdout",
     "output_type": "stream",
     "text": [
      "[LightGBM] [Warning] Unknown parameter: silent\n",
      "Epoch=2 \n",
      "Validation: = Logloss: 12.158 F1: 99.402 Recall: 99.402 Precision: 99.402 Accuracy: 99.402\n"
     ]
    },
    {
     "name": "stderr",
     "output_type": "stream",
     "text": [
      "100%|██████████| 272/272 [00:09<00:00, 29.72it/s]\n",
      "100%|██████████| 68/68 [00:01<00:00, 48.76it/s]\n"
     ]
    },
    {
     "name": "stdout",
     "output_type": "stream",
     "text": [
      "[LightGBM] [Warning] Unknown parameter: silent\n",
      "Epoch=3 \n",
      "Validation: = Logloss: 12.348 F1: 99.195 Recall: 99.195 Precision: 99.195 Accuracy: 99.195\n"
     ]
    },
    {
     "name": "stderr",
     "output_type": "stream",
     "text": [
      "100%|██████████| 272/272 [00:07<00:00, 37.20it/s]\n",
      "100%|██████████| 68/68 [00:01<00:00, 63.87it/s] \n"
     ]
    },
    {
     "name": "stdout",
     "output_type": "stream",
     "text": [
      "[LightGBM] [Warning] Unknown parameter: silent\n",
      "Epoch=4 \n",
      "Validation: = Logloss: 12.305 F1: 99.356 Recall: 99.356 Precision: 99.356 Accuracy: 99.356\n"
     ]
    },
    {
     "name": "stderr",
     "output_type": "stream",
     "text": [
      "100%|██████████| 272/272 [00:08<00:00, 30.44it/s]\n",
      "100%|██████████| 68/68 [00:01<00:00, 64.33it/s] \n"
     ]
    },
    {
     "name": "stdout",
     "output_type": "stream",
     "text": [
      "[LightGBM] [Warning] Unknown parameter: silent\n",
      "Epoch=5 \n",
      "Validation: = Logloss: 8.507 F1: 99.425 Recall: 99.425 Precision: 99.425 Accuracy: 99.425\n"
     ]
    },
    {
     "name": "stderr",
     "output_type": "stream",
     "text": [
      "100%|██████████| 272/272 [00:08<00:00, 31.06it/s]\n",
      "100%|██████████| 68/68 [00:01<00:00, 39.95it/s]\n"
     ]
    },
    {
     "name": "stdout",
     "output_type": "stream",
     "text": [
      "[LightGBM] [Warning] Unknown parameter: silent\n",
      "Epoch=6 \n",
      "Validation: = Logloss: 8.249 F1: 99.379 Recall: 99.379 Precision: 99.379 Accuracy: 99.379\n"
     ]
    },
    {
     "name": "stderr",
     "output_type": "stream",
     "text": [
      "100%|██████████| 272/272 [00:07<00:00, 36.58it/s]\n",
      "100%|██████████| 68/68 [00:01<00:00, 63.70it/s] \n"
     ]
    },
    {
     "name": "stdout",
     "output_type": "stream",
     "text": [
      "[LightGBM] [Warning] Unknown parameter: silent\n",
      "Epoch=7 \n",
      "Validation: = Logloss: 8.131 F1: 99.379 Recall: 99.379 Precision: 99.379 Accuracy: 99.379\n"
     ]
    },
    {
     "name": "stderr",
     "output_type": "stream",
     "text": [
      "100%|██████████| 272/272 [00:09<00:00, 28.49it/s]\n",
      "100%|██████████| 68/68 [00:01<00:00, 62.48it/s]\n"
     ]
    },
    {
     "name": "stdout",
     "output_type": "stream",
     "text": [
      "[LightGBM] [Warning] Unknown parameter: silent\n",
      "Epoch=8 \n",
      "Validation: = Logloss: 8.034 F1: 99.402 Recall: 99.402 Precision: 99.402 Accuracy: 99.402\n"
     ]
    },
    {
     "name": "stderr",
     "output_type": "stream",
     "text": [
      "100%|██████████| 272/272 [00:08<00:00, 31.98it/s]\n",
      "100%|██████████| 68/68 [00:01<00:00, 38.21it/s]\n"
     ]
    },
    {
     "name": "stdout",
     "output_type": "stream",
     "text": [
      "[LightGBM] [Warning] Unknown parameter: silent\n",
      "Epoch=9 \n",
      "Validation: = Logloss: 8.045 F1: 99.379 Recall: 99.379 Precision: 99.379 Accuracy: 99.379\n"
     ]
    },
    {
     "name": "stderr",
     "output_type": "stream",
     "text": [
      "100%|██████████| 272/272 [00:07<00:00, 36.73it/s]\n",
      "100%|██████████| 68/68 [00:01<00:00, 62.43it/s]\n"
     ]
    },
    {
     "name": "stdout",
     "output_type": "stream",
     "text": [
      "[LightGBM] [Warning] Unknown parameter: silent\n",
      "Epoch=10 \n",
      "Validation: = Logloss: 7.811 F1: 99.356 Recall: 99.356 Precision: 99.356 Accuracy: 99.356\n"
     ]
    },
    {
     "name": "stderr",
     "output_type": "stream",
     "text": [
      "100%|██████████| 272/272 [00:09<00:00, 29.64it/s]\n",
      "100%|██████████| 68/68 [00:01<00:00, 61.94it/s]\n"
     ]
    },
    {
     "name": "stdout",
     "output_type": "stream",
     "text": [
      "[LightGBM] [Warning] Unknown parameter: silent\n",
      "Epoch=11 \n",
      "Validation: = Logloss: 7.795 F1: 99.402 Recall: 99.402 Precision: 99.402 Accuracy: 99.402\n"
     ]
    },
    {
     "name": "stderr",
     "output_type": "stream",
     "text": [
      "100%|██████████| 272/272 [00:07<00:00, 34.15it/s]\n",
      "100%|██████████| 68/68 [00:01<00:00, 40.34it/s]\n"
     ]
    },
    {
     "name": "stdout",
     "output_type": "stream",
     "text": [
      "[LightGBM] [Warning] Unknown parameter: silent\n",
      "Epoch=12 \n",
      "Validation: = Logloss: 7.806 F1: 99.402 Recall: 99.402 Precision: 99.402 Accuracy: 99.402\n"
     ]
    },
    {
     "name": "stderr",
     "output_type": "stream",
     "text": [
      "100%|██████████| 272/272 [00:07<00:00, 34.74it/s]\n",
      "100%|██████████| 68/68 [00:01<00:00, 64.78it/s] \n"
     ]
    },
    {
     "name": "stdout",
     "output_type": "stream",
     "text": [
      "[LightGBM] [Warning] Unknown parameter: silent\n",
      "Epoch=13 \n",
      "Validation: = Logloss: 7.909 F1: 99.379 Recall: 99.379 Precision: 99.379 Accuracy: 99.379\n"
     ]
    },
    {
     "name": "stderr",
     "output_type": "stream",
     "text": [
      "100%|██████████| 272/272 [00:09<00:00, 29.60it/s]\n",
      "100%|██████████| 68/68 [00:01<00:00, 60.85it/s]\n"
     ]
    },
    {
     "name": "stdout",
     "output_type": "stream",
     "text": [
      "[LightGBM] [Warning] Unknown parameter: silent\n",
      "Epoch=14 \n",
      "Validation: = Logloss: 7.711 F1: 99.379 Recall: 99.379 Precision: 99.379 Accuracy: 99.379\n"
     ]
    },
    {
     "name": "stderr",
     "output_type": "stream",
     "text": [
      "100%|██████████| 272/272 [00:07<00:00, 37.44it/s]\n",
      "100%|██████████| 68/68 [00:01<00:00, 44.80it/s]\n"
     ]
    },
    {
     "name": "stdout",
     "output_type": "stream",
     "text": [
      "[LightGBM] [Warning] Unknown parameter: silent\n",
      "Epoch=15 \n",
      "Validation: = Logloss: 7.7 F1: 99.379 Recall: 99.379 Precision: 99.379 Accuracy: 99.379\n"
     ]
    },
    {
     "name": "stderr",
     "output_type": "stream",
     "text": [
      "100%|██████████| 272/272 [00:08<00:00, 31.64it/s]\n",
      "100%|██████████| 68/68 [00:01<00:00, 61.88it/s]\n"
     ]
    },
    {
     "name": "stdout",
     "output_type": "stream",
     "text": [
      "[LightGBM] [Warning] Unknown parameter: silent\n",
      "Epoch=16 \n",
      "Validation: = Logloss: 7.626 F1: 99.379 Recall: 99.379 Precision: 99.379 Accuracy: 99.379\n"
     ]
    },
    {
     "name": "stderr",
     "output_type": "stream",
     "text": [
      "100%|██████████| 272/272 [00:11<00:00, 24.38it/s]\n",
      "100%|██████████| 68/68 [00:01<00:00, 60.90it/s] \n"
     ]
    },
    {
     "name": "stdout",
     "output_type": "stream",
     "text": [
      "[LightGBM] [Warning] Unknown parameter: silent\n",
      "Epoch=17 \n",
      "Validation: = Logloss: 7.589 F1: 99.379 Recall: 99.379 Precision: 99.379 Accuracy: 99.379\n"
     ]
    },
    {
     "name": "stderr",
     "output_type": "stream",
     "text": [
      "100%|██████████| 272/272 [00:07<00:00, 36.79it/s]\n",
      "100%|██████████| 68/68 [00:01<00:00, 45.26it/s]\n"
     ]
    },
    {
     "name": "stdout",
     "output_type": "stream",
     "text": [
      "[LightGBM] [Warning] Unknown parameter: silent\n",
      "Epoch=18 \n",
      "Validation: = Logloss: 7.659 F1: 99.379 Recall: 99.379 Precision: 99.379 Accuracy: 99.379\n"
     ]
    },
    {
     "name": "stderr",
     "output_type": "stream",
     "text": [
      "100%|██████████| 272/272 [00:08<00:00, 31.39it/s]\n",
      "100%|██████████| 68/68 [00:01<00:00, 63.94it/s] \n"
     ]
    },
    {
     "name": "stdout",
     "output_type": "stream",
     "text": [
      "[LightGBM] [Warning] Unknown parameter: silent\n",
      "Epoch=19 \n",
      "Validation: = Logloss: 7.468 F1: 99.402 Recall: 99.402 Precision: 99.402 Accuracy: 99.402\n"
     ]
    },
    {
     "name": "stderr",
     "output_type": "stream",
     "text": [
      "100%|██████████| 272/272 [00:09<00:00, 30.04it/s]\n",
      "100%|██████████| 68/68 [00:01<00:00, 52.58it/s]\n"
     ]
    },
    {
     "name": "stdout",
     "output_type": "stream",
     "text": [
      "[LightGBM] [Warning] Unknown parameter: silent\n",
      "Epoch=20 \n",
      "Validation: = Logloss: 7.484 F1: 99.379 Recall: 99.379 Precision: 99.379 Accuracy: 99.379\n"
     ]
    },
    {
     "name": "stderr",
     "output_type": "stream",
     "text": [
      "100%|██████████| 272/272 [00:08<00:00, 30.83it/s]\n",
      "100%|██████████| 68/68 [00:01<00:00, 35.77it/s]\n"
     ]
    },
    {
     "name": "stdout",
     "output_type": "stream",
     "text": [
      "[LightGBM] [Warning] Unknown parameter: silent\n",
      "Epoch=21 \n",
      "Validation: = Logloss: 7.546 F1: 99.379 Recall: 99.379 Precision: 99.379 Accuracy: 99.379\n"
     ]
    },
    {
     "name": "stderr",
     "output_type": "stream",
     "text": [
      "100%|██████████| 272/272 [00:08<00:00, 31.27it/s]\n",
      "100%|██████████| 68/68 [00:01<00:00, 63.07it/s] \n"
     ]
    },
    {
     "name": "stdout",
     "output_type": "stream",
     "text": [
      "[LightGBM] [Warning] Unknown parameter: silent\n",
      "Epoch=22 \n",
      "Validation: = Logloss: 6.991 F1: 99.402 Recall: 99.402 Precision: 99.402 Accuracy: 99.402\n"
     ]
    },
    {
     "name": "stderr",
     "output_type": "stream",
     "text": [
      "100%|██████████| 272/272 [00:09<00:00, 30.20it/s]\n",
      "100%|██████████| 68/68 [00:01<00:00, 46.85it/s]\n"
     ]
    },
    {
     "name": "stdout",
     "output_type": "stream",
     "text": [
      "[LightGBM] [Warning] Unknown parameter: silent\n",
      "Epoch=23 \n",
      "Validation: = Logloss: 6.211 F1: 99.379 Recall: 99.379 Precision: 99.379 Accuracy: 99.379\n"
     ]
    },
    {
     "name": "stderr",
     "output_type": "stream",
     "text": [
      "100%|██████████| 272/272 [00:07<00:00, 37.73it/s]\n",
      "100%|██████████| 68/68 [00:01<00:00, 64.33it/s] \n"
     ]
    },
    {
     "name": "stdout",
     "output_type": "stream",
     "text": [
      "[LightGBM] [Warning] Unknown parameter: silent\n",
      "Epoch=24 \n",
      "Validation: = Logloss: 6.267 F1: 99.264 Recall: 99.264 Precision: 99.264 Accuracy: 99.264\n"
     ]
    },
    {
     "name": "stderr",
     "output_type": "stream",
     "text": [
      "100%|██████████| 272/272 [00:09<00:00, 29.54it/s]\n",
      "100%|██████████| 68/68 [00:01<00:00, 64.22it/s] \n"
     ]
    },
    {
     "name": "stdout",
     "output_type": "stream",
     "text": [
      "[LightGBM] [Warning] Unknown parameter: silent\n",
      "Epoch=25 \n",
      "Validation: = Logloss: 6.098 F1: 99.402 Recall: 99.402 Precision: 99.402 Accuracy: 99.402\n"
     ]
    },
    {
     "name": "stderr",
     "output_type": "stream",
     "text": [
      "100%|██████████| 272/272 [00:08<00:00, 33.09it/s]\n",
      "100%|██████████| 68/68 [00:01<00:00, 36.98it/s]\n"
     ]
    },
    {
     "name": "stdout",
     "output_type": "stream",
     "text": [
      "[LightGBM] [Warning] Unknown parameter: silent\n",
      "Epoch=26 \n",
      "Validation: = Logloss: 6.269 F1: 99.402 Recall: 99.402 Precision: 99.402 Accuracy: 99.402\n"
     ]
    },
    {
     "name": "stderr",
     "output_type": "stream",
     "text": [
      "100%|██████████| 272/272 [00:07<00:00, 36.79it/s]\n",
      "100%|██████████| 68/68 [00:01<00:00, 63.85it/s] \n"
     ]
    },
    {
     "name": "stdout",
     "output_type": "stream",
     "text": [
      "[LightGBM] [Warning] Unknown parameter: silent\n",
      "Epoch=27 \n",
      "Validation: = Logloss: 6.196 F1: 99.402 Recall: 99.402 Precision: 99.402 Accuracy: 99.402\n"
     ]
    },
    {
     "name": "stderr",
     "output_type": "stream",
     "text": [
      "100%|██████████| 272/272 [00:09<00:00, 29.57it/s]\n",
      "100%|██████████| 68/68 [00:01<00:00, 62.58it/s] \n"
     ]
    },
    {
     "name": "stdout",
     "output_type": "stream",
     "text": [
      "[LightGBM] [Warning] Unknown parameter: silent\n",
      "Epoch=28 \n",
      "Validation: = Logloss: 6.145 F1: 99.402 Recall: 99.402 Precision: 99.402 Accuracy: 99.402\n"
     ]
    },
    {
     "name": "stderr",
     "output_type": "stream",
     "text": [
      "100%|██████████| 272/272 [00:07<00:00, 35.11it/s]\n",
      "100%|██████████| 68/68 [00:01<00:00, 40.19it/s]\n"
     ]
    },
    {
     "name": "stdout",
     "output_type": "stream",
     "text": [
      "[LightGBM] [Warning] Unknown parameter: silent\n",
      "Epoch=29 \n",
      "Validation: = Logloss: 6.168 F1: 99.402 Recall: 99.402 Precision: 99.402 Accuracy: 99.402\n"
     ]
    },
    {
     "name": "stderr",
     "output_type": "stream",
     "text": [
      "100%|██████████| 272/272 [00:07<00:00, 34.46it/s]\n",
      "100%|██████████| 68/68 [00:01<00:00, 62.55it/s]\n"
     ]
    },
    {
     "name": "stdout",
     "output_type": "stream",
     "text": [
      "[LightGBM] [Warning] Unknown parameter: silent\n",
      "Epoch=30 \n",
      "Validation: = Logloss: 6.208 F1: 99.425 Recall: 99.425 Precision: 99.425 Accuracy: 99.425\n"
     ]
    },
    {
     "name": "stderr",
     "output_type": "stream",
     "text": [
      "100%|██████████| 272/272 [00:09<00:00, 29.66it/s]\n",
      "100%|██████████| 68/68 [00:01<00:00, 64.58it/s] \n"
     ]
    },
    {
     "name": "stdout",
     "output_type": "stream",
     "text": [
      "[LightGBM] [Warning] Unknown parameter: silent\n",
      "Epoch=31 \n",
      "Validation: = Logloss: 6.065 F1: 99.402 Recall: 99.402 Precision: 99.402 Accuracy: 99.402\n"
     ]
    },
    {
     "name": "stderr",
     "output_type": "stream",
     "text": [
      "100%|██████████| 272/272 [00:07<00:00, 37.21it/s]\n",
      "100%|██████████| 68/68 [00:01<00:00, 40.61it/s]\n"
     ]
    },
    {
     "name": "stdout",
     "output_type": "stream",
     "text": [
      "[LightGBM] [Warning] Unknown parameter: silent\n",
      "Epoch=32 \n",
      "Validation: = Logloss: 6.049 F1: 99.425 Recall: 99.425 Precision: 99.425 Accuracy: 99.425\n"
     ]
    },
    {
     "name": "stderr",
     "output_type": "stream",
     "text": [
      "100%|██████████| 272/272 [00:08<00:00, 32.68it/s]\n",
      "100%|██████████| 68/68 [00:01<00:00, 62.60it/s]\n"
     ]
    },
    {
     "name": "stdout",
     "output_type": "stream",
     "text": [
      "[LightGBM] [Warning] Unknown parameter: silent\n",
      "Epoch=33 \n",
      "Validation: = Logloss: 6.124 F1: 99.425 Recall: 99.425 Precision: 99.425 Accuracy: 99.425\n"
     ]
    },
    {
     "name": "stderr",
     "output_type": "stream",
     "text": [
      "100%|██████████| 272/272 [00:09<00:00, 29.93it/s]\n",
      "100%|██████████| 68/68 [00:01<00:00, 57.28it/s]\n"
     ]
    },
    {
     "name": "stdout",
     "output_type": "stream",
     "text": [
      "[LightGBM] [Warning] Unknown parameter: silent\n",
      "Epoch=34 \n",
      "Validation: = Logloss: 5.983 F1: 99.425 Recall: 99.425 Precision: 99.425 Accuracy: 99.425\n"
     ]
    },
    {
     "name": "stderr",
     "output_type": "stream",
     "text": [
      "100%|██████████| 272/272 [00:07<00:00, 37.32it/s]\n",
      "100%|██████████| 68/68 [00:01<00:00, 64.72it/s] \n"
     ]
    },
    {
     "name": "stdout",
     "output_type": "stream",
     "text": [
      "[LightGBM] [Warning] Unknown parameter: silent\n",
      "Epoch=35 \n",
      "Validation: = Logloss: 6.109 F1: 99.425 Recall: 99.425 Precision: 99.425 Accuracy: 99.425\n"
     ]
    },
    {
     "name": "stderr",
     "output_type": "stream",
     "text": [
      "100%|██████████| 272/272 [00:08<00:00, 30.39it/s]\n",
      "100%|██████████| 68/68 [00:01<00:00, 63.40it/s] \n"
     ]
    },
    {
     "name": "stdout",
     "output_type": "stream",
     "text": [
      "[LightGBM] [Warning] Unknown parameter: silent\n",
      "Epoch=36 \n",
      "Validation: = Logloss: 5.981 F1: 99.402 Recall: 99.402 Precision: 99.402 Accuracy: 99.402\n"
     ]
    },
    {
     "name": "stderr",
     "output_type": "stream",
     "text": [
      "100%|██████████| 272/272 [00:08<00:00, 32.06it/s]\n",
      "100%|██████████| 68/68 [00:01<00:00, 39.31it/s]\n"
     ]
    },
    {
     "name": "stdout",
     "output_type": "stream",
     "text": [
      "[LightGBM] [Warning] Unknown parameter: silent\n",
      "Epoch=37 \n",
      "Validation: = Logloss: 5.949 F1: 99.425 Recall: 99.425 Precision: 99.425 Accuracy: 99.425\n"
     ]
    },
    {
     "name": "stderr",
     "output_type": "stream",
     "text": [
      "100%|██████████| 272/272 [00:07<00:00, 36.73it/s]\n",
      "100%|██████████| 68/68 [00:01<00:00, 63.33it/s] \n"
     ]
    },
    {
     "name": "stdout",
     "output_type": "stream",
     "text": [
      "[LightGBM] [Warning] Unknown parameter: silent\n",
      "Epoch=38 \n",
      "Validation: = Logloss: 6.029 F1: 99.425 Recall: 99.425 Precision: 99.425 Accuracy: 99.425\n"
     ]
    },
    {
     "name": "stderr",
     "output_type": "stream",
     "text": [
      "100%|██████████| 272/272 [00:09<00:00, 29.44it/s]\n",
      "100%|██████████| 68/68 [00:01<00:00, 62.12it/s]\n"
     ]
    },
    {
     "name": "stdout",
     "output_type": "stream",
     "text": [
      "[LightGBM] [Warning] Unknown parameter: silent\n",
      "Epoch=39 \n",
      "Validation: = Logloss: 5.975 F1: 99.425 Recall: 99.425 Precision: 99.425 Accuracy: 99.425\n"
     ]
    },
    {
     "name": "stderr",
     "output_type": "stream",
     "text": [
      "100%|██████████| 272/272 [00:08<00:00, 33.63it/s]\n",
      "100%|██████████| 68/68 [00:01<00:00, 40.15it/s]\n"
     ]
    },
    {
     "name": "stdout",
     "output_type": "stream",
     "text": [
      "[LightGBM] [Warning] Unknown parameter: silent\n",
      "Epoch=40 \n",
      "Validation: = Logloss: 5.937 F1: 99.425 Recall: 99.425 Precision: 99.425 Accuracy: 99.425\n"
     ]
    },
    {
     "name": "stderr",
     "output_type": "stream",
     "text": [
      "100%|██████████| 272/272 [00:07<00:00, 36.20it/s]\n",
      "100%|██████████| 68/68 [00:01<00:00, 62.99it/s]\n"
     ]
    },
    {
     "name": "stdout",
     "output_type": "stream",
     "text": [
      "[LightGBM] [Warning] Unknown parameter: silent\n",
      "Epoch=41 \n",
      "Validation: = Logloss: 6.174 F1: 99.402 Recall: 99.402 Precision: 99.402 Accuracy: 99.402\n"
     ]
    },
    {
     "name": "stderr",
     "output_type": "stream",
     "text": [
      "100%|██████████| 272/272 [00:09<00:00, 29.28it/s]\n",
      "100%|██████████| 68/68 [00:01<00:00, 62.91it/s] \n"
     ]
    },
    {
     "name": "stdout",
     "output_type": "stream",
     "text": [
      "[LightGBM] [Warning] Unknown parameter: silent\n",
      "Epoch=42 \n",
      "Validation: = Logloss: 5.934 F1: 99.402 Recall: 99.402 Precision: 99.402 Accuracy: 99.402\n"
     ]
    },
    {
     "name": "stderr",
     "output_type": "stream",
     "text": [
      "100%|██████████| 272/272 [00:07<00:00, 34.27it/s]\n",
      "100%|██████████| 68/68 [00:01<00:00, 40.76it/s]\n"
     ]
    },
    {
     "name": "stdout",
     "output_type": "stream",
     "text": [
      "[LightGBM] [Warning] Unknown parameter: silent\n",
      "Epoch=43 \n",
      "Validation: = Logloss: 6.027 F1: 99.287 Recall: 99.287 Precision: 99.287 Accuracy: 99.287\n"
     ]
    },
    {
     "name": "stderr",
     "output_type": "stream",
     "text": [
      "100%|██████████| 272/272 [00:09<00:00, 30.16it/s]\n",
      "100%|██████████| 68/68 [00:01<00:00, 41.67it/s]\n"
     ]
    },
    {
     "name": "stdout",
     "output_type": "stream",
     "text": [
      "[LightGBM] [Warning] Unknown parameter: silent\n",
      "Epoch=44 \n",
      "Validation: = Logloss: 5.988 F1: 99.425 Recall: 99.425 Precision: 99.425 Accuracy: 99.425\n"
     ]
    },
    {
     "name": "stderr",
     "output_type": "stream",
     "text": [
      "100%|██████████| 272/272 [00:09<00:00, 29.56it/s]\n",
      "100%|██████████| 68/68 [00:01<00:00, 61.61it/s]\n"
     ]
    },
    {
     "name": "stdout",
     "output_type": "stream",
     "text": [
      "[LightGBM] [Warning] Unknown parameter: silent\n",
      "Epoch=45 \n",
      "Validation: = Logloss: 5.886 F1: 99.425 Recall: 99.425 Precision: 99.425 Accuracy: 99.425\n"
     ]
    },
    {
     "name": "stderr",
     "output_type": "stream",
     "text": [
      "100%|██████████| 272/272 [00:08<00:00, 33.47it/s]\n",
      "100%|██████████| 68/68 [00:01<00:00, 38.72it/s]\n"
     ]
    },
    {
     "name": "stdout",
     "output_type": "stream",
     "text": [
      "[LightGBM] [Warning] Unknown parameter: silent\n",
      "Epoch=46 \n",
      "Validation: = Logloss: 5.883 F1: 99.448 Recall: 99.448 Precision: 99.448 Accuracy: 99.448\n"
     ]
    },
    {
     "name": "stderr",
     "output_type": "stream",
     "text": [
      "100%|██████████| 272/272 [00:07<00:00, 36.84it/s]\n",
      "100%|██████████| 68/68 [00:01<00:00, 62.43it/s]\n"
     ]
    },
    {
     "name": "stdout",
     "output_type": "stream",
     "text": [
      "[LightGBM] [Warning] Unknown parameter: silent\n",
      "Epoch=47 \n",
      "Validation: = Logloss: 5.82 F1: 99.448 Recall: 99.448 Precision: 99.448 Accuracy: 99.448\n"
     ]
    },
    {
     "name": "stderr",
     "output_type": "stream",
     "text": [
      "100%|██████████| 272/272 [00:09<00:00, 29.18it/s]\n",
      "100%|██████████| 68/68 [00:01<00:00, 62.96it/s] \n"
     ]
    },
    {
     "name": "stdout",
     "output_type": "stream",
     "text": [
      "[LightGBM] [Warning] Unknown parameter: silent\n",
      "Epoch=48 \n",
      "Validation: = Logloss: 5.886 F1: 99.448 Recall: 99.448 Precision: 99.448 Accuracy: 99.448\n"
     ]
    },
    {
     "name": "stderr",
     "output_type": "stream",
     "text": [
      "100%|██████████| 272/272 [00:07<00:00, 34.71it/s]\n",
      "100%|██████████| 68/68 [00:01<00:00, 39.77it/s]\n"
     ]
    },
    {
     "name": "stdout",
     "output_type": "stream",
     "text": [
      "[LightGBM] [Warning] Unknown parameter: silent\n",
      "Epoch=49 \n",
      "Validation: = Logloss: 5.927 F1: 99.448 Recall: 99.448 Precision: 99.448 Accuracy: 99.448\n",
      "[LightGBM] [Warning] Unknown parameter: silent\n",
      "[LightGBM] [Warning] Unknown parameter: silent\n",
      "[LightGBM] [Info] Auto-choosing row-wise multi-threading, the overhead of testing was 0.216498 seconds.\n",
      "You can set `force_row_wise=true` to remove the overhead.\n",
      "And if memory is not enough, you can set `force_col_wise=true`.\n",
      "[LightGBM] [Info] Total Bins 23429\n",
      "[LightGBM] [Info] Number of data points in the train set: 17389, number of used features: 96\n",
      "[LightGBM] [Info] Start training from score -1.953240\n",
      "[LightGBM] [Info] Start training from score -1.478584\n",
      "[LightGBM] [Info] Start training from score -1.306575\n",
      "[LightGBM] [Info] Start training from score -3.130275\n",
      "[LightGBM] [Info] Start training from score -5.558900\n",
      "[LightGBM] [Info] Start training from score -2.672683\n",
      "[LightGBM] [Info] Start training from score -3.306823\n",
      "[LightGBM] [Info] Start training from score -2.180346\n",
      "[LightGBM] [Info] Start training from score -2.372795\n",
      "[LightGBM] [Warning] No further splits with positive gain, best gain: -inf\n",
      "[LightGBM] [Warning] No further splits with positive gain, best gain: -inf\n",
      "[LightGBM] [Warning] No further splits with positive gain, best gain: -inf\n",
      "[LightGBM] [Warning] No further splits with positive gain, best gain: -inf\n",
      "[LightGBM] [Warning] No further splits with positive gain, best gain: -inf\n",
      "[LightGBM] [Warning] No further splits with positive gain, best gain: -inf\n",
      "[LightGBM] [Warning] No further splits with positive gain, best gain: -inf\n",
      "[LightGBM] [Warning] No further splits with positive gain, best gain: -inf\n",
      "[LightGBM] [Warning] No further splits with positive gain, best gain: -inf\n",
      "[LightGBM] [Warning] No further splits with positive gain, best gain: -inf\n",
      "[LightGBM] [Warning] No further splits with positive gain, best gain: -inf\n",
      "[LightGBM] [Warning] No further splits with positive gain, best gain: -inf\n",
      "[LightGBM] [Warning] No further splits with positive gain, best gain: -inf\n",
      "[LightGBM] [Warning] No further splits with positive gain, best gain: -inf\n",
      "[LightGBM] [Warning] No further splits with positive gain, best gain: -inf\n",
      "[LightGBM] [Warning] No further splits with positive gain, best gain: -inf\n",
      "[LightGBM] [Warning] No further splits with positive gain, best gain: -inf\n",
      "[LightGBM] [Warning] No further splits with positive gain, best gain: -inf\n",
      "[LightGBM] [Warning] No further splits with positive gain, best gain: -inf\n",
      "[LightGBM] [Warning] No further splits with positive gain, best gain: -inf\n",
      "[LightGBM] [Warning] No further splits with positive gain, best gain: -inf\n",
      "[LightGBM] [Warning] No further splits with positive gain, best gain: -inf\n",
      "[LightGBM] [Warning] No further splits with positive gain, best gain: -inf\n",
      "[LightGBM] [Warning] No further splits with positive gain, best gain: -inf\n",
      "[LightGBM] [Warning] No further splits with positive gain, best gain: -inf\n",
      "[LightGBM] [Warning] No further splits with positive gain, best gain: -inf\n",
      "[LightGBM] [Warning] No further splits with positive gain, best gain: -inf\n",
      "[LightGBM] [Warning] No further splits with positive gain, best gain: -inf\n",
      "[LightGBM] [Warning] No further splits with positive gain, best gain: -inf\n",
      "[LightGBM] [Warning] No further splits with positive gain, best gain: -inf\n",
      "[LightGBM] [Warning] No further splits with positive gain, best gain: -inf\n",
      "[LightGBM] [Warning] No further splits with positive gain, best gain: -inf\n",
      "[LightGBM] [Warning] No further splits with positive gain, best gain: -inf\n",
      "[LightGBM] [Warning] No further splits with positive gain, best gain: -inf\n",
      "[LightGBM] [Warning] No further splits with positive gain, best gain: -inf\n",
      "[LightGBM] [Warning] No further splits with positive gain, best gain: -inf\n",
      "[LightGBM] [Warning] No further splits with positive gain, best gain: -inf\n",
      "[LightGBM] [Warning] No further splits with positive gain, best gain: -inf\n",
      "[LightGBM] [Warning] No further splits with positive gain, best gain: -inf\n",
      "[LightGBM] [Warning] No further splits with positive gain, best gain: -inf\n",
      "[LightGBM] [Warning] No further splits with positive gain, best gain: -inf\n",
      "[LightGBM] [Warning] No further splits with positive gain, best gain: -inf\n",
      "[LightGBM] [Warning] No further splits with positive gain, best gain: -inf\n",
      "[LightGBM] [Warning] No further splits with positive gain, best gain: -inf\n",
      "[LightGBM] [Warning] No further splits with positive gain, best gain: -inf\n",
      "[LightGBM] [Warning] No further splits with positive gain, best gain: -inf\n",
      "[LightGBM] [Warning] No further splits with positive gain, best gain: -inf\n",
      "[LightGBM] [Warning] No further splits with positive gain, best gain: -inf\n",
      "[LightGBM] [Warning] No further splits with positive gain, best gain: -inf\n",
      "[LightGBM] [Warning] No further splits with positive gain, best gain: -inf\n",
      "[LightGBM] [Warning] No further splits with positive gain, best gain: -inf\n",
      "[LightGBM] [Warning] No further splits with positive gain, best gain: -inf\n",
      "[LightGBM] [Warning] No further splits with positive gain, best gain: -inf\n",
      "[LightGBM] [Warning] No further splits with positive gain, best gain: -inf\n",
      "[LightGBM] [Warning] No further splits with positive gain, best gain: -inf\n",
      "[LightGBM] [Warning] No further splits with positive gain, best gain: -inf\n",
      "[LightGBM] [Warning] No further splits with positive gain, best gain: -inf\n",
      "[LightGBM] [Warning] No further splits with positive gain, best gain: -inf\n",
      "[LightGBM] [Warning] No further splits with positive gain, best gain: -inf\n",
      "[LightGBM] [Warning] No further splits with positive gain, best gain: -inf\n",
      "[LightGBM] [Warning] No further splits with positive gain, best gain: -inf\n",
      "[LightGBM] [Warning] No further splits with positive gain, best gain: -inf\n",
      "[LightGBM] [Warning] No further splits with positive gain, best gain: -inf\n",
      "[LightGBM] [Warning] No further splits with positive gain, best gain: -inf\n",
      "[LightGBM] [Warning] No further splits with positive gain, best gain: -inf\n",
      "[LightGBM] [Warning] No further splits with positive gain, best gain: -inf\n",
      "[LightGBM] [Warning] No further splits with positive gain, best gain: -inf\n",
      "[LightGBM] [Warning] No further splits with positive gain, best gain: -inf\n",
      "[LightGBM] [Warning] No further splits with positive gain, best gain: -inf\n",
      "[LightGBM] [Warning] No further splits with positive gain, best gain: -inf\n",
      "[LightGBM] [Warning] No further splits with positive gain, best gain: -inf\n",
      "[LightGBM] [Warning] No further splits with positive gain, best gain: -inf\n",
      "[LightGBM] [Warning] No further splits with positive gain, best gain: -inf\n",
      "[LightGBM] [Warning] No further splits with positive gain, best gain: -inf\n",
      "[LightGBM] [Warning] No further splits with positive gain, best gain: -inf\n",
      "[LightGBM] [Warning] No further splits with positive gain, best gain: -inf\n",
      "[LightGBM] [Warning] No further splits with positive gain, best gain: -inf\n",
      "[LightGBM] [Warning] No further splits with positive gain, best gain: -inf\n",
      "[LightGBM] [Warning] No further splits with positive gain, best gain: -inf\n",
      "[LightGBM] [Warning] No further splits with positive gain, best gain: -inf\n",
      "[LightGBM] [Warning] No further splits with positive gain, best gain: -inf\n",
      "[LightGBM] [Warning] No further splits with positive gain, best gain: -inf\n",
      "[LightGBM] [Warning] No further splits with positive gain, best gain: -inf\n",
      "[LightGBM] [Warning] No further splits with positive gain, best gain: -inf\n",
      "[LightGBM] [Warning] No further splits with positive gain, best gain: -inf\n",
      "[LightGBM] [Warning] No further splits with positive gain, best gain: -inf\n",
      "[LightGBM] [Warning] No further splits with positive gain, best gain: -inf\n",
      "[LightGBM] [Warning] No further splits with positive gain, best gain: -inf\n",
      "[LightGBM] [Warning] No further splits with positive gain, best gain: -inf\n",
      "[LightGBM] [Warning] No further splits with positive gain, best gain: -inf\n",
      "[LightGBM] [Warning] No further splits with positive gain, best gain: -inf\n",
      "[LightGBM] [Warning] No further splits with positive gain, best gain: -inf\n",
      "[LightGBM] [Warning] No further splits with positive gain, best gain: -inf\n",
      "[LightGBM] [Warning] No further splits with positive gain, best gain: -inf\n",
      "[LightGBM] [Warning] No further splits with positive gain, best gain: -inf\n",
      "[LightGBM] [Warning] No further splits with positive gain, best gain: -inf\n",
      "[LightGBM] [Warning] No further splits with positive gain, best gain: -inf\n",
      "[LightGBM] [Warning] No further splits with positive gain, best gain: -inf\n",
      "[LightGBM] [Warning] No further splits with positive gain, best gain: -inf\n",
      "[LightGBM] [Warning] No further splits with positive gain, best gain: -inf\n",
      "[LightGBM] [Warning] No further splits with positive gain, best gain: -inf\n",
      "[LightGBM] [Warning] No further splits with positive gain, best gain: -inf\n",
      "[LightGBM] [Warning] No further splits with positive gain, best gain: -inf\n",
      "[LightGBM] [Warning] No further splits with positive gain, best gain: -inf\n",
      "[LightGBM] [Warning] No further splits with positive gain, best gain: -inf\n",
      "[LightGBM] [Warning] No further splits with positive gain, best gain: -inf\n",
      "[LightGBM] [Warning] No further splits with positive gain, best gain: -inf\n",
      "[LightGBM] [Warning] No further splits with positive gain, best gain: -inf\n",
      "[LightGBM] [Warning] No further splits with positive gain, best gain: -inf\n",
      "[LightGBM] [Warning] No further splits with positive gain, best gain: -inf\n",
      "[LightGBM] [Warning] No further splits with positive gain, best gain: -inf\n",
      "[LightGBM] [Warning] No further splits with positive gain, best gain: -inf\n",
      "[LightGBM] [Warning] No further splits with positive gain, best gain: -inf\n",
      "[LightGBM] [Warning] No further splits with positive gain, best gain: -inf\n",
      "[LightGBM] [Warning] No further splits with positive gain, best gain: -inf\n",
      "[LightGBM] [Warning] No further splits with positive gain, best gain: -inf\n",
      "[LightGBM] [Warning] No further splits with positive gain, best gain: -inf\n",
      "[LightGBM] [Warning] No further splits with positive gain, best gain: -inf\n",
      "[LightGBM] [Warning] No further splits with positive gain, best gain: -inf\n",
      "[LightGBM] [Warning] No further splits with positive gain, best gain: -inf\n",
      "[LightGBM] [Warning] No further splits with positive gain, best gain: -inf\n",
      "[LightGBM] [Warning] No further splits with positive gain, best gain: -inf\n",
      "[LightGBM] [Warning] No further splits with positive gain, best gain: -inf\n",
      "[LightGBM] [Warning] No further splits with positive gain, best gain: -inf\n",
      "[LightGBM] [Warning] No further splits with positive gain, best gain: -inf\n",
      "[LightGBM] [Warning] No further splits with positive gain, best gain: -inf\n",
      "[LightGBM] [Warning] No further splits with positive gain, best gain: -inf\n",
      "[LightGBM] [Warning] No further splits with positive gain, best gain: -inf\n",
      "[LightGBM] [Warning] No further splits with positive gain, best gain: -inf\n",
      "[LightGBM] [Warning] No further splits with positive gain, best gain: -inf\n",
      "[LightGBM] [Warning] No further splits with positive gain, best gain: -inf\n",
      "[LightGBM] [Warning] No further splits with positive gain, best gain: -inf\n",
      "[LightGBM] [Warning] No further splits with positive gain, best gain: -inf\n",
      "[LightGBM] [Warning] No further splits with positive gain, best gain: -inf\n",
      "[LightGBM] [Warning] No further splits with positive gain, best gain: -inf\n",
      "[LightGBM] [Warning] No further splits with positive gain, best gain: -inf\n",
      "[LightGBM] [Warning] No further splits with positive gain, best gain: -inf\n",
      "[LightGBM] [Warning] No further splits with positive gain, best gain: -inf\n",
      "[LightGBM] [Warning] No further splits with positive gain, best gain: -inf\n",
      "[LightGBM] [Warning] No further splits with positive gain, best gain: -inf\n",
      "[LightGBM] [Warning] No further splits with positive gain, best gain: -inf\n",
      "[LightGBM] [Warning] No further splits with positive gain, best gain: -inf\n",
      "[LightGBM] [Warning] No further splits with positive gain, best gain: -inf\n",
      "[LightGBM] [Warning] No further splits with positive gain, best gain: -inf\n",
      "[LightGBM] [Warning] No further splits with positive gain, best gain: -inf\n",
      "[LightGBM] [Warning] No further splits with positive gain, best gain: -inf\n",
      "[LightGBM] [Warning] No further splits with positive gain, best gain: -inf\n",
      "[LightGBM] [Warning] No further splits with positive gain, best gain: -inf\n",
      "[LightGBM] [Warning] No further splits with positive gain, best gain: -inf\n",
      "[LightGBM] [Warning] No further splits with positive gain, best gain: -inf\n",
      "[LightGBM] [Warning] No further splits with positive gain, best gain: -inf\n",
      "[LightGBM] [Warning] No further splits with positive gain, best gain: -inf\n",
      "[LightGBM] [Warning] No further splits with positive gain, best gain: -inf\n",
      "[LightGBM] [Warning] No further splits with positive gain, best gain: -inf\n",
      "[LightGBM] [Warning] No further splits with positive gain, best gain: -inf\n",
      "[LightGBM] [Warning] No further splits with positive gain, best gain: -inf\n",
      "[LightGBM] [Warning] No further splits with positive gain, best gain: -inf\n",
      "[LightGBM] [Warning] No further splits with positive gain, best gain: -inf\n",
      "[LightGBM] [Warning] No further splits with positive gain, best gain: -inf\n",
      "[LightGBM] [Warning] No further splits with positive gain, best gain: -inf\n",
      "[LightGBM] [Warning] No further splits with positive gain, best gain: -inf\n",
      "[LightGBM] [Warning] No further splits with positive gain, best gain: -inf\n",
      "[LightGBM] [Warning] No further splits with positive gain, best gain: -inf\n",
      "[LightGBM] [Warning] No further splits with positive gain, best gain: -inf\n",
      "[LightGBM] [Warning] No further splits with positive gain, best gain: -inf\n",
      "[LightGBM] [Warning] No further splits with positive gain, best gain: -inf\n",
      "[LightGBM] [Warning] No further splits with positive gain, best gain: -inf\n",
      "[LightGBM] [Warning] No further splits with positive gain, best gain: -inf\n",
      "[LightGBM] [Warning] No further splits with positive gain, best gain: -inf\n",
      "[LightGBM] [Warning] No further splits with positive gain, best gain: -inf\n",
      "[LightGBM] [Warning] No further splits with positive gain, best gain: -inf\n"
     ]
    },
    {
     "name": "stderr",
     "output_type": "stream",
     "text": [
      "100%|██████████| 272/272 [00:08<00:00, 30.27it/s]\n",
      "100%|██████████| 68/68 [00:01<00:00, 47.24it/s]\n"
     ]
    },
    {
     "name": "stdout",
     "output_type": "stream",
     "text": [
      "[LightGBM] [Warning] Unknown parameter: silent\n",
      "Epoch=0 \n",
      "Validation: = Logloss: 14.4 F1: 99.356 Recall: 99.356 Precision: 99.356 Accuracy: 99.356\n"
     ]
    },
    {
     "name": "stderr",
     "output_type": "stream",
     "text": [
      "100%|██████████| 272/272 [00:07<00:00, 37.06it/s]\n",
      "100%|██████████| 68/68 [00:01<00:00, 59.37it/s]\n"
     ]
    },
    {
     "name": "stdout",
     "output_type": "stream",
     "text": [
      "[LightGBM] [Warning] Unknown parameter: silent\n",
      "Epoch=1 \n",
      "Validation: = Logloss: 13.205 F1: 99.287 Recall: 99.287 Precision: 99.287 Accuracy: 99.287\n"
     ]
    },
    {
     "name": "stderr",
     "output_type": "stream",
     "text": [
      "100%|██████████| 272/272 [00:08<00:00, 30.30it/s]\n",
      "100%|██████████| 68/68 [00:01<00:00, 62.28it/s]\n"
     ]
    },
    {
     "name": "stdout",
     "output_type": "stream",
     "text": [
      "[LightGBM] [Warning] Unknown parameter: silent\n",
      "Epoch=2 \n",
      "Validation: = Logloss: 12.814 F1: 99.287 Recall: 99.287 Precision: 99.287 Accuracy: 99.287\n"
     ]
    },
    {
     "name": "stderr",
     "output_type": "stream",
     "text": [
      "100%|██████████| 272/272 [00:08<00:00, 31.99it/s]\n",
      "100%|██████████| 68/68 [00:02<00:00, 22.78it/s]\n"
     ]
    },
    {
     "name": "stdout",
     "output_type": "stream",
     "text": [
      "[LightGBM] [Warning] Unknown parameter: silent\n",
      "Epoch=3 \n",
      "Validation: = Logloss: 12.388 F1: 99.264 Recall: 99.264 Precision: 99.264 Accuracy: 99.264\n"
     ]
    },
    {
     "name": "stderr",
     "output_type": "stream",
     "text": [
      "100%|██████████| 272/272 [00:09<00:00, 27.46it/s]\n",
      "100%|██████████| 68/68 [00:01<00:00, 35.84it/s]\n"
     ]
    },
    {
     "name": "stdout",
     "output_type": "stream",
     "text": [
      "[LightGBM] [Warning] Unknown parameter: silent\n",
      "Epoch=4 \n",
      "Validation: = Logloss: 12.18 F1: 99.31 Recall: 99.31 Precision: 99.31 Accuracy: 99.31\n"
     ]
    },
    {
     "name": "stderr",
     "output_type": "stream",
     "text": [
      "100%|██████████| 272/272 [00:08<00:00, 32.41it/s]\n",
      "100%|██████████| 68/68 [00:01<00:00, 60.35it/s]\n"
     ]
    },
    {
     "name": "stdout",
     "output_type": "stream",
     "text": [
      "[LightGBM] [Warning] Unknown parameter: silent\n",
      "Epoch=5 \n",
      "Validation: = Logloss: 12.178 F1: 99.264 Recall: 99.264 Precision: 99.264 Accuracy: 99.264\n"
     ]
    },
    {
     "name": "stderr",
     "output_type": "stream",
     "text": [
      "100%|██████████| 272/272 [00:09<00:00, 28.63it/s]\n",
      "100%|██████████| 68/68 [00:01<00:00, 59.63it/s]\n"
     ]
    },
    {
     "name": "stdout",
     "output_type": "stream",
     "text": [
      "[LightGBM] [Warning] Unknown parameter: silent\n",
      "Epoch=6 \n",
      "Validation: = Logloss: 9.463 F1: 99.356 Recall: 99.356 Precision: 99.356 Accuracy: 99.356\n"
     ]
    },
    {
     "name": "stderr",
     "output_type": "stream",
     "text": [
      "100%|██████████| 272/272 [00:07<00:00, 35.74it/s]\n",
      "100%|██████████| 68/68 [00:01<00:00, 40.12it/s]\n"
     ]
    },
    {
     "name": "stdout",
     "output_type": "stream",
     "text": [
      "[LightGBM] [Warning] Unknown parameter: silent\n",
      "Epoch=7 \n",
      "Validation: = Logloss: 8.553 F1: 99.264 Recall: 99.264 Precision: 99.264 Accuracy: 99.264\n"
     ]
    },
    {
     "name": "stderr",
     "output_type": "stream",
     "text": [
      "100%|██████████| 272/272 [00:08<00:00, 31.78it/s]\n",
      "100%|██████████| 68/68 [00:01<00:00, 60.16it/s]\n"
     ]
    },
    {
     "name": "stdout",
     "output_type": "stream",
     "text": [
      "[LightGBM] [Warning] Unknown parameter: silent\n",
      "Epoch=8 \n",
      "Validation: = Logloss: 8.451 F1: 99.31 Recall: 99.31 Precision: 99.31 Accuracy: 99.31\n"
     ]
    },
    {
     "name": "stderr",
     "output_type": "stream",
     "text": [
      "100%|██████████| 272/272 [00:09<00:00, 28.59it/s]\n",
      "100%|██████████| 68/68 [00:01<00:00, 60.68it/s]\n"
     ]
    },
    {
     "name": "stdout",
     "output_type": "stream",
     "text": [
      "[LightGBM] [Warning] Unknown parameter: silent\n",
      "Epoch=9 \n",
      "Validation: = Logloss: 8.135 F1: 99.287 Recall: 99.287 Precision: 99.287 Accuracy: 99.287\n"
     ]
    },
    {
     "name": "stderr",
     "output_type": "stream",
     "text": [
      "100%|██████████| 272/272 [00:07<00:00, 36.36it/s]\n",
      "100%|██████████| 68/68 [00:01<00:00, 38.69it/s]\n"
     ]
    },
    {
     "name": "stdout",
     "output_type": "stream",
     "text": [
      "[LightGBM] [Warning] Unknown parameter: silent\n",
      "Epoch=10 \n",
      "Validation: = Logloss: 8.384 F1: 99.264 Recall: 99.264 Precision: 99.264 Accuracy: 99.264\n"
     ]
    },
    {
     "name": "stderr",
     "output_type": "stream",
     "text": [
      "100%|██████████| 272/272 [00:08<00:00, 31.88it/s]\n",
      "100%|██████████| 68/68 [00:01<00:00, 61.52it/s]\n"
     ]
    },
    {
     "name": "stdout",
     "output_type": "stream",
     "text": [
      "[LightGBM] [Warning] Unknown parameter: silent\n",
      "Epoch=11 \n",
      "Validation: = Logloss: 7.967 F1: 99.264 Recall: 99.264 Precision: 99.264 Accuracy: 99.264\n"
     ]
    },
    {
     "name": "stderr",
     "output_type": "stream",
     "text": [
      "100%|██████████| 272/272 [00:09<00:00, 28.99it/s]\n",
      "100%|██████████| 68/68 [00:01<00:00, 61.69it/s]\n"
     ]
    },
    {
     "name": "stdout",
     "output_type": "stream",
     "text": [
      "[LightGBM] [Warning] Unknown parameter: silent\n",
      "Epoch=12 \n",
      "Validation: = Logloss: 7.943 F1: 99.31 Recall: 99.31 Precision: 99.31 Accuracy: 99.31\n"
     ]
    },
    {
     "name": "stderr",
     "output_type": "stream",
     "text": [
      "100%|██████████| 272/272 [00:07<00:00, 37.17it/s]\n",
      "100%|██████████| 68/68 [00:01<00:00, 44.08it/s]\n"
     ]
    },
    {
     "name": "stdout",
     "output_type": "stream",
     "text": [
      "[LightGBM] [Warning] Unknown parameter: silent\n",
      "Epoch=13 \n",
      "Validation: = Logloss: 7.722 F1: 99.287 Recall: 99.287 Precision: 99.287 Accuracy: 99.287\n"
     ]
    },
    {
     "name": "stderr",
     "output_type": "stream",
     "text": [
      "100%|██████████| 272/272 [00:08<00:00, 31.63it/s]\n",
      "100%|██████████| 68/68 [00:01<00:00, 59.56it/s] \n"
     ]
    },
    {
     "name": "stdout",
     "output_type": "stream",
     "text": [
      "[LightGBM] [Warning] Unknown parameter: silent\n",
      "Epoch=14 \n",
      "Validation: = Logloss: 7.765 F1: 99.31 Recall: 99.31 Precision: 99.31 Accuracy: 99.31\n"
     ]
    },
    {
     "name": "stderr",
     "output_type": "stream",
     "text": [
      "100%|██████████| 272/272 [00:09<00:00, 29.09it/s]\n",
      "100%|██████████| 68/68 [00:01<00:00, 40.09it/s]\n"
     ]
    },
    {
     "name": "stdout",
     "output_type": "stream",
     "text": [
      "[LightGBM] [Warning] Unknown parameter: silent\n",
      "Epoch=15 \n",
      "Validation: = Logloss: 6.388 F1: 99.287 Recall: 99.287 Precision: 99.287 Accuracy: 99.287\n"
     ]
    },
    {
     "name": "stderr",
     "output_type": "stream",
     "text": [
      "100%|██████████| 272/272 [00:09<00:00, 30.02it/s]\n",
      "100%|██████████| 68/68 [00:01<00:00, 37.81it/s]\n"
     ]
    },
    {
     "name": "stdout",
     "output_type": "stream",
     "text": [
      "[LightGBM] [Warning] Unknown parameter: silent\n",
      "Epoch=16 \n",
      "Validation: = Logloss: 6.207 F1: 99.287 Recall: 99.287 Precision: 99.287 Accuracy: 99.287\n"
     ]
    },
    {
     "name": "stderr",
     "output_type": "stream",
     "text": [
      "100%|██████████| 272/272 [00:07<00:00, 34.52it/s]\n",
      "100%|██████████| 68/68 [00:01<00:00, 61.63it/s]\n"
     ]
    },
    {
     "name": "stdout",
     "output_type": "stream",
     "text": [
      "[LightGBM] [Warning] Unknown parameter: silent\n",
      "Epoch=17 \n",
      "Validation: = Logloss: 6.186 F1: 99.333 Recall: 99.333 Precision: 99.333 Accuracy: 99.333\n"
     ]
    },
    {
     "name": "stderr",
     "output_type": "stream",
     "text": [
      "100%|██████████| 272/272 [00:09<00:00, 28.87it/s]\n",
      "100%|██████████| 68/68 [00:01<00:00, 61.84it/s]\n"
     ]
    },
    {
     "name": "stdout",
     "output_type": "stream",
     "text": [
      "[LightGBM] [Warning] Unknown parameter: silent\n",
      "Epoch=18 \n",
      "Validation: = Logloss: 6.191 F1: 99.31 Recall: 99.31 Precision: 99.31 Accuracy: 99.31\n"
     ]
    },
    {
     "name": "stderr",
     "output_type": "stream",
     "text": [
      "100%|██████████| 272/272 [00:07<00:00, 35.54it/s]\n",
      "100%|██████████| 68/68 [00:01<00:00, 37.72it/s]\n"
     ]
    },
    {
     "name": "stdout",
     "output_type": "stream",
     "text": [
      "[LightGBM] [Warning] Unknown parameter: silent\n",
      "Epoch=19 \n",
      "Validation: = Logloss: 6.13 F1: 99.31 Recall: 99.31 Precision: 99.31 Accuracy: 99.31\n"
     ]
    },
    {
     "name": "stderr",
     "output_type": "stream",
     "text": [
      "100%|██████████| 272/272 [00:08<00:00, 33.09it/s]\n",
      "100%|██████████| 68/68 [00:01<00:00, 60.60it/s]\n"
     ]
    },
    {
     "name": "stdout",
     "output_type": "stream",
     "text": [
      "[LightGBM] [Warning] Unknown parameter: silent\n",
      "Epoch=20 \n",
      "Validation: = Logloss: 6.103 F1: 99.379 Recall: 99.379 Precision: 99.379 Accuracy: 99.379\n"
     ]
    },
    {
     "name": "stderr",
     "output_type": "stream",
     "text": [
      "100%|██████████| 272/272 [00:11<00:00, 22.87it/s]\n",
      "100%|██████████| 68/68 [00:01<00:00, 61.67it/s]\n"
     ]
    },
    {
     "name": "stdout",
     "output_type": "stream",
     "text": [
      "[LightGBM] [Warning] Unknown parameter: silent\n",
      "Epoch=21 \n",
      "Validation: = Logloss: 6.174 F1: 99.379 Recall: 99.379 Precision: 99.379 Accuracy: 99.379\n"
     ]
    },
    {
     "name": "stderr",
     "output_type": "stream",
     "text": [
      "100%|██████████| 272/272 [00:07<00:00, 35.87it/s]\n",
      "100%|██████████| 68/68 [00:01<00:00, 39.35it/s]\n"
     ]
    },
    {
     "name": "stdout",
     "output_type": "stream",
     "text": [
      "[LightGBM] [Warning] Unknown parameter: silent\n",
      "Epoch=22 \n",
      "Validation: = Logloss: 6.101 F1: 99.333 Recall: 99.333 Precision: 99.333 Accuracy: 99.333\n"
     ]
    },
    {
     "name": "stderr",
     "output_type": "stream",
     "text": [
      "100%|██████████| 272/272 [00:08<00:00, 33.09it/s]\n",
      "100%|██████████| 68/68 [00:01<00:00, 62.12it/s]\n"
     ]
    },
    {
     "name": "stdout",
     "output_type": "stream",
     "text": [
      "[LightGBM] [Warning] Unknown parameter: silent\n",
      "Epoch=23 \n",
      "Validation: = Logloss: 5.838 F1: 99.333 Recall: 99.333 Precision: 99.333 Accuracy: 99.333\n"
     ]
    },
    {
     "name": "stderr",
     "output_type": "stream",
     "text": [
      "100%|██████████| 272/272 [00:09<00:00, 29.27it/s]\n",
      "100%|██████████| 68/68 [00:01<00:00, 61.60it/s]\n"
     ]
    },
    {
     "name": "stdout",
     "output_type": "stream",
     "text": [
      "[LightGBM] [Warning] Unknown parameter: silent\n",
      "Epoch=24 \n",
      "Validation: = Logloss: 5.887 F1: 99.379 Recall: 99.379 Precision: 99.379 Accuracy: 99.379\n"
     ]
    },
    {
     "name": "stderr",
     "output_type": "stream",
     "text": [
      "100%|██████████| 272/272 [00:07<00:00, 36.63it/s]\n",
      "100%|██████████| 68/68 [00:01<00:00, 47.14it/s]\n"
     ]
    },
    {
     "name": "stdout",
     "output_type": "stream",
     "text": [
      "[LightGBM] [Warning] Unknown parameter: silent\n",
      "Epoch=25 \n",
      "Validation: = Logloss: 6.063 F1: 99.379 Recall: 99.379 Precision: 99.379 Accuracy: 99.379\n"
     ]
    },
    {
     "name": "stderr",
     "output_type": "stream",
     "text": [
      "100%|██████████| 272/272 [00:08<00:00, 32.14it/s]\n",
      "100%|██████████| 68/68 [00:01<00:00, 62.02it/s]\n"
     ]
    },
    {
     "name": "stdout",
     "output_type": "stream",
     "text": [
      "[LightGBM] [Warning] Unknown parameter: silent\n",
      "Epoch=26 \n",
      "Validation: = Logloss: 5.818 F1: 99.356 Recall: 99.356 Precision: 99.356 Accuracy: 99.356\n"
     ]
    },
    {
     "name": "stderr",
     "output_type": "stream",
     "text": [
      "100%|██████████| 272/272 [00:09<00:00, 29.65it/s]\n",
      "100%|██████████| 68/68 [00:01<00:00, 34.80it/s]\n"
     ]
    },
    {
     "name": "stdout",
     "output_type": "stream",
     "text": [
      "[LightGBM] [Warning] Unknown parameter: silent\n",
      "Epoch=27 \n",
      "Validation: = Logloss: 5.695 F1: 99.402 Recall: 99.402 Precision: 99.402 Accuracy: 99.402\n"
     ]
    },
    {
     "name": "stderr",
     "output_type": "stream",
     "text": [
      "100%|██████████| 272/272 [00:07<00:00, 36.92it/s]\n",
      "100%|██████████| 68/68 [00:01<00:00, 46.56it/s]\n"
     ]
    },
    {
     "name": "stdout",
     "output_type": "stream",
     "text": [
      "[LightGBM] [Warning] Unknown parameter: silent\n",
      "Epoch=28 \n",
      "Validation: = Logloss: 5.673 F1: 99.356 Recall: 99.356 Precision: 99.356 Accuracy: 99.356\n"
     ]
    },
    {
     "name": "stderr",
     "output_type": "stream",
     "text": [
      "100%|██████████| 272/272 [00:08<00:00, 31.35it/s]\n",
      "100%|██████████| 68/68 [00:01<00:00, 62.09it/s]\n"
     ]
    },
    {
     "name": "stdout",
     "output_type": "stream",
     "text": [
      "[LightGBM] [Warning] Unknown parameter: silent\n",
      "Epoch=29 \n",
      "Validation: = Logloss: 5.727 F1: 99.402 Recall: 99.402 Precision: 99.402 Accuracy: 99.402\n"
     ]
    },
    {
     "name": "stderr",
     "output_type": "stream",
     "text": [
      "100%|██████████| 272/272 [00:09<00:00, 29.25it/s]\n",
      "100%|██████████| 68/68 [00:01<00:00, 59.48it/s]\n"
     ]
    },
    {
     "name": "stdout",
     "output_type": "stream",
     "text": [
      "[LightGBM] [Warning] Unknown parameter: silent\n",
      "Epoch=30 \n",
      "Validation: = Logloss: 5.803 F1: 99.333 Recall: 99.333 Precision: 99.333 Accuracy: 99.333\n"
     ]
    },
    {
     "name": "stderr",
     "output_type": "stream",
     "text": [
      "100%|██████████| 272/272 [00:07<00:00, 36.51it/s]\n",
      "100%|██████████| 68/68 [00:01<00:00, 57.97it/s]\n"
     ]
    },
    {
     "name": "stdout",
     "output_type": "stream",
     "text": [
      "[LightGBM] [Warning] Unknown parameter: silent\n",
      "Epoch=31 \n",
      "Validation: = Logloss: 5.608 F1: 99.402 Recall: 99.402 Precision: 99.402 Accuracy: 99.402\n"
     ]
    },
    {
     "name": "stderr",
     "output_type": "stream",
     "text": [
      "100%|██████████| 272/272 [00:08<00:00, 30.75it/s]\n",
      "100%|██████████| 68/68 [00:01<00:00, 63.23it/s] \n"
     ]
    },
    {
     "name": "stdout",
     "output_type": "stream",
     "text": [
      "[LightGBM] [Warning] Unknown parameter: silent\n",
      "Epoch=32 \n",
      "Validation: = Logloss: 5.755 F1: 99.356 Recall: 99.356 Precision: 99.356 Accuracy: 99.356\n"
     ]
    },
    {
     "name": "stderr",
     "output_type": "stream",
     "text": [
      "100%|██████████| 272/272 [00:08<00:00, 30.59it/s]\n",
      "100%|██████████| 68/68 [00:01<00:00, 43.86it/s]\n"
     ]
    },
    {
     "name": "stdout",
     "output_type": "stream",
     "text": [
      "[LightGBM] [Warning] Unknown parameter: silent\n",
      "Epoch=33 \n",
      "Validation: = Logloss: 5.715 F1: 99.356 Recall: 99.356 Precision: 99.356 Accuracy: 99.356\n"
     ]
    },
    {
     "name": "stderr",
     "output_type": "stream",
     "text": [
      "100%|██████████| 272/272 [00:07<00:00, 36.16it/s]\n",
      "100%|██████████| 68/68 [00:01<00:00, 60.72it/s]\n"
     ]
    },
    {
     "name": "stdout",
     "output_type": "stream",
     "text": [
      "[LightGBM] [Warning] Unknown parameter: silent\n",
      "Epoch=34 \n",
      "Validation: = Logloss: 5.793 F1: 99.379 Recall: 99.379 Precision: 99.379 Accuracy: 99.379\n"
     ]
    },
    {
     "name": "stderr",
     "output_type": "stream",
     "text": [
      "100%|██████████| 272/272 [00:09<00:00, 30.02it/s]\n",
      "100%|██████████| 68/68 [00:01<00:00, 60.87it/s]\n"
     ]
    },
    {
     "name": "stdout",
     "output_type": "stream",
     "text": [
      "[LightGBM] [Warning] Unknown parameter: silent\n",
      "Epoch=35 \n",
      "Validation: = Logloss: 5.819 F1: 99.333 Recall: 99.333 Precision: 99.333 Accuracy: 99.333\n"
     ]
    },
    {
     "name": "stderr",
     "output_type": "stream",
     "text": [
      "100%|██████████| 272/272 [00:08<00:00, 31.21it/s]\n",
      "100%|██████████| 68/68 [00:01<00:00, 40.92it/s]\n"
     ]
    },
    {
     "name": "stdout",
     "output_type": "stream",
     "text": [
      "[LightGBM] [Warning] Unknown parameter: silent\n",
      "Epoch=36 \n",
      "Validation: = Logloss: 5.651 F1: 99.356 Recall: 99.356 Precision: 99.356 Accuracy: 99.356\n"
     ]
    },
    {
     "name": "stderr",
     "output_type": "stream",
     "text": [
      "100%|██████████| 272/272 [00:07<00:00, 36.89it/s]\n",
      "100%|██████████| 68/68 [00:01<00:00, 61.15it/s]\n"
     ]
    },
    {
     "name": "stdout",
     "output_type": "stream",
     "text": [
      "[LightGBM] [Warning] Unknown parameter: silent\n",
      "Epoch=37 \n",
      "Validation: = Logloss: 5.556 F1: 99.402 Recall: 99.402 Precision: 99.402 Accuracy: 99.402\n"
     ]
    },
    {
     "name": "stderr",
     "output_type": "stream",
     "text": [
      "100%|██████████| 272/272 [00:09<00:00, 29.67it/s]\n",
      "100%|██████████| 68/68 [00:01<00:00, 59.30it/s]\n"
     ]
    },
    {
     "name": "stdout",
     "output_type": "stream",
     "text": [
      "[LightGBM] [Warning] Unknown parameter: silent\n",
      "Epoch=38 \n",
      "Validation: = Logloss: 5.58 F1: 99.379 Recall: 99.379 Precision: 99.379 Accuracy: 99.379\n"
     ]
    },
    {
     "name": "stderr",
     "output_type": "stream",
     "text": [
      "100%|██████████| 272/272 [00:08<00:00, 33.04it/s]\n",
      "100%|██████████| 68/68 [00:01<00:00, 39.81it/s]\n"
     ]
    },
    {
     "name": "stdout",
     "output_type": "stream",
     "text": [
      "[LightGBM] [Warning] Unknown parameter: silent\n",
      "Epoch=39 \n",
      "Validation: = Logloss: 5.54 F1: 99.425 Recall: 99.425 Precision: 99.425 Accuracy: 99.425\n"
     ]
    },
    {
     "name": "stderr",
     "output_type": "stream",
     "text": [
      "100%|██████████| 272/272 [00:07<00:00, 36.01it/s]\n",
      "100%|██████████| 68/68 [00:01<00:00, 60.88it/s]\n"
     ]
    },
    {
     "name": "stdout",
     "output_type": "stream",
     "text": [
      "[LightGBM] [Warning] Unknown parameter: silent\n",
      "Epoch=40 \n",
      "Validation: = Logloss: 5.51 F1: 99.425 Recall: 99.425 Precision: 99.425 Accuracy: 99.425\n"
     ]
    },
    {
     "name": "stderr",
     "output_type": "stream",
     "text": [
      "100%|██████████| 272/272 [00:09<00:00, 29.30it/s]\n",
      "100%|██████████| 68/68 [00:01<00:00, 63.21it/s] \n"
     ]
    },
    {
     "name": "stdout",
     "output_type": "stream",
     "text": [
      "[LightGBM] [Warning] Unknown parameter: silent\n",
      "Epoch=41 \n",
      "Validation: = Logloss: 5.471 F1: 99.425 Recall: 99.425 Precision: 99.425 Accuracy: 99.425\n"
     ]
    },
    {
     "name": "stderr",
     "output_type": "stream",
     "text": [
      "100%|██████████| 272/272 [00:09<00:00, 29.84it/s]\n",
      "100%|██████████| 68/68 [00:02<00:00, 31.12it/s]\n"
     ]
    },
    {
     "name": "stdout",
     "output_type": "stream",
     "text": [
      "[LightGBM] [Warning] Unknown parameter: silent\n",
      "Epoch=42 \n",
      "Validation: = Logloss: 5.7 F1: 99.402 Recall: 99.402 Precision: 99.402 Accuracy: 99.402\n"
     ]
    },
    {
     "name": "stderr",
     "output_type": "stream",
     "text": [
      "100%|██████████| 272/272 [00:08<00:00, 32.67it/s]\n",
      "100%|██████████| 68/68 [00:01<00:00, 61.10it/s]\n"
     ]
    },
    {
     "name": "stdout",
     "output_type": "stream",
     "text": [
      "[LightGBM] [Warning] Unknown parameter: silent\n",
      "Epoch=43 \n",
      "Validation: = Logloss: 5.594 F1: 99.379 Recall: 99.379 Precision: 99.379 Accuracy: 99.379\n"
     ]
    },
    {
     "name": "stderr",
     "output_type": "stream",
     "text": [
      "100%|██████████| 272/272 [00:09<00:00, 29.65it/s]\n",
      "100%|██████████| 68/68 [00:01<00:00, 60.76it/s]\n"
     ]
    },
    {
     "name": "stdout",
     "output_type": "stream",
     "text": [
      "[LightGBM] [Warning] Unknown parameter: silent\n",
      "Epoch=44 \n",
      "Validation: = Logloss: 5.642 F1: 99.402 Recall: 99.402 Precision: 99.402 Accuracy: 99.402\n"
     ]
    },
    {
     "name": "stderr",
     "output_type": "stream",
     "text": [
      "100%|██████████| 272/272 [00:07<00:00, 37.27it/s]\n",
      "100%|██████████| 68/68 [00:01<00:00, 50.40it/s]\n"
     ]
    },
    {
     "name": "stdout",
     "output_type": "stream",
     "text": [
      "[LightGBM] [Warning] Unknown parameter: silent\n",
      "Epoch=45 \n",
      "Validation: = Logloss: 5.496 F1: 99.379 Recall: 99.379 Precision: 99.379 Accuracy: 99.379\n"
     ]
    },
    {
     "name": "stderr",
     "output_type": "stream",
     "text": [
      "100%|██████████| 272/272 [00:08<00:00, 31.68it/s]\n",
      "100%|██████████| 68/68 [00:01<00:00, 64.22it/s] \n"
     ]
    },
    {
     "name": "stdout",
     "output_type": "stream",
     "text": [
      "[LightGBM] [Warning] Unknown parameter: silent\n",
      "Epoch=46 \n",
      "Validation: = Logloss: 5.541 F1: 99.402 Recall: 99.402 Precision: 99.402 Accuracy: 99.402\n"
     ]
    },
    {
     "name": "stderr",
     "output_type": "stream",
     "text": [
      "100%|██████████| 272/272 [00:08<00:00, 30.55it/s]\n",
      "100%|██████████| 68/68 [00:01<00:00, 44.74it/s]\n"
     ]
    },
    {
     "name": "stdout",
     "output_type": "stream",
     "text": [
      "[LightGBM] [Warning] Unknown parameter: silent\n",
      "Epoch=47 \n",
      "Validation: = Logloss: 5.533 F1: 99.425 Recall: 99.425 Precision: 99.425 Accuracy: 99.425\n"
     ]
    },
    {
     "name": "stderr",
     "output_type": "stream",
     "text": [
      "100%|██████████| 272/272 [00:07<00:00, 37.32it/s]\n",
      "100%|██████████| 68/68 [00:01<00:00, 61.58it/s]\n"
     ]
    },
    {
     "name": "stdout",
     "output_type": "stream",
     "text": [
      "[LightGBM] [Warning] Unknown parameter: silent\n",
      "Epoch=48 \n",
      "Validation: = Logloss: 3.887 F1: 99.471 Recall: 99.471 Precision: 99.471 Accuracy: 99.471\n"
     ]
    },
    {
     "name": "stderr",
     "output_type": "stream",
     "text": [
      "100%|██████████| 272/272 [00:09<00:00, 29.32it/s]\n",
      "100%|██████████| 68/68 [00:01<00:00, 62.44it/s]\n"
     ]
    },
    {
     "name": "stdout",
     "output_type": "stream",
     "text": [
      "[LightGBM] [Warning] Unknown parameter: silent\n",
      "Epoch=49 \n",
      "Validation: = Logloss: 3.822 F1: 99.402 Recall: 99.402 Precision: 99.402 Accuracy: 99.402\n",
      "[LightGBM] [Warning] Unknown parameter: silent\n",
      "[LightGBM] [Warning] Unknown parameter: silent\n",
      "[LightGBM] [Info] Auto-choosing col-wise multi-threading, the overhead of testing was 0.024447 seconds.\n",
      "You can set `force_col_wise=true` to remove the overhead.\n",
      "[LightGBM] [Info] Total Bins 23432\n",
      "[LightGBM] [Info] Number of data points in the train set: 17389, number of used features: 96\n",
      "[LightGBM] [Info] Start training from score -1.953240\n",
      "[LightGBM] [Info] Start training from score -1.478332\n",
      "[LightGBM] [Info] Start training from score -1.306787\n",
      "[LightGBM] [Info] Start training from score -3.130275\n",
      "[LightGBM] [Info] Start training from score -5.558900\n",
      "[LightGBM] [Info] Start training from score -2.671851\n",
      "[LightGBM] [Info] Start training from score -3.308395\n",
      "[LightGBM] [Info] Start training from score -2.180346\n",
      "[LightGBM] [Info] Start training from score -2.372795\n",
      "[LightGBM] [Warning] No further splits with positive gain, best gain: -inf\n",
      "[LightGBM] [Warning] No further splits with positive gain, best gain: -inf\n",
      "[LightGBM] [Warning] No further splits with positive gain, best gain: -inf\n",
      "[LightGBM] [Warning] No further splits with positive gain, best gain: -inf\n",
      "[LightGBM] [Warning] No further splits with positive gain, best gain: -inf\n",
      "[LightGBM] [Warning] No further splits with positive gain, best gain: -inf\n",
      "[LightGBM] [Warning] No further splits with positive gain, best gain: -inf\n",
      "[LightGBM] [Warning] No further splits with positive gain, best gain: -inf\n",
      "[LightGBM] [Warning] No further splits with positive gain, best gain: -inf\n",
      "[LightGBM] [Warning] No further splits with positive gain, best gain: -inf\n",
      "[LightGBM] [Warning] No further splits with positive gain, best gain: -inf\n",
      "[LightGBM] [Warning] No further splits with positive gain, best gain: -inf\n",
      "[LightGBM] [Warning] No further splits with positive gain, best gain: -inf\n",
      "[LightGBM] [Warning] No further splits with positive gain, best gain: -inf\n",
      "[LightGBM] [Warning] No further splits with positive gain, best gain: -inf\n",
      "[LightGBM] [Warning] No further splits with positive gain, best gain: -inf\n",
      "[LightGBM] [Warning] No further splits with positive gain, best gain: -inf\n",
      "[LightGBM] [Warning] No further splits with positive gain, best gain: -inf\n",
      "[LightGBM] [Warning] No further splits with positive gain, best gain: -inf\n",
      "[LightGBM] [Warning] No further splits with positive gain, best gain: -inf\n",
      "[LightGBM] [Warning] No further splits with positive gain, best gain: -inf\n",
      "[LightGBM] [Warning] No further splits with positive gain, best gain: -inf\n",
      "[LightGBM] [Warning] No further splits with positive gain, best gain: -inf\n",
      "[LightGBM] [Warning] No further splits with positive gain, best gain: -inf\n",
      "[LightGBM] [Warning] No further splits with positive gain, best gain: -inf\n",
      "[LightGBM] [Warning] No further splits with positive gain, best gain: -inf\n",
      "[LightGBM] [Warning] No further splits with positive gain, best gain: -inf\n",
      "[LightGBM] [Warning] No further splits with positive gain, best gain: -inf\n",
      "[LightGBM] [Warning] No further splits with positive gain, best gain: -inf\n",
      "[LightGBM] [Warning] No further splits with positive gain, best gain: -inf\n",
      "[LightGBM] [Warning] No further splits with positive gain, best gain: -inf\n",
      "[LightGBM] [Warning] No further splits with positive gain, best gain: -inf\n",
      "[LightGBM] [Warning] No further splits with positive gain, best gain: -inf\n",
      "[LightGBM] [Warning] No further splits with positive gain, best gain: -inf\n",
      "[LightGBM] [Warning] No further splits with positive gain, best gain: -inf\n",
      "[LightGBM] [Warning] No further splits with positive gain, best gain: -inf\n",
      "[LightGBM] [Warning] No further splits with positive gain, best gain: -inf\n",
      "[LightGBM] [Warning] No further splits with positive gain, best gain: -inf\n",
      "[LightGBM] [Warning] No further splits with positive gain, best gain: -inf\n",
      "[LightGBM] [Warning] No further splits with positive gain, best gain: -inf\n",
      "[LightGBM] [Warning] No further splits with positive gain, best gain: -inf\n",
      "[LightGBM] [Warning] No further splits with positive gain, best gain: -inf\n",
      "[LightGBM] [Warning] No further splits with positive gain, best gain: -inf\n",
      "[LightGBM] [Warning] No further splits with positive gain, best gain: -inf\n",
      "[LightGBM] [Warning] No further splits with positive gain, best gain: -inf\n",
      "[LightGBM] [Warning] No further splits with positive gain, best gain: -inf\n",
      "[LightGBM] [Warning] No further splits with positive gain, best gain: -inf\n",
      "[LightGBM] [Warning] No further splits with positive gain, best gain: -inf\n",
      "[LightGBM] [Warning] No further splits with positive gain, best gain: -inf\n",
      "[LightGBM] [Warning] No further splits with positive gain, best gain: -inf\n",
      "[LightGBM] [Warning] No further splits with positive gain, best gain: -inf\n",
      "[LightGBM] [Warning] No further splits with positive gain, best gain: -inf\n",
      "[LightGBM] [Warning] No further splits with positive gain, best gain: -inf\n",
      "[LightGBM] [Warning] No further splits with positive gain, best gain: -inf\n",
      "[LightGBM] [Warning] No further splits with positive gain, best gain: -inf\n",
      "[LightGBM] [Warning] No further splits with positive gain, best gain: -inf\n",
      "[LightGBM] [Warning] No further splits with positive gain, best gain: -inf\n",
      "[LightGBM] [Warning] No further splits with positive gain, best gain: -inf\n",
      "[LightGBM] [Warning] No further splits with positive gain, best gain: -inf\n",
      "[LightGBM] [Warning] No further splits with positive gain, best gain: -inf\n",
      "[LightGBM] [Warning] No further splits with positive gain, best gain: -inf\n",
      "[LightGBM] [Warning] No further splits with positive gain, best gain: -inf\n",
      "[LightGBM] [Warning] No further splits with positive gain, best gain: -inf\n",
      "[LightGBM] [Warning] No further splits with positive gain, best gain: -inf\n",
      "[LightGBM] [Warning] No further splits with positive gain, best gain: -inf\n",
      "[LightGBM] [Warning] No further splits with positive gain, best gain: -inf\n",
      "[LightGBM] [Warning] No further splits with positive gain, best gain: -inf\n",
      "[LightGBM] [Warning] No further splits with positive gain, best gain: -inf\n",
      "[LightGBM] [Warning] No further splits with positive gain, best gain: -inf\n",
      "[LightGBM] [Warning] No further splits with positive gain, best gain: -inf\n",
      "[LightGBM] [Warning] No further splits with positive gain, best gain: -inf\n",
      "[LightGBM] [Warning] No further splits with positive gain, best gain: -inf\n",
      "[LightGBM] [Warning] No further splits with positive gain, best gain: -inf\n",
      "[LightGBM] [Warning] No further splits with positive gain, best gain: -inf\n",
      "[LightGBM] [Warning] No further splits with positive gain, best gain: -inf\n",
      "[LightGBM] [Warning] No further splits with positive gain, best gain: -inf\n",
      "[LightGBM] [Warning] No further splits with positive gain, best gain: -inf\n",
      "[LightGBM] [Warning] No further splits with positive gain, best gain: -inf\n",
      "[LightGBM] [Warning] No further splits with positive gain, best gain: -inf\n",
      "[LightGBM] [Warning] No further splits with positive gain, best gain: -inf\n",
      "[LightGBM] [Warning] No further splits with positive gain, best gain: -inf\n",
      "[LightGBM] [Warning] No further splits with positive gain, best gain: -inf\n",
      "[LightGBM] [Warning] No further splits with positive gain, best gain: -inf\n",
      "[LightGBM] [Warning] No further splits with positive gain, best gain: -inf\n",
      "[LightGBM] [Warning] No further splits with positive gain, best gain: -inf\n",
      "[LightGBM] [Warning] No further splits with positive gain, best gain: -inf\n",
      "[LightGBM] [Warning] No further splits with positive gain, best gain: -inf\n",
      "[LightGBM] [Warning] No further splits with positive gain, best gain: -inf\n",
      "[LightGBM] [Warning] No further splits with positive gain, best gain: -inf\n",
      "[LightGBM] [Warning] No further splits with positive gain, best gain: -inf\n",
      "[LightGBM] [Warning] No further splits with positive gain, best gain: -inf\n",
      "[LightGBM] [Warning] No further splits with positive gain, best gain: -inf\n",
      "[LightGBM] [Warning] No further splits with positive gain, best gain: -inf\n",
      "[LightGBM] [Warning] No further splits with positive gain, best gain: -inf\n",
      "[LightGBM] [Warning] No further splits with positive gain, best gain: -inf\n",
      "[LightGBM] [Warning] No further splits with positive gain, best gain: -inf\n",
      "[LightGBM] [Warning] No further splits with positive gain, best gain: -inf\n",
      "[LightGBM] [Warning] No further splits with positive gain, best gain: -inf\n",
      "[LightGBM] [Warning] No further splits with positive gain, best gain: -inf\n",
      "[LightGBM] [Warning] No further splits with positive gain, best gain: -inf\n",
      "[LightGBM] [Warning] No further splits with positive gain, best gain: -inf\n",
      "[LightGBM] [Warning] No further splits with positive gain, best gain: -inf\n",
      "[LightGBM] [Warning] No further splits with positive gain, best gain: -inf\n",
      "[LightGBM] [Warning] No further splits with positive gain, best gain: -inf\n",
      "[LightGBM] [Warning] No further splits with positive gain, best gain: -inf\n",
      "[LightGBM] [Warning] No further splits with positive gain, best gain: -inf\n",
      "[LightGBM] [Warning] No further splits with positive gain, best gain: -inf\n",
      "[LightGBM] [Warning] No further splits with positive gain, best gain: -inf\n",
      "[LightGBM] [Warning] No further splits with positive gain, best gain: -inf\n",
      "[LightGBM] [Warning] No further splits with positive gain, best gain: -inf\n",
      "[LightGBM] [Warning] No further splits with positive gain, best gain: -inf\n",
      "[LightGBM] [Warning] No further splits with positive gain, best gain: -inf\n",
      "[LightGBM] [Warning] No further splits with positive gain, best gain: -inf\n",
      "[LightGBM] [Warning] No further splits with positive gain, best gain: -inf\n",
      "[LightGBM] [Warning] No further splits with positive gain, best gain: -inf\n",
      "[LightGBM] [Warning] No further splits with positive gain, best gain: -inf\n",
      "[LightGBM] [Warning] No further splits with positive gain, best gain: -inf\n",
      "[LightGBM] [Warning] No further splits with positive gain, best gain: -inf\n",
      "[LightGBM] [Warning] No further splits with positive gain, best gain: -inf\n",
      "[LightGBM] [Warning] No further splits with positive gain, best gain: -inf\n",
      "[LightGBM] [Warning] No further splits with positive gain, best gain: -inf\n",
      "[LightGBM] [Warning] No further splits with positive gain, best gain: -inf\n",
      "[LightGBM] [Warning] No further splits with positive gain, best gain: -inf\n",
      "[LightGBM] [Warning] No further splits with positive gain, best gain: -inf\n",
      "[LightGBM] [Warning] No further splits with positive gain, best gain: -inf\n",
      "[LightGBM] [Warning] No further splits with positive gain, best gain: -inf\n",
      "[LightGBM] [Warning] No further splits with positive gain, best gain: -inf\n",
      "[LightGBM] [Warning] No further splits with positive gain, best gain: -inf\n",
      "[LightGBM] [Warning] No further splits with positive gain, best gain: -inf\n",
      "[LightGBM] [Warning] No further splits with positive gain, best gain: -inf\n",
      "[LightGBM] [Warning] No further splits with positive gain, best gain: -inf\n",
      "[LightGBM] [Warning] No further splits with positive gain, best gain: -inf\n",
      "[LightGBM] [Warning] No further splits with positive gain, best gain: -inf\n",
      "[LightGBM] [Warning] No further splits with positive gain, best gain: -inf\n",
      "[LightGBM] [Warning] No further splits with positive gain, best gain: -inf\n",
      "[LightGBM] [Warning] No further splits with positive gain, best gain: -inf\n",
      "[LightGBM] [Warning] No further splits with positive gain, best gain: -inf\n",
      "[LightGBM] [Warning] No further splits with positive gain, best gain: -inf\n",
      "[LightGBM] [Warning] No further splits with positive gain, best gain: -inf\n",
      "[LightGBM] [Warning] No further splits with positive gain, best gain: -inf\n",
      "[LightGBM] [Warning] No further splits with positive gain, best gain: -inf\n",
      "[LightGBM] [Warning] No further splits with positive gain, best gain: -inf\n",
      "[LightGBM] [Warning] No further splits with positive gain, best gain: -inf\n",
      "[LightGBM] [Warning] No further splits with positive gain, best gain: -inf\n",
      "[LightGBM] [Warning] No further splits with positive gain, best gain: -inf\n",
      "[LightGBM] [Warning] No further splits with positive gain, best gain: -inf\n",
      "[LightGBM] [Warning] No further splits with positive gain, best gain: -inf\n",
      "[LightGBM] [Warning] No further splits with positive gain, best gain: -inf\n",
      "[LightGBM] [Warning] No further splits with positive gain, best gain: -inf\n",
      "[LightGBM] [Warning] No further splits with positive gain, best gain: -inf\n",
      "[LightGBM] [Warning] No further splits with positive gain, best gain: -inf\n",
      "[LightGBM] [Warning] No further splits with positive gain, best gain: -inf\n",
      "[LightGBM] [Warning] No further splits with positive gain, best gain: -inf\n",
      "[LightGBM] [Warning] No further splits with positive gain, best gain: -inf\n",
      "[LightGBM] [Warning] No further splits with positive gain, best gain: -inf\n",
      "[LightGBM] [Warning] No further splits with positive gain, best gain: -inf\n",
      "[LightGBM] [Warning] No further splits with positive gain, best gain: -inf\n",
      "[LightGBM] [Warning] No further splits with positive gain, best gain: -inf\n",
      "[LightGBM] [Warning] No further splits with positive gain, best gain: -inf\n",
      "[LightGBM] [Warning] No further splits with positive gain, best gain: -inf\n",
      "[LightGBM] [Warning] No further splits with positive gain, best gain: -inf\n",
      "[LightGBM] [Warning] No further splits with positive gain, best gain: -inf\n",
      "[LightGBM] [Warning] No further splits with positive gain, best gain: -inf\n",
      "[LightGBM] [Warning] No further splits with positive gain, best gain: -inf\n",
      "[LightGBM] [Warning] No further splits with positive gain, best gain: -inf\n",
      "[LightGBM] [Warning] No further splits with positive gain, best gain: -inf\n",
      "[LightGBM] [Warning] No further splits with positive gain, best gain: -inf\n",
      "[LightGBM] [Warning] No further splits with positive gain, best gain: -inf\n",
      "[LightGBM] [Warning] No further splits with positive gain, best gain: -inf\n",
      "[LightGBM] [Warning] No further splits with positive gain, best gain: -inf\n",
      "[LightGBM] [Warning] No further splits with positive gain, best gain: -inf\n",
      "[LightGBM] [Warning] No further splits with positive gain, best gain: -inf\n",
      "[LightGBM] [Warning] No further splits with positive gain, best gain: -inf\n"
     ]
    },
    {
     "name": "stderr",
     "output_type": "stream",
     "text": [
      "100%|██████████| 272/272 [00:07<00:00, 37.51it/s]\n",
      "100%|██████████| 68/68 [00:01<00:00, 44.92it/s]\n"
     ]
    },
    {
     "name": "stdout",
     "output_type": "stream",
     "text": [
      "[LightGBM] [Warning] Unknown parameter: silent\n",
      "Epoch=0 \n",
      "Validation: = Logloss: 12.93 F1: 99.517 Recall: 99.517 Precision: 99.517 Accuracy: 99.517\n"
     ]
    },
    {
     "name": "stderr",
     "output_type": "stream",
     "text": [
      "100%|██████████| 272/272 [00:08<00:00, 31.16it/s]\n",
      "100%|██████████| 68/68 [00:01<00:00, 62.55it/s] \n"
     ]
    },
    {
     "name": "stdout",
     "output_type": "stream",
     "text": [
      "[LightGBM] [Warning] Unknown parameter: silent\n",
      "Epoch=1 \n",
      "Validation: = Logloss: 12.622 F1: 99.517 Recall: 99.517 Precision: 99.517 Accuracy: 99.517\n"
     ]
    },
    {
     "name": "stderr",
     "output_type": "stream",
     "text": [
      "100%|██████████| 272/272 [00:09<00:00, 29.32it/s]\n",
      "100%|██████████| 68/68 [00:01<00:00, 54.83it/s]\n"
     ]
    },
    {
     "name": "stdout",
     "output_type": "stream",
     "text": [
      "[LightGBM] [Warning] Unknown parameter: silent\n",
      "Epoch=2 \n",
      "Validation: = Logloss: 11.913 F1: 99.54 Recall: 99.54 Precision: 99.54 Accuracy: 99.54\n"
     ]
    },
    {
     "name": "stderr",
     "output_type": "stream",
     "text": [
      "100%|██████████| 272/272 [00:07<00:00, 36.80it/s]\n",
      "100%|██████████| 68/68 [00:01<00:00, 62.16it/s] \n"
     ]
    },
    {
     "name": "stdout",
     "output_type": "stream",
     "text": [
      "[LightGBM] [Warning] Unknown parameter: silent\n",
      "Epoch=3 \n",
      "Validation: = Logloss: 11.656 F1: 99.54 Recall: 99.54 Precision: 99.54 Accuracy: 99.54\n"
     ]
    },
    {
     "name": "stderr",
     "output_type": "stream",
     "text": [
      "100%|██████████| 272/272 [00:08<00:00, 30.39it/s]\n",
      "100%|██████████| 68/68 [00:01<00:00, 61.44it/s] \n"
     ]
    },
    {
     "name": "stdout",
     "output_type": "stream",
     "text": [
      "[LightGBM] [Warning] Unknown parameter: silent\n",
      "Epoch=4 \n",
      "Validation: = Logloss: 11.602 F1: 99.54 Recall: 99.54 Precision: 99.54 Accuracy: 99.54\n"
     ]
    },
    {
     "name": "stderr",
     "output_type": "stream",
     "text": [
      "100%|██████████| 272/272 [00:08<00:00, 30.58it/s]\n",
      "100%|██████████| 68/68 [00:01<00:00, 40.07it/s]\n"
     ]
    },
    {
     "name": "stdout",
     "output_type": "stream",
     "text": [
      "[LightGBM] [Warning] Unknown parameter: silent\n",
      "Epoch=5 \n",
      "Validation: = Logloss: 11.412 F1: 99.54 Recall: 99.54 Precision: 99.54 Accuracy: 99.54\n"
     ]
    },
    {
     "name": "stderr",
     "output_type": "stream",
     "text": [
      "100%|██████████| 272/272 [00:07<00:00, 37.35it/s]\n",
      "100%|██████████| 68/68 [00:01<00:00, 61.32it/s]\n"
     ]
    },
    {
     "name": "stdout",
     "output_type": "stream",
     "text": [
      "[LightGBM] [Warning] Unknown parameter: silent\n",
      "Epoch=6 \n",
      "Validation: = Logloss: 11.417 F1: 99.54 Recall: 99.54 Precision: 99.54 Accuracy: 99.54\n"
     ]
    },
    {
     "name": "stderr",
     "output_type": "stream",
     "text": [
      "100%|██████████| 272/272 [00:09<00:00, 29.42it/s]\n",
      "100%|██████████| 68/68 [00:01<00:00, 60.18it/s]\n"
     ]
    },
    {
     "name": "stdout",
     "output_type": "stream",
     "text": [
      "[LightGBM] [Warning] Unknown parameter: silent\n",
      "Epoch=7 \n",
      "Validation: = Logloss: 11.349 F1: 99.54 Recall: 99.54 Precision: 99.54 Accuracy: 99.54\n"
     ]
    },
    {
     "name": "stderr",
     "output_type": "stream",
     "text": [
      "100%|██████████| 272/272 [00:08<00:00, 33.28it/s]\n",
      "100%|██████████| 68/68 [00:01<00:00, 39.76it/s]\n"
     ]
    },
    {
     "name": "stdout",
     "output_type": "stream",
     "text": [
      "[LightGBM] [Warning] Unknown parameter: silent\n",
      "Epoch=8 \n",
      "Validation: = Logloss: 11.456 F1: 99.54 Recall: 99.54 Precision: 99.54 Accuracy: 99.54\n"
     ]
    },
    {
     "name": "stderr",
     "output_type": "stream",
     "text": [
      "100%|██████████| 272/272 [00:07<00:00, 36.24it/s]\n",
      "100%|██████████| 68/68 [00:01<00:00, 62.08it/s] \n"
     ]
    },
    {
     "name": "stdout",
     "output_type": "stream",
     "text": [
      "[LightGBM] [Warning] Unknown parameter: silent\n",
      "Epoch=9 \n",
      "Validation: = Logloss: 11.368 F1: 99.54 Recall: 99.54 Precision: 99.54 Accuracy: 99.54\n"
     ]
    },
    {
     "name": "stderr",
     "output_type": "stream",
     "text": [
      "100%|██████████| 272/272 [00:09<00:00, 29.28it/s]\n",
      "100%|██████████| 68/68 [00:01<00:00, 58.07it/s]\n"
     ]
    },
    {
     "name": "stdout",
     "output_type": "stream",
     "text": [
      "[LightGBM] [Warning] Unknown parameter: silent\n",
      "Epoch=10 \n",
      "Validation: = Logloss: 8.864 F1: 99.54 Recall: 99.54 Precision: 99.54 Accuracy: 99.54\n"
     ]
    },
    {
     "name": "stderr",
     "output_type": "stream",
     "text": [
      "100%|██████████| 272/272 [00:07<00:00, 34.34it/s]\n",
      "100%|██████████| 68/68 [00:01<00:00, 38.97it/s]\n"
     ]
    },
    {
     "name": "stdout",
     "output_type": "stream",
     "text": [
      "[LightGBM] [Warning] Unknown parameter: silent\n",
      "Epoch=11 \n",
      "Validation: = Logloss: 7.77 F1: 99.402 Recall: 99.402 Precision: 99.402 Accuracy: 99.402\n"
     ]
    },
    {
     "name": "stderr",
     "output_type": "stream",
     "text": [
      "100%|██████████| 272/272 [00:07<00:00, 34.05it/s]\n",
      "100%|██████████| 68/68 [00:01<00:00, 61.70it/s]\n"
     ]
    },
    {
     "name": "stdout",
     "output_type": "stream",
     "text": [
      "[LightGBM] [Warning] Unknown parameter: silent\n",
      "Epoch=12 \n",
      "Validation: = Logloss: 7.285 F1: 99.54 Recall: 99.54 Precision: 99.54 Accuracy: 99.54\n"
     ]
    },
    {
     "name": "stderr",
     "output_type": "stream",
     "text": [
      "100%|██████████| 272/272 [00:09<00:00, 27.60it/s]\n",
      "100%|██████████| 68/68 [00:01<00:00, 39.86it/s]\n"
     ]
    },
    {
     "name": "stdout",
     "output_type": "stream",
     "text": [
      "[LightGBM] [Warning] Unknown parameter: silent\n",
      "Epoch=13 \n",
      "Validation: = Logloss: 7.279 F1: 99.54 Recall: 99.54 Precision: 99.54 Accuracy: 99.54\n"
     ]
    },
    {
     "name": "stderr",
     "output_type": "stream",
     "text": [
      "100%|██████████| 272/272 [00:09<00:00, 28.57it/s]\n",
      "100%|██████████| 68/68 [00:01<00:00, 37.82it/s]\n"
     ]
    },
    {
     "name": "stdout",
     "output_type": "stream",
     "text": [
      "[LightGBM] [Warning] Unknown parameter: silent\n",
      "Epoch=14 \n",
      "Validation: = Logloss: 7.458 F1: 99.54 Recall: 99.54 Precision: 99.54 Accuracy: 99.54\n"
     ]
    },
    {
     "name": "stderr",
     "output_type": "stream",
     "text": [
      "100%|██████████| 272/272 [00:07<00:00, 36.26it/s]\n",
      "100%|██████████| 68/68 [00:01<00:00, 61.31it/s]\n"
     ]
    },
    {
     "name": "stdout",
     "output_type": "stream",
     "text": [
      "[LightGBM] [Warning] Unknown parameter: silent\n",
      "Epoch=15 \n",
      "Validation: = Logloss: 7.204 F1: 99.517 Recall: 99.517 Precision: 99.517 Accuracy: 99.517\n"
     ]
    },
    {
     "name": "stderr",
     "output_type": "stream",
     "text": [
      "100%|██████████| 272/272 [00:13<00:00, 19.48it/s]\n",
      "100%|██████████| 68/68 [00:01<00:00, 54.92it/s]\n"
     ]
    },
    {
     "name": "stdout",
     "output_type": "stream",
     "text": [
      "[LightGBM] [Warning] Unknown parameter: silent\n",
      "Epoch=16 \n",
      "Validation: = Logloss: 7.129 F1: 99.517 Recall: 99.517 Precision: 99.517 Accuracy: 99.517\n"
     ]
    },
    {
     "name": "stderr",
     "output_type": "stream",
     "text": [
      "100%|██████████| 272/272 [00:08<00:00, 31.31it/s]\n",
      "100%|██████████| 68/68 [00:01<00:00, 37.30it/s]\n"
     ]
    },
    {
     "name": "stdout",
     "output_type": "stream",
     "text": [
      "[LightGBM] [Warning] Unknown parameter: silent\n",
      "Epoch=17 \n",
      "Validation: = Logloss: 7.132 F1: 99.54 Recall: 99.54 Precision: 99.54 Accuracy: 99.54\n"
     ]
    },
    {
     "name": "stderr",
     "output_type": "stream",
     "text": [
      "100%|██████████| 272/272 [00:07<00:00, 36.07it/s]\n",
      "100%|██████████| 68/68 [00:01<00:00, 57.76it/s]\n"
     ]
    },
    {
     "name": "stdout",
     "output_type": "stream",
     "text": [
      "[LightGBM] [Warning] Unknown parameter: silent\n",
      "Epoch=18 \n",
      "Validation: = Logloss: 7.061 F1: 99.517 Recall: 99.517 Precision: 99.517 Accuracy: 99.517\n"
     ]
    },
    {
     "name": "stderr",
     "output_type": "stream",
     "text": [
      "100%|██████████| 272/272 [00:12<00:00, 22.18it/s]\n",
      "100%|██████████| 68/68 [00:01<00:00, 37.13it/s]\n"
     ]
    },
    {
     "name": "stdout",
     "output_type": "stream",
     "text": [
      "[LightGBM] [Warning] Unknown parameter: silent\n",
      "Epoch=19 \n",
      "Validation: = Logloss: 6.149 F1: 99.54 Recall: 99.54 Precision: 99.54 Accuracy: 99.54\n"
     ]
    },
    {
     "name": "stderr",
     "output_type": "stream",
     "text": [
      "100%|██████████| 272/272 [00:08<00:00, 32.35it/s]\n",
      "100%|██████████| 68/68 [00:01<00:00, 36.69it/s]\n"
     ]
    },
    {
     "name": "stdout",
     "output_type": "stream",
     "text": [
      "[LightGBM] [Warning] Unknown parameter: silent\n",
      "Epoch=20 \n",
      "Validation: = Logloss: 5.859 F1: 99.517 Recall: 99.517 Precision: 99.517 Accuracy: 99.517\n"
     ]
    },
    {
     "name": "stderr",
     "output_type": "stream",
     "text": [
      "100%|██████████| 272/272 [00:07<00:00, 34.44it/s]\n",
      "100%|██████████| 68/68 [00:01<00:00, 58.84it/s]\n"
     ]
    },
    {
     "name": "stdout",
     "output_type": "stream",
     "text": [
      "[LightGBM] [Warning] Unknown parameter: silent\n",
      "Epoch=21 \n",
      "Validation: = Logloss: 5.762 F1: 99.517 Recall: 99.517 Precision: 99.517 Accuracy: 99.517\n"
     ]
    },
    {
     "name": "stderr",
     "output_type": "stream",
     "text": [
      "100%|██████████| 272/272 [00:10<00:00, 26.74it/s]\n",
      "100%|██████████| 68/68 [00:01<00:00, 59.14it/s]\n"
     ]
    },
    {
     "name": "stdout",
     "output_type": "stream",
     "text": [
      "[LightGBM] [Warning] Unknown parameter: silent\n",
      "Epoch=22 \n",
      "Validation: = Logloss: 5.637 F1: 99.517 Recall: 99.517 Precision: 99.517 Accuracy: 99.517\n"
     ]
    },
    {
     "name": "stderr",
     "output_type": "stream",
     "text": [
      "100%|██████████| 272/272 [00:08<00:00, 31.12it/s]\n",
      "100%|██████████| 68/68 [00:01<00:00, 38.63it/s]\n"
     ]
    },
    {
     "name": "stdout",
     "output_type": "stream",
     "text": [
      "[LightGBM] [Warning] Unknown parameter: silent\n",
      "Epoch=23 \n",
      "Validation: = Logloss: 5.694 F1: 99.54 Recall: 99.54 Precision: 99.54 Accuracy: 99.54\n"
     ]
    },
    {
     "name": "stderr",
     "output_type": "stream",
     "text": [
      "100%|██████████| 272/272 [00:07<00:00, 35.35it/s]\n",
      "100%|██████████| 68/68 [00:01<00:00, 58.78it/s]\n"
     ]
    },
    {
     "name": "stdout",
     "output_type": "stream",
     "text": [
      "[LightGBM] [Warning] Unknown parameter: silent\n",
      "Epoch=24 \n",
      "Validation: = Logloss: 5.738 F1: 99.54 Recall: 99.54 Precision: 99.54 Accuracy: 99.54\n"
     ]
    },
    {
     "name": "stderr",
     "output_type": "stream",
     "text": [
      "100%|██████████| 272/272 [00:09<00:00, 28.69it/s]\n",
      "100%|██████████| 68/68 [00:01<00:00, 59.62it/s]\n"
     ]
    },
    {
     "name": "stdout",
     "output_type": "stream",
     "text": [
      "[LightGBM] [Warning] Unknown parameter: silent\n",
      "Epoch=25 \n",
      "Validation: = Logloss: 5.831 F1: 99.402 Recall: 99.402 Precision: 99.402 Accuracy: 99.402\n"
     ]
    },
    {
     "name": "stderr",
     "output_type": "stream",
     "text": [
      "100%|██████████| 272/272 [00:08<00:00, 31.62it/s]\n",
      "100%|██████████| 68/68 [00:01<00:00, 38.54it/s]\n"
     ]
    },
    {
     "name": "stdout",
     "output_type": "stream",
     "text": [
      "[LightGBM] [Warning] Unknown parameter: silent\n",
      "Epoch=26 \n",
      "Validation: = Logloss: 5.726 F1: 99.54 Recall: 99.54 Precision: 99.54 Accuracy: 99.54\n"
     ]
    },
    {
     "name": "stderr",
     "output_type": "stream",
     "text": [
      "100%|██████████| 272/272 [00:07<00:00, 35.50it/s]\n",
      "100%|██████████| 68/68 [00:01<00:00, 59.73it/s]\n"
     ]
    },
    {
     "name": "stdout",
     "output_type": "stream",
     "text": [
      "[LightGBM] [Warning] Unknown parameter: silent\n",
      "Epoch=27 \n",
      "Validation: = Logloss: 5.715 F1: 99.54 Recall: 99.54 Precision: 99.54 Accuracy: 99.54\n"
     ]
    },
    {
     "name": "stderr",
     "output_type": "stream",
     "text": [
      "100%|██████████| 272/272 [00:09<00:00, 28.81it/s]\n",
      "100%|██████████| 68/68 [00:01<00:00, 59.38it/s]\n"
     ]
    },
    {
     "name": "stdout",
     "output_type": "stream",
     "text": [
      "[LightGBM] [Warning] Unknown parameter: silent\n",
      "Epoch=28 \n",
      "Validation: = Logloss: 5.491 F1: 99.517 Recall: 99.517 Precision: 99.517 Accuracy: 99.517\n"
     ]
    },
    {
     "name": "stderr",
     "output_type": "stream",
     "text": [
      "100%|██████████| 272/272 [00:08<00:00, 32.17it/s]\n",
      "100%|██████████| 68/68 [00:01<00:00, 36.82it/s]\n"
     ]
    },
    {
     "name": "stdout",
     "output_type": "stream",
     "text": [
      "[LightGBM] [Warning] Unknown parameter: silent\n",
      "Epoch=29 \n",
      "Validation: = Logloss: 5.458 F1: 99.54 Recall: 99.54 Precision: 99.54 Accuracy: 99.54\n"
     ]
    },
    {
     "name": "stderr",
     "output_type": "stream",
     "text": [
      "100%|██████████| 272/272 [00:07<00:00, 36.03it/s]\n",
      "100%|██████████| 68/68 [00:01<00:00, 60.41it/s]\n"
     ]
    },
    {
     "name": "stdout",
     "output_type": "stream",
     "text": [
      "[LightGBM] [Warning] Unknown parameter: silent\n",
      "Epoch=30 \n",
      "Validation: = Logloss: 5.501 F1: 99.54 Recall: 99.54 Precision: 99.54 Accuracy: 99.54\n"
     ]
    },
    {
     "name": "stderr",
     "output_type": "stream",
     "text": [
      "100%|██████████| 272/272 [00:09<00:00, 28.38it/s]\n",
      "100%|██████████| 68/68 [00:01<00:00, 61.39it/s]\n"
     ]
    },
    {
     "name": "stdout",
     "output_type": "stream",
     "text": [
      "[LightGBM] [Warning] Unknown parameter: silent\n",
      "Epoch=31 \n",
      "Validation: = Logloss: 5.474 F1: 99.517 Recall: 99.517 Precision: 99.517 Accuracy: 99.517\n"
     ]
    },
    {
     "name": "stderr",
     "output_type": "stream",
     "text": [
      "100%|██████████| 272/272 [00:08<00:00, 31.86it/s]\n",
      "100%|██████████| 68/68 [00:01<00:00, 38.20it/s]\n"
     ]
    },
    {
     "name": "stdout",
     "output_type": "stream",
     "text": [
      "[LightGBM] [Warning] Unknown parameter: silent\n",
      "Epoch=32 \n",
      "Validation: = Logloss: 5.54 F1: 99.54 Recall: 99.54 Precision: 99.54 Accuracy: 99.54\n"
     ]
    },
    {
     "name": "stderr",
     "output_type": "stream",
     "text": [
      "100%|██████████| 272/272 [00:07<00:00, 35.45it/s]\n",
      "100%|██████████| 68/68 [00:01<00:00, 62.36it/s] \n"
     ]
    },
    {
     "name": "stdout",
     "output_type": "stream",
     "text": [
      "[LightGBM] [Warning] Unknown parameter: silent\n",
      "Epoch=33 \n",
      "Validation: = Logloss: 5.473 F1: 99.54 Recall: 99.54 Precision: 99.54 Accuracy: 99.54\n"
     ]
    },
    {
     "name": "stderr",
     "output_type": "stream",
     "text": [
      "100%|██████████| 272/272 [00:09<00:00, 28.82it/s]\n",
      "100%|██████████| 68/68 [00:01<00:00, 59.71it/s]\n"
     ]
    },
    {
     "name": "stdout",
     "output_type": "stream",
     "text": [
      "[LightGBM] [Warning] Unknown parameter: silent\n",
      "Epoch=34 \n",
      "Validation: = Logloss: 5.528 F1: 99.54 Recall: 99.54 Precision: 99.54 Accuracy: 99.54\n"
     ]
    },
    {
     "name": "stderr",
     "output_type": "stream",
     "text": [
      "100%|██████████| 272/272 [00:08<00:00, 33.65it/s]\n",
      "100%|██████████| 68/68 [00:01<00:00, 40.21it/s]\n"
     ]
    },
    {
     "name": "stdout",
     "output_type": "stream",
     "text": [
      "[LightGBM] [Warning] Unknown parameter: silent\n",
      "Epoch=35 \n",
      "Validation: = Logloss: 5.46 F1: 99.54 Recall: 99.54 Precision: 99.54 Accuracy: 99.54\n"
     ]
    },
    {
     "name": "stderr",
     "output_type": "stream",
     "text": [
      "100%|██████████| 272/272 [00:07<00:00, 34.45it/s]\n",
      "100%|██████████| 68/68 [00:01<00:00, 60.33it/s]\n"
     ]
    },
    {
     "name": "stdout",
     "output_type": "stream",
     "text": [
      "[LightGBM] [Warning] Unknown parameter: silent\n",
      "Epoch=36 \n",
      "Validation: = Logloss: 5.443 F1: 99.54 Recall: 99.54 Precision: 99.54 Accuracy: 99.54\n"
     ]
    },
    {
     "name": "stderr",
     "output_type": "stream",
     "text": [
      "100%|██████████| 272/272 [00:09<00:00, 28.60it/s]\n",
      "100%|██████████| 68/68 [00:01<00:00, 55.64it/s]\n"
     ]
    },
    {
     "name": "stdout",
     "output_type": "stream",
     "text": [
      "[LightGBM] [Warning] Unknown parameter: silent\n",
      "Epoch=37 \n",
      "Validation: = Logloss: 5.409 F1: 99.54 Recall: 99.54 Precision: 99.54 Accuracy: 99.54\n"
     ]
    },
    {
     "name": "stderr",
     "output_type": "stream",
     "text": [
      "100%|██████████| 272/272 [00:08<00:00, 33.08it/s]\n",
      "100%|██████████| 68/68 [00:01<00:00, 34.53it/s]\n"
     ]
    },
    {
     "name": "stdout",
     "output_type": "stream",
     "text": [
      "[LightGBM] [Warning] Unknown parameter: silent\n",
      "Epoch=38 \n",
      "Validation: = Logloss: 5.445 F1: 99.402 Recall: 99.402 Precision: 99.402 Accuracy: 99.402\n"
     ]
    },
    {
     "name": "stderr",
     "output_type": "stream",
     "text": [
      "100%|██████████| 272/272 [00:09<00:00, 28.27it/s]\n",
      "100%|██████████| 68/68 [00:01<00:00, 60.63it/s]\n"
     ]
    },
    {
     "name": "stdout",
     "output_type": "stream",
     "text": [
      "[LightGBM] [Warning] Unknown parameter: silent\n",
      "Epoch=39 \n",
      "Validation: = Logloss: 5.355 F1: 99.54 Recall: 99.54 Precision: 99.54 Accuracy: 99.54\n"
     ]
    },
    {
     "name": "stderr",
     "output_type": "stream",
     "text": [
      "100%|██████████| 272/272 [00:09<00:00, 28.69it/s]\n",
      "100%|██████████| 68/68 [00:01<00:00, 57.58it/s]\n"
     ]
    },
    {
     "name": "stdout",
     "output_type": "stream",
     "text": [
      "[LightGBM] [Warning] Unknown parameter: silent\n",
      "Epoch=40 \n",
      "Validation: = Logloss: 5.153 F1: 99.54 Recall: 99.54 Precision: 99.54 Accuracy: 99.54\n"
     ]
    },
    {
     "name": "stderr",
     "output_type": "stream",
     "text": [
      "100%|██████████| 272/272 [00:07<00:00, 34.47it/s]\n",
      "100%|██████████| 68/68 [00:01<00:00, 37.78it/s]\n"
     ]
    },
    {
     "name": "stdout",
     "output_type": "stream",
     "text": [
      "[LightGBM] [Warning] Unknown parameter: silent\n",
      "Epoch=41 \n",
      "Validation: = Logloss: 5.297 F1: 99.54 Recall: 99.54 Precision: 99.54 Accuracy: 99.54\n"
     ]
    },
    {
     "name": "stderr",
     "output_type": "stream",
     "text": [
      "100%|██████████| 272/272 [00:08<00:00, 33.33it/s]\n",
      "100%|██████████| 68/68 [00:01<00:00, 60.16it/s]\n"
     ]
    },
    {
     "name": "stdout",
     "output_type": "stream",
     "text": [
      "[LightGBM] [Warning] Unknown parameter: silent\n",
      "Epoch=42 \n",
      "Validation: = Logloss: 5.194 F1: 99.54 Recall: 99.54 Precision: 99.54 Accuracy: 99.54\n"
     ]
    },
    {
     "name": "stderr",
     "output_type": "stream",
     "text": [
      "100%|██████████| 272/272 [00:09<00:00, 28.62it/s]\n",
      "100%|██████████| 68/68 [00:01<00:00, 59.84it/s]\n"
     ]
    },
    {
     "name": "stdout",
     "output_type": "stream",
     "text": [
      "[LightGBM] [Warning] Unknown parameter: silent\n",
      "Epoch=43 \n",
      "Validation: = Logloss: 5.139 F1: 99.54 Recall: 99.54 Precision: 99.54 Accuracy: 99.54\n"
     ]
    },
    {
     "name": "stderr",
     "output_type": "stream",
     "text": [
      "100%|██████████| 272/272 [00:08<00:00, 32.89it/s]\n",
      "100%|██████████| 68/68 [00:01<00:00, 38.31it/s]\n"
     ]
    },
    {
     "name": "stdout",
     "output_type": "stream",
     "text": [
      "[LightGBM] [Warning] Unknown parameter: silent\n",
      "Epoch=44 \n",
      "Validation: = Logloss: 5.246 F1: 99.54 Recall: 99.54 Precision: 99.54 Accuracy: 99.54\n"
     ]
    },
    {
     "name": "stderr",
     "output_type": "stream",
     "text": [
      "100%|██████████| 272/272 [00:08<00:00, 33.41it/s]\n",
      "100%|██████████| 68/68 [00:01<00:00, 60.32it/s]\n"
     ]
    },
    {
     "name": "stdout",
     "output_type": "stream",
     "text": [
      "[LightGBM] [Warning] Unknown parameter: silent\n",
      "Epoch=45 \n",
      "Validation: = Logloss: 5.256 F1: 99.54 Recall: 99.54 Precision: 99.54 Accuracy: 99.54\n"
     ]
    },
    {
     "name": "stderr",
     "output_type": "stream",
     "text": [
      "100%|██████████| 272/272 [00:09<00:00, 28.82it/s]\n",
      "100%|██████████| 68/68 [00:01<00:00, 61.09it/s]\n"
     ]
    },
    {
     "name": "stdout",
     "output_type": "stream",
     "text": [
      "[LightGBM] [Warning] Unknown parameter: silent\n",
      "Epoch=46 \n",
      "Validation: = Logloss: 5.541 F1: 99.379 Recall: 99.379 Precision: 99.379 Accuracy: 99.379\n"
     ]
    },
    {
     "name": "stderr",
     "output_type": "stream",
     "text": [
      "100%|██████████| 272/272 [00:07<00:00, 35.77it/s]\n",
      "100%|██████████| 68/68 [00:01<00:00, 37.42it/s]\n"
     ]
    },
    {
     "name": "stdout",
     "output_type": "stream",
     "text": [
      "[LightGBM] [Warning] Unknown parameter: silent\n",
      "Epoch=47 \n",
      "Validation: = Logloss: 5.259 F1: 99.54 Recall: 99.54 Precision: 99.54 Accuracy: 99.54\n"
     ]
    },
    {
     "name": "stderr",
     "output_type": "stream",
     "text": [
      "100%|██████████| 272/272 [00:08<00:00, 33.16it/s]\n",
      "100%|██████████| 68/68 [00:01<00:00, 60.44it/s]\n"
     ]
    },
    {
     "name": "stdout",
     "output_type": "stream",
     "text": [
      "[LightGBM] [Warning] Unknown parameter: silent\n",
      "Epoch=48 \n",
      "Validation: = Logloss: 5.411 F1: 99.379 Recall: 99.379 Precision: 99.379 Accuracy: 99.379\n"
     ]
    },
    {
     "name": "stderr",
     "output_type": "stream",
     "text": [
      "100%|██████████| 272/272 [00:09<00:00, 28.92it/s]\n",
      "100%|██████████| 68/68 [00:01<00:00, 61.21it/s]\n"
     ]
    },
    {
     "name": "stdout",
     "output_type": "stream",
     "text": [
      "[LightGBM] [Warning] Unknown parameter: silent\n",
      "Epoch=49 \n",
      "Validation: = Logloss: 5.207 F1: 99.54 Recall: 99.54 Precision: 99.54 Accuracy: 99.54\n",
      "[LightGBM] [Warning] Unknown parameter: silent\n",
      "[LightGBM] [Warning] Unknown parameter: silent\n",
      "[LightGBM] [Info] Auto-choosing col-wise multi-threading, the overhead of testing was 0.022396 seconds.\n",
      "You can set `force_col_wise=true` to remove the overhead.\n",
      "[LightGBM] [Info] Total Bins 23427\n",
      "[LightGBM] [Info] Number of data points in the train set: 17389, number of used features: 96\n",
      "[LightGBM] [Info] Start training from score -1.953240\n",
      "[LightGBM] [Info] Start training from score -1.478332\n",
      "[LightGBM] [Info] Start training from score -1.306787\n",
      "[LightGBM] [Info] Start training from score -3.130275\n",
      "[LightGBM] [Info] Start training from score -5.558900\n",
      "[LightGBM] [Info] Start training from score -2.671851\n",
      "[LightGBM] [Info] Start training from score -3.306823\n",
      "[LightGBM] [Info] Start training from score -2.180855\n",
      "[LightGBM] [Info] Start training from score -2.372795\n",
      "[LightGBM] [Warning] No further splits with positive gain, best gain: -inf\n",
      "[LightGBM] [Warning] No further splits with positive gain, best gain: -inf\n",
      "[LightGBM] [Warning] No further splits with positive gain, best gain: -inf\n",
      "[LightGBM] [Warning] No further splits with positive gain, best gain: -inf\n",
      "[LightGBM] [Warning] No further splits with positive gain, best gain: -inf\n",
      "[LightGBM] [Warning] No further splits with positive gain, best gain: -inf\n",
      "[LightGBM] [Warning] No further splits with positive gain, best gain: -inf\n",
      "[LightGBM] [Warning] No further splits with positive gain, best gain: -inf\n",
      "[LightGBM] [Warning] No further splits with positive gain, best gain: -inf\n",
      "[LightGBM] [Warning] No further splits with positive gain, best gain: -inf\n",
      "[LightGBM] [Warning] No further splits with positive gain, best gain: -inf\n",
      "[LightGBM] [Warning] No further splits with positive gain, best gain: -inf\n",
      "[LightGBM] [Warning] No further splits with positive gain, best gain: -inf\n",
      "[LightGBM] [Warning] No further splits with positive gain, best gain: -inf\n",
      "[LightGBM] [Warning] No further splits with positive gain, best gain: -inf\n",
      "[LightGBM] [Warning] No further splits with positive gain, best gain: -inf\n",
      "[LightGBM] [Warning] No further splits with positive gain, best gain: -inf\n",
      "[LightGBM] [Warning] No further splits with positive gain, best gain: -inf\n",
      "[LightGBM] [Warning] No further splits with positive gain, best gain: -inf\n",
      "[LightGBM] [Warning] No further splits with positive gain, best gain: -inf\n",
      "[LightGBM] [Warning] No further splits with positive gain, best gain: -inf\n",
      "[LightGBM] [Warning] No further splits with positive gain, best gain: -inf\n",
      "[LightGBM] [Warning] No further splits with positive gain, best gain: -inf\n",
      "[LightGBM] [Warning] No further splits with positive gain, best gain: -inf\n",
      "[LightGBM] [Warning] No further splits with positive gain, best gain: -inf\n",
      "[LightGBM] [Warning] No further splits with positive gain, best gain: -inf\n",
      "[LightGBM] [Warning] No further splits with positive gain, best gain: -inf\n",
      "[LightGBM] [Warning] No further splits with positive gain, best gain: -inf\n",
      "[LightGBM] [Warning] No further splits with positive gain, best gain: -inf\n",
      "[LightGBM] [Warning] No further splits with positive gain, best gain: -inf\n",
      "[LightGBM] [Warning] No further splits with positive gain, best gain: -inf\n",
      "[LightGBM] [Warning] No further splits with positive gain, best gain: -inf\n",
      "[LightGBM] [Warning] No further splits with positive gain, best gain: -inf\n",
      "[LightGBM] [Warning] No further splits with positive gain, best gain: -inf\n",
      "[LightGBM] [Warning] No further splits with positive gain, best gain: -inf\n",
      "[LightGBM] [Warning] No further splits with positive gain, best gain: -inf\n",
      "[LightGBM] [Warning] No further splits with positive gain, best gain: -inf\n",
      "[LightGBM] [Warning] No further splits with positive gain, best gain: -inf\n",
      "[LightGBM] [Warning] No further splits with positive gain, best gain: -inf\n",
      "[LightGBM] [Warning] No further splits with positive gain, best gain: -inf\n",
      "[LightGBM] [Warning] No further splits with positive gain, best gain: -inf\n",
      "[LightGBM] [Warning] No further splits with positive gain, best gain: -inf\n",
      "[LightGBM] [Warning] No further splits with positive gain, best gain: -inf\n",
      "[LightGBM] [Warning] No further splits with positive gain, best gain: -inf\n",
      "[LightGBM] [Warning] No further splits with positive gain, best gain: -inf\n",
      "[LightGBM] [Warning] No further splits with positive gain, best gain: -inf\n",
      "[LightGBM] [Warning] No further splits with positive gain, best gain: -inf\n",
      "[LightGBM] [Warning] No further splits with positive gain, best gain: -inf\n",
      "[LightGBM] [Warning] No further splits with positive gain, best gain: -inf\n",
      "[LightGBM] [Warning] No further splits with positive gain, best gain: -inf\n",
      "[LightGBM] [Warning] No further splits with positive gain, best gain: -inf\n",
      "[LightGBM] [Warning] No further splits with positive gain, best gain: -inf\n",
      "[LightGBM] [Warning] No further splits with positive gain, best gain: -inf\n",
      "[LightGBM] [Warning] No further splits with positive gain, best gain: -inf\n",
      "[LightGBM] [Warning] No further splits with positive gain, best gain: -inf\n",
      "[LightGBM] [Warning] No further splits with positive gain, best gain: -inf\n",
      "[LightGBM] [Warning] No further splits with positive gain, best gain: -inf\n",
      "[LightGBM] [Warning] No further splits with positive gain, best gain: -inf\n",
      "[LightGBM] [Warning] No further splits with positive gain, best gain: -inf\n",
      "[LightGBM] [Warning] No further splits with positive gain, best gain: -inf\n",
      "[LightGBM] [Warning] No further splits with positive gain, best gain: -inf\n",
      "[LightGBM] [Warning] No further splits with positive gain, best gain: -inf\n",
      "[LightGBM] [Warning] No further splits with positive gain, best gain: -inf\n",
      "[LightGBM] [Warning] No further splits with positive gain, best gain: -inf\n",
      "[LightGBM] [Warning] No further splits with positive gain, best gain: -inf\n",
      "[LightGBM] [Warning] No further splits with positive gain, best gain: -inf\n",
      "[LightGBM] [Warning] No further splits with positive gain, best gain: -inf\n",
      "[LightGBM] [Warning] No further splits with positive gain, best gain: -inf\n",
      "[LightGBM] [Warning] No further splits with positive gain, best gain: -inf\n",
      "[LightGBM] [Warning] No further splits with positive gain, best gain: -inf\n",
      "[LightGBM] [Warning] No further splits with positive gain, best gain: -inf\n",
      "[LightGBM] [Warning] No further splits with positive gain, best gain: -inf\n",
      "[LightGBM] [Warning] No further splits with positive gain, best gain: -inf\n",
      "[LightGBM] [Warning] No further splits with positive gain, best gain: -inf\n",
      "[LightGBM] [Warning] No further splits with positive gain, best gain: -inf\n",
      "[LightGBM] [Warning] No further splits with positive gain, best gain: -inf\n",
      "[LightGBM] [Warning] No further splits with positive gain, best gain: -inf\n",
      "[LightGBM] [Warning] No further splits with positive gain, best gain: -inf\n",
      "[LightGBM] [Warning] No further splits with positive gain, best gain: -inf\n",
      "[LightGBM] [Warning] No further splits with positive gain, best gain: -inf\n",
      "[LightGBM] [Warning] No further splits with positive gain, best gain: -inf\n",
      "[LightGBM] [Warning] No further splits with positive gain, best gain: -inf\n",
      "[LightGBM] [Warning] No further splits with positive gain, best gain: -inf\n",
      "[LightGBM] [Warning] No further splits with positive gain, best gain: -inf\n",
      "[LightGBM] [Warning] No further splits with positive gain, best gain: -inf\n",
      "[LightGBM] [Warning] No further splits with positive gain, best gain: -inf\n",
      "[LightGBM] [Warning] No further splits with positive gain, best gain: -inf\n",
      "[LightGBM] [Warning] No further splits with positive gain, best gain: -inf\n",
      "[LightGBM] [Warning] No further splits with positive gain, best gain: -inf\n",
      "[LightGBM] [Warning] No further splits with positive gain, best gain: -inf\n",
      "[LightGBM] [Warning] No further splits with positive gain, best gain: -inf\n",
      "[LightGBM] [Warning] No further splits with positive gain, best gain: -inf\n",
      "[LightGBM] [Warning] No further splits with positive gain, best gain: -inf\n",
      "[LightGBM] [Warning] No further splits with positive gain, best gain: -inf\n",
      "[LightGBM] [Warning] No further splits with positive gain, best gain: -inf\n",
      "[LightGBM] [Warning] No further splits with positive gain, best gain: -inf\n",
      "[LightGBM] [Warning] No further splits with positive gain, best gain: -inf\n",
      "[LightGBM] [Warning] No further splits with positive gain, best gain: -inf\n",
      "[LightGBM] [Warning] No further splits with positive gain, best gain: -inf\n",
      "[LightGBM] [Warning] No further splits with positive gain, best gain: -inf\n",
      "[LightGBM] [Warning] No further splits with positive gain, best gain: -inf\n",
      "[LightGBM] [Warning] No further splits with positive gain, best gain: -inf\n",
      "[LightGBM] [Warning] No further splits with positive gain, best gain: -inf\n",
      "[LightGBM] [Warning] No further splits with positive gain, best gain: -inf\n",
      "[LightGBM] [Warning] No further splits with positive gain, best gain: -inf\n",
      "[LightGBM] [Warning] No further splits with positive gain, best gain: -inf\n",
      "[LightGBM] [Warning] No further splits with positive gain, best gain: -inf\n",
      "[LightGBM] [Warning] No further splits with positive gain, best gain: -inf\n",
      "[LightGBM] [Warning] No further splits with positive gain, best gain: -inf\n",
      "[LightGBM] [Warning] No further splits with positive gain, best gain: -inf\n",
      "[LightGBM] [Warning] No further splits with positive gain, best gain: -inf\n",
      "[LightGBM] [Warning] No further splits with positive gain, best gain: -inf\n",
      "[LightGBM] [Warning] No further splits with positive gain, best gain: -inf\n",
      "[LightGBM] [Warning] No further splits with positive gain, best gain: -inf\n",
      "[LightGBM] [Warning] No further splits with positive gain, best gain: -inf\n",
      "[LightGBM] [Warning] No further splits with positive gain, best gain: -inf\n",
      "[LightGBM] [Warning] No further splits with positive gain, best gain: -inf\n",
      "[LightGBM] [Warning] No further splits with positive gain, best gain: -inf\n",
      "[LightGBM] [Warning] No further splits with positive gain, best gain: -inf\n",
      "[LightGBM] [Warning] No further splits with positive gain, best gain: -inf\n",
      "[LightGBM] [Warning] No further splits with positive gain, best gain: -inf\n",
      "[LightGBM] [Warning] No further splits with positive gain, best gain: -inf\n",
      "[LightGBM] [Warning] No further splits with positive gain, best gain: -inf\n",
      "[LightGBM] [Warning] No further splits with positive gain, best gain: -inf\n",
      "[LightGBM] [Warning] No further splits with positive gain, best gain: -inf\n",
      "[LightGBM] [Warning] No further splits with positive gain, best gain: -inf\n",
      "[LightGBM] [Warning] No further splits with positive gain, best gain: -inf\n",
      "[LightGBM] [Warning] No further splits with positive gain, best gain: -inf\n",
      "[LightGBM] [Warning] No further splits with positive gain, best gain: -inf\n",
      "[LightGBM] [Warning] No further splits with positive gain, best gain: -inf\n",
      "[LightGBM] [Warning] No further splits with positive gain, best gain: -inf\n",
      "[LightGBM] [Warning] No further splits with positive gain, best gain: -inf\n",
      "[LightGBM] [Warning] No further splits with positive gain, best gain: -inf\n",
      "[LightGBM] [Warning] No further splits with positive gain, best gain: -inf\n",
      "[LightGBM] [Warning] No further splits with positive gain, best gain: -inf\n",
      "[LightGBM] [Warning] No further splits with positive gain, best gain: -inf\n",
      "[LightGBM] [Warning] No further splits with positive gain, best gain: -inf\n",
      "[LightGBM] [Warning] No further splits with positive gain, best gain: -inf\n",
      "[LightGBM] [Warning] No further splits with positive gain, best gain: -inf\n",
      "[LightGBM] [Warning] No further splits with positive gain, best gain: -inf\n",
      "[LightGBM] [Warning] No further splits with positive gain, best gain: -inf\n",
      "[LightGBM] [Warning] No further splits with positive gain, best gain: -inf\n",
      "[LightGBM] [Warning] No further splits with positive gain, best gain: -inf\n",
      "[LightGBM] [Warning] No further splits with positive gain, best gain: -inf\n",
      "[LightGBM] [Warning] No further splits with positive gain, best gain: -inf\n",
      "[LightGBM] [Warning] No further splits with positive gain, best gain: -inf\n",
      "[LightGBM] [Warning] No further splits with positive gain, best gain: -inf\n",
      "[LightGBM] [Warning] No further splits with positive gain, best gain: -inf\n",
      "[LightGBM] [Warning] No further splits with positive gain, best gain: -inf\n",
      "[LightGBM] [Warning] No further splits with positive gain, best gain: -inf\n",
      "[LightGBM] [Warning] No further splits with positive gain, best gain: -inf\n",
      "[LightGBM] [Warning] No further splits with positive gain, best gain: -inf\n",
      "[LightGBM] [Warning] No further splits with positive gain, best gain: -inf\n",
      "[LightGBM] [Warning] No further splits with positive gain, best gain: -inf\n",
      "[LightGBM] [Warning] No further splits with positive gain, best gain: -inf\n",
      "[LightGBM] [Warning] No further splits with positive gain, best gain: -inf\n",
      "[LightGBM] [Warning] No further splits with positive gain, best gain: -inf\n",
      "[LightGBM] [Warning] No further splits with positive gain, best gain: -inf\n",
      "[LightGBM] [Warning] No further splits with positive gain, best gain: -inf\n",
      "[LightGBM] [Warning] No further splits with positive gain, best gain: -inf\n",
      "[LightGBM] [Warning] No further splits with positive gain, best gain: -inf\n",
      "[LightGBM] [Warning] No further splits with positive gain, best gain: -inf\n",
      "[LightGBM] [Warning] No further splits with positive gain, best gain: -inf\n",
      "[LightGBM] [Warning] No further splits with positive gain, best gain: -inf\n",
      "[LightGBM] [Warning] No further splits with positive gain, best gain: -inf\n",
      "[LightGBM] [Warning] No further splits with positive gain, best gain: -inf\n",
      "[LightGBM] [Warning] No further splits with positive gain, best gain: -inf\n",
      "[LightGBM] [Warning] No further splits with positive gain, best gain: -inf\n",
      "[LightGBM] [Warning] No further splits with positive gain, best gain: -inf\n",
      "[LightGBM] [Warning] No further splits with positive gain, best gain: -inf\n",
      "[LightGBM] [Warning] No further splits with positive gain, best gain: -inf\n",
      "[LightGBM] [Warning] No further splits with positive gain, best gain: -inf\n",
      "[LightGBM] [Warning] No further splits with positive gain, best gain: -inf\n",
      "[LightGBM] [Warning] No further splits with positive gain, best gain: -inf\n"
     ]
    },
    {
     "name": "stderr",
     "output_type": "stream",
     "text": [
      "100%|██████████| 272/272 [00:07<00:00, 34.33it/s]\n",
      "100%|██████████| 68/68 [00:01<00:00, 61.02it/s]\n"
     ]
    },
    {
     "name": "stdout",
     "output_type": "stream",
     "text": [
      "[LightGBM] [Warning] Unknown parameter: silent\n",
      "Epoch=0 \n",
      "Validation: = Logloss: 10.765 F1: 99.379 Recall: 99.379 Precision: 99.379 Accuracy: 99.379\n"
     ]
    },
    {
     "name": "stderr",
     "output_type": "stream",
     "text": [
      "100%|██████████| 272/272 [00:09<00:00, 28.59it/s]\n",
      "100%|██████████| 68/68 [00:01<00:00, 60.39it/s]\n"
     ]
    },
    {
     "name": "stdout",
     "output_type": "stream",
     "text": [
      "[LightGBM] [Warning] Unknown parameter: silent\n",
      "Epoch=1 \n",
      "Validation: = Logloss: 10.092 F1: 99.379 Recall: 99.379 Precision: 99.379 Accuracy: 99.379\n"
     ]
    },
    {
     "name": "stderr",
     "output_type": "stream",
     "text": [
      "100%|██████████| 272/272 [00:07<00:00, 36.31it/s]\n",
      "100%|██████████| 68/68 [00:01<00:00, 38.40it/s]\n"
     ]
    },
    {
     "name": "stdout",
     "output_type": "stream",
     "text": [
      "[LightGBM] [Warning] Unknown parameter: silent\n",
      "Epoch=2 \n",
      "Validation: = Logloss: 9.649 F1: 99.402 Recall: 99.402 Precision: 99.402 Accuracy: 99.402\n"
     ]
    },
    {
     "name": "stderr",
     "output_type": "stream",
     "text": [
      "100%|██████████| 272/272 [00:08<00:00, 33.34it/s]\n",
      "100%|██████████| 68/68 [00:01<00:00, 60.66it/s]\n"
     ]
    },
    {
     "name": "stdout",
     "output_type": "stream",
     "text": [
      "[LightGBM] [Warning] Unknown parameter: silent\n",
      "Epoch=3 \n",
      "Validation: = Logloss: 8.92 F1: 99.402 Recall: 99.402 Precision: 99.402 Accuracy: 99.402\n"
     ]
    },
    {
     "name": "stderr",
     "output_type": "stream",
     "text": [
      "100%|██████████| 272/272 [00:09<00:00, 28.80it/s]\n",
      "100%|██████████| 68/68 [00:01<00:00, 61.63it/s] \n"
     ]
    },
    {
     "name": "stdout",
     "output_type": "stream",
     "text": [
      "[LightGBM] [Warning] Unknown parameter: silent\n",
      "Epoch=4 \n",
      "Validation: = Logloss: 8.124 F1: 99.425 Recall: 99.425 Precision: 99.425 Accuracy: 99.425\n"
     ]
    },
    {
     "name": "stderr",
     "output_type": "stream",
     "text": [
      "100%|██████████| 272/272 [00:07<00:00, 36.34it/s]\n",
      "100%|██████████| 68/68 [00:01<00:00, 39.15it/s]\n"
     ]
    },
    {
     "name": "stdout",
     "output_type": "stream",
     "text": [
      "[LightGBM] [Warning] Unknown parameter: silent\n",
      "Epoch=5 \n",
      "Validation: = Logloss: 7.905 F1: 99.425 Recall: 99.425 Precision: 99.425 Accuracy: 99.425\n"
     ]
    },
    {
     "name": "stderr",
     "output_type": "stream",
     "text": [
      "100%|██████████| 272/272 [00:08<00:00, 32.88it/s]\n",
      "100%|██████████| 68/68 [00:01<00:00, 61.50it/s]\n"
     ]
    },
    {
     "name": "stdout",
     "output_type": "stream",
     "text": [
      "[LightGBM] [Warning] Unknown parameter: silent\n",
      "Epoch=6 \n",
      "Validation: = Logloss: 7.774 F1: 99.448 Recall: 99.448 Precision: 99.448 Accuracy: 99.448\n"
     ]
    },
    {
     "name": "stderr",
     "output_type": "stream",
     "text": [
      "100%|██████████| 272/272 [00:09<00:00, 28.93it/s]\n",
      "100%|██████████| 68/68 [00:01<00:00, 56.78it/s]\n"
     ]
    },
    {
     "name": "stdout",
     "output_type": "stream",
     "text": [
      "[LightGBM] [Warning] Unknown parameter: silent\n",
      "Epoch=7 \n",
      "Validation: = Logloss: 7.674 F1: 99.425 Recall: 99.425 Precision: 99.425 Accuracy: 99.425\n"
     ]
    },
    {
     "name": "stderr",
     "output_type": "stream",
     "text": [
      "100%|██████████| 272/272 [00:07<00:00, 36.27it/s]\n",
      "100%|██████████| 68/68 [00:01<00:00, 43.87it/s]\n"
     ]
    },
    {
     "name": "stdout",
     "output_type": "stream",
     "text": [
      "[LightGBM] [Warning] Unknown parameter: silent\n",
      "Epoch=8 \n",
      "Validation: = Logloss: 7.638 F1: 99.448 Recall: 99.448 Precision: 99.448 Accuracy: 99.448\n"
     ]
    },
    {
     "name": "stderr",
     "output_type": "stream",
     "text": [
      "100%|██████████| 272/272 [00:08<00:00, 31.60it/s]\n",
      "100%|██████████| 68/68 [00:01<00:00, 60.54it/s]\n"
     ]
    },
    {
     "name": "stdout",
     "output_type": "stream",
     "text": [
      "[LightGBM] [Warning] Unknown parameter: silent\n",
      "Epoch=9 \n",
      "Validation: = Logloss: 7.61 F1: 99.425 Recall: 99.425 Precision: 99.425 Accuracy: 99.425\n"
     ]
    },
    {
     "name": "stderr",
     "output_type": "stream",
     "text": [
      "100%|██████████| 272/272 [00:11<00:00, 24.46it/s]\n",
      "100%|██████████| 68/68 [00:01<00:00, 35.28it/s]\n"
     ]
    },
    {
     "name": "stdout",
     "output_type": "stream",
     "text": [
      "[LightGBM] [Warning] Unknown parameter: silent\n",
      "Epoch=10 \n",
      "Validation: = Logloss: 7.541 F1: 99.425 Recall: 99.425 Precision: 99.425 Accuracy: 99.425\n"
     ]
    },
    {
     "name": "stderr",
     "output_type": "stream",
     "text": [
      "100%|██████████| 272/272 [00:07<00:00, 37.29it/s]\n",
      "100%|██████████| 68/68 [00:01<00:00, 62.38it/s]\n"
     ]
    },
    {
     "name": "stdout",
     "output_type": "stream",
     "text": [
      "[LightGBM] [Warning] Unknown parameter: silent\n",
      "Epoch=11 \n",
      "Validation: = Logloss: 7.34 F1: 99.448 Recall: 99.448 Precision: 99.448 Accuracy: 99.448\n"
     ]
    },
    {
     "name": "stderr",
     "output_type": "stream",
     "text": [
      "100%|██████████| 272/272 [00:09<00:00, 28.83it/s]\n",
      "100%|██████████| 68/68 [00:01<00:00, 60.69it/s]\n"
     ]
    },
    {
     "name": "stdout",
     "output_type": "stream",
     "text": [
      "[LightGBM] [Warning] Unknown parameter: silent\n",
      "Epoch=12 \n",
      "Validation: = Logloss: 7.618 F1: 99.425 Recall: 99.425 Precision: 99.425 Accuracy: 99.425\n"
     ]
    },
    {
     "name": "stderr",
     "output_type": "stream",
     "text": [
      "100%|██████████| 272/272 [00:08<00:00, 33.27it/s]\n",
      "100%|██████████| 68/68 [00:01<00:00, 39.73it/s]\n"
     ]
    },
    {
     "name": "stdout",
     "output_type": "stream",
     "text": [
      "[LightGBM] [Warning] Unknown parameter: silent\n",
      "Epoch=13 \n",
      "Validation: = Logloss: 7.349 F1: 99.448 Recall: 99.448 Precision: 99.448 Accuracy: 99.448\n"
     ]
    },
    {
     "name": "stderr",
     "output_type": "stream",
     "text": [
      "100%|██████████| 272/272 [00:07<00:00, 34.81it/s]\n",
      "100%|██████████| 68/68 [00:01<00:00, 60.54it/s]\n"
     ]
    },
    {
     "name": "stdout",
     "output_type": "stream",
     "text": [
      "[LightGBM] [Warning] Unknown parameter: silent\n",
      "Epoch=14 \n",
      "Validation: = Logloss: 7.668 F1: 99.425 Recall: 99.425 Precision: 99.425 Accuracy: 99.425\n"
     ]
    },
    {
     "name": "stderr",
     "output_type": "stream",
     "text": [
      "100%|██████████| 272/272 [00:09<00:00, 29.25it/s]\n",
      "100%|██████████| 68/68 [00:01<00:00, 60.96it/s]\n"
     ]
    },
    {
     "name": "stdout",
     "output_type": "stream",
     "text": [
      "[LightGBM] [Warning] Unknown parameter: silent\n",
      "Epoch=15 \n",
      "Validation: = Logloss: 7.279 F1: 99.448 Recall: 99.448 Precision: 99.448 Accuracy: 99.448\n"
     ]
    },
    {
     "name": "stderr",
     "output_type": "stream",
     "text": [
      "100%|██████████| 272/272 [00:07<00:00, 35.09it/s]\n",
      "100%|██████████| 68/68 [00:01<00:00, 38.23it/s]\n"
     ]
    },
    {
     "name": "stdout",
     "output_type": "stream",
     "text": [
      "[LightGBM] [Warning] Unknown parameter: silent\n",
      "Epoch=16 \n",
      "Validation: = Logloss: 7.194 F1: 99.425 Recall: 99.425 Precision: 99.425 Accuracy: 99.425\n"
     ]
    },
    {
     "name": "stderr",
     "output_type": "stream",
     "text": [
      "100%|██████████| 272/272 [00:11<00:00, 24.47it/s]\n",
      "100%|██████████| 68/68 [00:01<00:00, 60.53it/s]\n"
     ]
    },
    {
     "name": "stdout",
     "output_type": "stream",
     "text": [
      "[LightGBM] [Warning] Unknown parameter: silent\n",
      "Epoch=17 \n",
      "Validation: = Logloss: 7.208 F1: 99.402 Recall: 99.402 Precision: 99.402 Accuracy: 99.402\n"
     ]
    },
    {
     "name": "stderr",
     "output_type": "stream",
     "text": [
      "100%|██████████| 272/272 [00:09<00:00, 29.09it/s]\n",
      "100%|██████████| 68/68 [00:01<00:00, 61.73it/s] \n"
     ]
    },
    {
     "name": "stdout",
     "output_type": "stream",
     "text": [
      "[LightGBM] [Warning] Unknown parameter: silent\n",
      "Epoch=18 \n",
      "Validation: = Logloss: 7.227 F1: 99.425 Recall: 99.425 Precision: 99.425 Accuracy: 99.425\n"
     ]
    },
    {
     "name": "stderr",
     "output_type": "stream",
     "text": [
      "100%|██████████| 272/272 [00:07<00:00, 36.84it/s]\n",
      "100%|██████████| 68/68 [00:01<00:00, 48.41it/s]\n"
     ]
    },
    {
     "name": "stdout",
     "output_type": "stream",
     "text": [
      "[LightGBM] [Warning] Unknown parameter: silent\n",
      "Epoch=19 \n",
      "Validation: = Logloss: 6.986 F1: 99.425 Recall: 99.425 Precision: 99.425 Accuracy: 99.425\n"
     ]
    },
    {
     "name": "stderr",
     "output_type": "stream",
     "text": [
      "100%|██████████| 272/272 [00:08<00:00, 31.51it/s]\n",
      "100%|██████████| 68/68 [00:01<00:00, 61.78it/s] \n"
     ]
    },
    {
     "name": "stdout",
     "output_type": "stream",
     "text": [
      "[LightGBM] [Warning] Unknown parameter: silent\n",
      "Epoch=20 \n",
      "Validation: = Logloss: 5.976 F1: 99.379 Recall: 99.379 Precision: 99.379 Accuracy: 99.379\n"
     ]
    },
    {
     "name": "stderr",
     "output_type": "stream",
     "text": [
      "100%|██████████| 272/272 [00:09<00:00, 29.76it/s]\n",
      "100%|██████████| 68/68 [00:01<00:00, 48.46it/s]\n"
     ]
    },
    {
     "name": "stdout",
     "output_type": "stream",
     "text": [
      "[LightGBM] [Warning] Unknown parameter: silent\n",
      "Epoch=21 \n",
      "Validation: = Logloss: 5.856 F1: 99.425 Recall: 99.425 Precision: 99.425 Accuracy: 99.425\n"
     ]
    },
    {
     "name": "stderr",
     "output_type": "stream",
     "text": [
      "100%|██████████| 272/272 [00:07<00:00, 36.66it/s]\n",
      "100%|██████████| 68/68 [00:01<00:00, 61.27it/s] \n"
     ]
    },
    {
     "name": "stdout",
     "output_type": "stream",
     "text": [
      "[LightGBM] [Warning] Unknown parameter: silent\n",
      "Epoch=22 \n",
      "Validation: = Logloss: 5.808 F1: 99.402 Recall: 99.402 Precision: 99.402 Accuracy: 99.402\n"
     ]
    },
    {
     "name": "stderr",
     "output_type": "stream",
     "text": [
      "100%|██████████| 272/272 [00:09<00:00, 30.13it/s]\n",
      "100%|██████████| 68/68 [00:01<00:00, 62.08it/s] \n"
     ]
    },
    {
     "name": "stdout",
     "output_type": "stream",
     "text": [
      "[LightGBM] [Warning] Unknown parameter: silent\n",
      "Epoch=23 \n",
      "Validation: = Logloss: 5.743 F1: 99.471 Recall: 99.471 Precision: 99.471 Accuracy: 99.471\n"
     ]
    },
    {
     "name": "stderr",
     "output_type": "stream",
     "text": [
      "100%|██████████| 272/272 [00:08<00:00, 30.57it/s]\n",
      "100%|██████████| 68/68 [00:01<00:00, 39.11it/s]\n"
     ]
    },
    {
     "name": "stdout",
     "output_type": "stream",
     "text": [
      "[LightGBM] [Warning] Unknown parameter: silent\n",
      "Epoch=24 \n",
      "Validation: = Logloss: 5.959 F1: 99.425 Recall: 99.425 Precision: 99.425 Accuracy: 99.425\n"
     ]
    },
    {
     "name": "stderr",
     "output_type": "stream",
     "text": [
      "100%|██████████| 272/272 [00:07<00:00, 36.77it/s]\n",
      "100%|██████████| 68/68 [00:01<00:00, 60.29it/s]\n"
     ]
    },
    {
     "name": "stdout",
     "output_type": "stream",
     "text": [
      "[LightGBM] [Warning] Unknown parameter: silent\n",
      "Epoch=25 \n",
      "Validation: = Logloss: 5.715 F1: 99.425 Recall: 99.425 Precision: 99.425 Accuracy: 99.425\n"
     ]
    },
    {
     "name": "stderr",
     "output_type": "stream",
     "text": [
      "100%|██████████| 272/272 [00:09<00:00, 29.20it/s]\n",
      "100%|██████████| 68/68 [00:01<00:00, 59.66it/s]\n"
     ]
    },
    {
     "name": "stdout",
     "output_type": "stream",
     "text": [
      "[LightGBM] [Warning] Unknown parameter: silent\n",
      "Epoch=26 \n",
      "Validation: = Logloss: 5.742 F1: 99.471 Recall: 99.471 Precision: 99.471 Accuracy: 99.471\n"
     ]
    },
    {
     "name": "stderr",
     "output_type": "stream",
     "text": [
      "100%|██████████| 272/272 [00:08<00:00, 32.86it/s]\n",
      "100%|██████████| 68/68 [00:01<00:00, 38.79it/s]\n"
     ]
    },
    {
     "name": "stdout",
     "output_type": "stream",
     "text": [
      "[LightGBM] [Warning] Unknown parameter: silent\n",
      "Epoch=27 \n",
      "Validation: = Logloss: 5.785 F1: 99.425 Recall: 99.425 Precision: 99.425 Accuracy: 99.425\n"
     ]
    },
    {
     "name": "stderr",
     "output_type": "stream",
     "text": [
      "100%|██████████| 272/272 [00:07<00:00, 36.02it/s]\n",
      "100%|██████████| 68/68 [00:01<00:00, 60.89it/s]\n"
     ]
    },
    {
     "name": "stdout",
     "output_type": "stream",
     "text": [
      "[LightGBM] [Warning] Unknown parameter: silent\n",
      "Epoch=28 \n",
      "Validation: = Logloss: 6.049 F1: 99.448 Recall: 99.448 Precision: 99.448 Accuracy: 99.448\n"
     ]
    },
    {
     "name": "stderr",
     "output_type": "stream",
     "text": [
      "100%|██████████| 272/272 [00:09<00:00, 29.31it/s]\n",
      "100%|██████████| 68/68 [00:01<00:00, 61.86it/s]\n"
     ]
    },
    {
     "name": "stdout",
     "output_type": "stream",
     "text": [
      "[LightGBM] [Warning] Unknown parameter: silent\n",
      "Epoch=29 \n",
      "Validation: = Logloss: 5.611 F1: 99.425 Recall: 99.425 Precision: 99.425 Accuracy: 99.425\n"
     ]
    },
    {
     "name": "stderr",
     "output_type": "stream",
     "text": [
      "100%|██████████| 272/272 [00:08<00:00, 33.92it/s]\n",
      "100%|██████████| 68/68 [00:01<00:00, 37.11it/s]\n"
     ]
    },
    {
     "name": "stdout",
     "output_type": "stream",
     "text": [
      "[LightGBM] [Warning] Unknown parameter: silent\n",
      "Epoch=30 \n",
      "Validation: = Logloss: 5.556 F1: 99.448 Recall: 99.448 Precision: 99.448 Accuracy: 99.448\n"
     ]
    },
    {
     "name": "stderr",
     "output_type": "stream",
     "text": [
      "100%|██████████| 272/272 [00:07<00:00, 34.51it/s]\n",
      "100%|██████████| 68/68 [00:01<00:00, 60.83it/s]\n"
     ]
    },
    {
     "name": "stdout",
     "output_type": "stream",
     "text": [
      "[LightGBM] [Warning] Unknown parameter: silent\n",
      "Epoch=31 \n",
      "Validation: = Logloss: 5.551 F1: 99.448 Recall: 99.448 Precision: 99.448 Accuracy: 99.448\n"
     ]
    },
    {
     "name": "stderr",
     "output_type": "stream",
     "text": [
      "100%|██████████| 272/272 [00:09<00:00, 28.70it/s]\n",
      "100%|██████████| 68/68 [00:01<00:00, 62.09it/s] \n"
     ]
    },
    {
     "name": "stdout",
     "output_type": "stream",
     "text": [
      "[LightGBM] [Warning] Unknown parameter: silent\n",
      "Epoch=32 \n",
      "Validation: = Logloss: 5.557 F1: 99.425 Recall: 99.425 Precision: 99.425 Accuracy: 99.425\n"
     ]
    },
    {
     "name": "stderr",
     "output_type": "stream",
     "text": [
      "100%|██████████| 272/272 [00:07<00:00, 35.49it/s]\n",
      "100%|██████████| 68/68 [00:01<00:00, 38.23it/s]\n"
     ]
    },
    {
     "name": "stdout",
     "output_type": "stream",
     "text": [
      "[LightGBM] [Warning] Unknown parameter: silent\n",
      "Epoch=33 \n",
      "Validation: = Logloss: 5.543 F1: 99.448 Recall: 99.448 Precision: 99.448 Accuracy: 99.448\n"
     ]
    },
    {
     "name": "stderr",
     "output_type": "stream",
     "text": [
      "100%|██████████| 272/272 [00:08<00:00, 33.34it/s]\n",
      "100%|██████████| 68/68 [00:01<00:00, 60.48it/s]\n"
     ]
    },
    {
     "name": "stdout",
     "output_type": "stream",
     "text": [
      "[LightGBM] [Warning] Unknown parameter: silent\n",
      "Epoch=34 \n",
      "Validation: = Logloss: 5.482 F1: 99.471 Recall: 99.471 Precision: 99.471 Accuracy: 99.471\n"
     ]
    },
    {
     "name": "stderr",
     "output_type": "stream",
     "text": [
      "100%|██████████| 272/272 [00:09<00:00, 29.00it/s]\n",
      "100%|██████████| 68/68 [00:01<00:00, 60.24it/s]\n"
     ]
    },
    {
     "name": "stdout",
     "output_type": "stream",
     "text": [
      "[LightGBM] [Warning] Unknown parameter: silent\n",
      "Epoch=35 \n",
      "Validation: = Logloss: 5.419 F1: 99.471 Recall: 99.471 Precision: 99.471 Accuracy: 99.471\n"
     ]
    },
    {
     "name": "stderr",
     "output_type": "stream",
     "text": [
      "100%|██████████| 272/272 [00:10<00:00, 26.17it/s]\n",
      "100%|██████████| 68/68 [00:01<00:00, 39.99it/s]\n"
     ]
    },
    {
     "name": "stdout",
     "output_type": "stream",
     "text": [
      "[LightGBM] [Warning] Unknown parameter: silent\n",
      "Epoch=36 \n",
      "Validation: = Logloss: 5.511 F1: 99.425 Recall: 99.425 Precision: 99.425 Accuracy: 99.425\n"
     ]
    },
    {
     "name": "stderr",
     "output_type": "stream",
     "text": [
      "100%|██████████| 272/272 [00:07<00:00, 35.28it/s]\n",
      "100%|██████████| 68/68 [00:01<00:00, 61.09it/s]\n"
     ]
    },
    {
     "name": "stdout",
     "output_type": "stream",
     "text": [
      "[LightGBM] [Warning] Unknown parameter: silent\n",
      "Epoch=37 \n",
      "Validation: = Logloss: 5.401 F1: 99.471 Recall: 99.471 Precision: 99.471 Accuracy: 99.471\n"
     ]
    },
    {
     "name": "stderr",
     "output_type": "stream",
     "text": [
      "100%|██████████| 272/272 [00:09<00:00, 29.15it/s]\n",
      "100%|██████████| 68/68 [00:01<00:00, 60.58it/s]\n"
     ]
    },
    {
     "name": "stdout",
     "output_type": "stream",
     "text": [
      "[LightGBM] [Warning] Unknown parameter: silent\n",
      "Epoch=38 \n",
      "Validation: = Logloss: 5.263 F1: 99.471 Recall: 99.471 Precision: 99.471 Accuracy: 99.471\n"
     ]
    },
    {
     "name": "stderr",
     "output_type": "stream",
     "text": [
      "100%|██████████| 272/272 [00:07<00:00, 34.75it/s]\n",
      "100%|██████████| 68/68 [00:01<00:00, 38.56it/s]\n"
     ]
    },
    {
     "name": "stdout",
     "output_type": "stream",
     "text": [
      "[LightGBM] [Warning] Unknown parameter: silent\n",
      "Epoch=39 \n",
      "Validation: = Logloss: 5.33 F1: 99.448 Recall: 99.448 Precision: 99.448 Accuracy: 99.448\n"
     ]
    },
    {
     "name": "stderr",
     "output_type": "stream",
     "text": [
      "100%|██████████| 272/272 [00:07<00:00, 34.00it/s]\n",
      "100%|██████████| 68/68 [00:01<00:00, 61.88it/s] \n"
     ]
    },
    {
     "name": "stdout",
     "output_type": "stream",
     "text": [
      "[LightGBM] [Warning] Unknown parameter: silent\n",
      "Epoch=40 \n",
      "Validation: = Logloss: 5.267 F1: 99.494 Recall: 99.494 Precision: 99.494 Accuracy: 99.494\n"
     ]
    },
    {
     "name": "stderr",
     "output_type": "stream",
     "text": [
      "100%|██████████| 272/272 [00:09<00:00, 29.20it/s]\n",
      "100%|██████████| 68/68 [00:01<00:00, 59.94it/s]\n"
     ]
    },
    {
     "name": "stdout",
     "output_type": "stream",
     "text": [
      "[LightGBM] [Warning] Unknown parameter: silent\n",
      "Epoch=41 \n",
      "Validation: = Logloss: 5.345 F1: 99.471 Recall: 99.471 Precision: 99.471 Accuracy: 99.471\n"
     ]
    },
    {
     "name": "stderr",
     "output_type": "stream",
     "text": [
      "100%|██████████| 272/272 [00:07<00:00, 36.33it/s]\n",
      "100%|██████████| 68/68 [00:01<00:00, 37.79it/s]\n"
     ]
    },
    {
     "name": "stdout",
     "output_type": "stream",
     "text": [
      "[LightGBM] [Warning] Unknown parameter: silent\n",
      "Epoch=42 \n",
      "Validation: = Logloss: 5.353 F1: 99.471 Recall: 99.471 Precision: 99.471 Accuracy: 99.471\n"
     ]
    },
    {
     "name": "stderr",
     "output_type": "stream",
     "text": [
      "100%|██████████| 272/272 [00:08<00:00, 32.94it/s]\n",
      "100%|██████████| 68/68 [00:01<00:00, 60.04it/s]\n"
     ]
    },
    {
     "name": "stdout",
     "output_type": "stream",
     "text": [
      "[LightGBM] [Warning] Unknown parameter: silent\n",
      "Epoch=43 \n",
      "Validation: = Logloss: 5.3 F1: 99.494 Recall: 99.494 Precision: 99.494 Accuracy: 99.494\n"
     ]
    },
    {
     "name": "stderr",
     "output_type": "stream",
     "text": [
      "100%|██████████| 272/272 [00:09<00:00, 28.88it/s]\n",
      "100%|██████████| 68/68 [00:01<00:00, 60.88it/s]\n"
     ]
    },
    {
     "name": "stdout",
     "output_type": "stream",
     "text": [
      "[LightGBM] [Warning] Unknown parameter: silent\n",
      "Epoch=44 \n",
      "Validation: = Logloss: 5.186 F1: 99.448 Recall: 99.448 Precision: 99.448 Accuracy: 99.448\n"
     ]
    },
    {
     "name": "stderr",
     "output_type": "stream",
     "text": [
      "100%|██████████| 272/272 [00:13<00:00, 19.90it/s]\n",
      "100%|██████████| 68/68 [00:01<00:00, 43.59it/s]\n"
     ]
    },
    {
     "name": "stdout",
     "output_type": "stream",
     "text": [
      "[LightGBM] [Warning] Unknown parameter: silent\n",
      "Epoch=45 \n",
      "Validation: = Logloss: 5.32 F1: 99.471 Recall: 99.471 Precision: 99.471 Accuracy: 99.471\n"
     ]
    },
    {
     "name": "stderr",
     "output_type": "stream",
     "text": [
      "100%|██████████| 272/272 [00:07<00:00, 35.37it/s]\n",
      "100%|██████████| 68/68 [00:01<00:00, 60.03it/s]\n"
     ]
    },
    {
     "name": "stdout",
     "output_type": "stream",
     "text": [
      "[LightGBM] [Warning] Unknown parameter: silent\n",
      "Epoch=46 \n",
      "Validation: = Logloss: 5.137 F1: 99.494 Recall: 99.494 Precision: 99.494 Accuracy: 99.494\n"
     ]
    },
    {
     "name": "stderr",
     "output_type": "stream",
     "text": [
      "100%|██████████| 272/272 [00:09<00:00, 29.07it/s]\n",
      "100%|██████████| 68/68 [00:01<00:00, 59.44it/s]\n"
     ]
    },
    {
     "name": "stdout",
     "output_type": "stream",
     "text": [
      "[LightGBM] [Warning] Unknown parameter: silent\n",
      "Epoch=47 \n",
      "Validation: = Logloss: 5.37 F1: 99.471 Recall: 99.471 Precision: 99.471 Accuracy: 99.471\n"
     ]
    },
    {
     "name": "stderr",
     "output_type": "stream",
     "text": [
      "100%|██████████| 272/272 [00:09<00:00, 29.16it/s]\n",
      "100%|██████████| 68/68 [00:01<00:00, 49.78it/s]\n"
     ]
    },
    {
     "name": "stdout",
     "output_type": "stream",
     "text": [
      "[LightGBM] [Warning] Unknown parameter: silent\n",
      "Epoch=48 \n",
      "Validation: = Logloss: 5.222 F1: 99.494 Recall: 99.494 Precision: 99.494 Accuracy: 99.494\n"
     ]
    },
    {
     "name": "stderr",
     "output_type": "stream",
     "text": [
      "100%|██████████| 272/272 [00:07<00:00, 35.85it/s]\n",
      "100%|██████████| 68/68 [00:01<00:00, 58.93it/s]\n"
     ]
    },
    {
     "name": "stdout",
     "output_type": "stream",
     "text": [
      "[LightGBM] [Warning] Unknown parameter: silent\n",
      "Epoch=49 \n",
      "Validation: = Logloss: 5.587 F1: 99.448 Recall: 99.448 Precision: 99.448 Accuracy: 99.448\n"
     ]
    }
   ],
   "source": [
    "# warnings.filterwarnings(\"ignore\")\n",
    "warnings.filterwarnings(\"ignore\", category=UserWarning, message=\".*force_row_wise=true.*\")\n",
    "warnings.filterwarnings(\"ignore\", category=UserWarning, message=\".*force_col_wise=true.*\")\n",
    "\n",
    "\n",
    "i = 0\n",
    "fold = 4\n",
    "logloss_list, f1_list, recall_list, precision_list, accuracy_list = [], [], [], [], []\n",
    "#5 fold training\n",
    "for tr_in, val_in in StratifiedKFold(n_splits=5, shuffle=True).split(final_embed, final_embed['Family']):\n",
    "  x_train = final_embed.drop(['ID', 'Family'],axis=1).loc[tr_in, :]\n",
    "  x_test = final_embed.drop(['ID', 'Family'],axis=1).loc[val_in, :]\n",
    "  y_train = final_embed.loc[tr_in, 'Family']\n",
    "  y_test = final_embed.loc[val_in, 'Family']\n",
    "\n",
    "  xx_train = Xx.loc[tr_in, :]\n",
    "  xx_test = Xx.loc[val_in, :]\n",
    "\n",
    "  model = NeuralNet(100, 9).to(device)\n",
    "\n",
    "  train_dataset = Dataset(\n",
    "    x_train.values,\n",
    "    y_train.values\n",
    "  )\n",
    "  train_loader = torch.utils.data.DataLoader(\n",
    "    train_dataset, batch_size=64, shuffle=True, num_workers=4\n",
    "  )\n",
    "\n",
    "  valid_dataset = Dataset(\n",
    "    x_test.values,\n",
    "    y_test.values\n",
    "  )\n",
    "\n",
    "  valid_loader = torch.utils.data.DataLoader(\n",
    "    valid_dataset, batch_size=64, shuffle=False, num_workers=4\n",
    "  )\n",
    "  optimizer = torch.optim.Adam(model.parameters(), lr=5e-4)\n",
    "\n",
    "  #instantiate base models  \n",
    "  lgbm = LGBMClassifier(n_jobs=-1, silent =True)\n",
    "  xgb = XGBClassifier(n_jobs=-1, verbosity=0)\n",
    "  logistic_reg = LogisticRegression(max_iter=100)\n",
    "  svm_classifier = SVC(probability=True)\n",
    "  random_forest = RandomForestClassifier(n_jobs=-1)\n",
    "\n",
    "  #Train model  \n",
    "  lgbm.fit(xx_train.values, y_train.values)\n",
    "  xgb.fit(xx_train.values, y_train.values)\n",
    "  logistic_reg.fit(xx_train.values, y_train.values)\n",
    "  svm_classifier.fit(xx_train.values, y_train.values)\n",
    "  random_forest.fit(xx_train.values, y_train.values)\n",
    "\n",
    "  #Save models  \n",
    "  pickle.dump(lgbm, open(f'/content/drive/MyDrive/fgsm_models/fgsm_models_lgbm/fgsm_lgbm_fold{i}.b5', 'wb'))\n",
    "  pickle.dump(xgb, open(f'/content/drive/MyDrive/fgsm_models/fgsm_models_xgb/fgsm_xgb_fold{i}.b5', 'wb'))\n",
    "  pickle.dump(logistic_reg, open(f'/content/drive/MyDrive/fgsm_models/fgsm_models_log/fgsm_logistic_reg_fold{i}.b5', 'wb'))\n",
    "  pickle.dump(svm_classifier, open(f'/content/drive/MyDrive/fgsm_models/fgsm_models_svm/fgsm_svm_fold{i}.b5', 'wb'))\n",
    "  pickle.dump(random_forest, open(f'/content/drive/MyDrive/fgsm_models/fgsm_models_rf/fgsm_random_forest_fold{i}.b5', 'wb'))\n",
    "\n",
    "\n",
    "  best_logloss = 10\n",
    "  for epoch in range(epochs):\n",
    "      #train SEA  \n",
    "      train_model(train_loader, model, optimizer, device=device)\n",
    "\n",
    "      predictions, valid_targets = evaluate_model(\n",
    "        valid_loader, model, device=device\n",
    "      )\n",
    "        \n",
    "      #predictions for gradient boosted classifiers  \n",
    "      lgbm_preds = lgbm.predict_proba(xx_test.values)\n",
    "      xgb_preds = xgb.predict_proba(xx_test.values)\n",
    "\n",
    "      #averaging means  \n",
    "      predictions = (np.array(predictions) * 0.33 + lgbm_preds * 0.33 + xgb_preds * 0.33)\n",
    "\n",
    "      logloss = metrics.log_loss(valid_targets, predictions)\n",
    "      f1 = metrics.f1_score(valid_targets, np.array(predictions).argmax(axis=1), average='micro')\n",
    "      recall = metrics.recall_score(valid_targets, np.array(predictions).argmax(axis=1), average='micro')\n",
    "      precision = metrics.precision_score(valid_targets, np.array(predictions).argmax(axis=1), average='micro')\n",
    "      accuracy = metrics.accuracy_score(valid_targets, np.array(predictions).argmax(axis=1))\n",
    "\n",
    "      logloss_list.append(logloss)\n",
    "      f1_list.append(f1)\n",
    "      recall_list.append(recall)\n",
    "      precision_list.append(precision)\n",
    "      accuracy_list.append(accuracy)\n",
    "\n",
    "      print(\n",
    "        f\"Epoch={epoch} \\nValidation: = Logloss: {round(logloss*100,3)} F1: {round(f1*100,3)} Recall: {round(recall*100,3)} Precision: {round(precision*100,3)} Accuracy: {round(accuracy*100,3)}\"\n",
    "      )\n",
    "      if logloss < best_logloss:\n",
    "        save_checkpoint(model, optimizer, f'/content/drive/MyDrive/fgsm_models/fgsm_models_nn/fgsm_model_fold{i}_{epoch}.pth')\n",
    "        best_logloss = logloss\n",
    "  i += 1"
   ]
  },
  {
   "cell_type": "markdown",
   "metadata": {
    "id": "1aLfmewJ14mj"
   },
   "source": [
    "## Testing the Defense"
   ]
  },
  {
   "cell_type": "code",
   "execution_count": 35,
   "metadata": {
    "executionInfo": {
     "elapsed": 167,
     "status": "ok",
     "timestamp": 1703072054410,
     "user": {
      "displayName": "Abhignya",
      "userId": "05737312112655230415"
     },
     "user_tz": 300
    },
    "id": "K19aUOLJ17CV"
   },
   "outputs": [],
   "source": [
    "test_dataset = TestDataset(final_embed.iloc[:,2:].values)\n",
    "test_loader = torch.utils.data.DataLoader(\n",
    "  test_dataset, batch_size=64, shuffle=False, num_workers=4\n",
    ")"
   ]
  },
  {
   "cell_type": "code",
   "execution_count": 36,
   "metadata": {
    "executionInfo": {
     "elapsed": 257417,
     "status": "ok",
     "timestamp": 1703072329141,
     "user": {
      "displayName": "Abhignya",
      "userId": "05737312112655230415"
     },
     "user_tz": 300
    },
    "id": "KEJwb-A5AXFz"
   },
   "outputs": [],
   "source": [
    "final_op['Opcodes'] = final_op['Opcodes'].apply(lambda x: str(x).replace(',',' '))\n",
    "test_encs = vectorizer.transform(final_op['Opcodes'])\n",
    "test_encs = test_encs.toarray()\n",
    "\n",
    "test_encs = pd.DataFrame(test_encs)"
   ]
  },
  {
   "cell_type": "code",
   "execution_count": 37,
   "metadata": {
    "executionInfo": {
     "elapsed": 171,
     "status": "ok",
     "timestamp": 1703072821255,
     "user": {
      "displayName": "Abhignya",
      "userId": "05737312112655230415"
     },
     "user_tz": 300
    },
    "id": "ScdAj6BkAX6T"
   },
   "outputs": [],
   "source": [
    "models_nn = [\n",
    "             '/content/drive/MyDrive/fgsm_models/fgsm_models_nn/fgsm_model_fold0_46.pth',\n",
    "             '/content/drive/MyDrive/fgsm_models/fgsm_models_nn/fgsm_model_fold1_47.pth',\n",
    "             '/content/drive/MyDrive/fgsm_models/fgsm_models_nn/fgsm_model_fold2_49.pth',\n",
    "             '/content/drive/MyDrive/fgsm_models/fgsm_models_nn/fgsm_model_fold3_43.pth',\n",
    "             '/content/drive/MyDrive/fgsm_models/fgsm_models_nn/fgsm_model_fold4_46.pth'\n",
    "]\n",
    "models_xgb = [\n",
    "              '/content/drive/MyDrive/models/models_xgb/xgb_fold0.b5',\n",
    "              '/content/drive/MyDrive/models/models_xgb/xgb_fold1.b5',\n",
    "              '/content/drive/MyDrive/models/models_xgb/xgb_fold2.b5',\n",
    "              '/content/drive/MyDrive/models/models_xgb/xgb_fold3.b5',\n",
    "              '/content/drive/MyDrive/models/models_xgb/xgb_fold4.b5'\n",
    "]\n",
    "\n",
    "models_lgbm = [\n",
    "               '/content/drive/MyDrive/fgsm_models/fgsm_models_lgbm/fgsm_lgbm_fold0.b5',\n",
    "               '/content/drive/MyDrive/fgsm_models/fgsm_models_lgbm/fgsm_lgbm_fold1.b5',\n",
    "               '/content/drive/MyDrive/fgsm_models/fgsm_models_lgbm/fgsm_lgbm_fold2.b5',\n",
    "               '/content/drive/MyDrive/fgsm_models/fgsm_models_lgbm/fgsm_lgbm_fold3.b5',\n",
    "               '/content/drive/MyDrive/fgsm_models/fgsm_models_lgbm/fgsm_lgbm_fold4.b5'\n",
    "]\n",
    "\n",
    "models_log=[\n",
    "               '/content/drive/MyDrive/fgsm_models/fgsm_models_log/fgsm_logistic_reg_fold0.b5',\n",
    "               '/content/drive/MyDrive/fgsm_models/fgsm_models_log/fgsm_logistic_reg_fold1.b5',\n",
    "               '/content/drive/MyDrive/fgsm_models/fgsm_models_log/fgsm_logistic_reg_fold2.b5',\n",
    "               '/content/drive/MyDrive/fgsm_models/fgsm_models_log/fgsm_logistic_reg_fold3.b5',\n",
    "               '/content/drive/MyDrive/fgsm_models/fgsm_models_log/fgsm_logistic_reg_fold4.b5',\n",
    "]\n",
    "\n",
    "models_svm=[\n",
    "               '/content/drive/MyDrive/fgsm_models/fgsm_models_svm/fgsm_svm_fold0.b5',\n",
    "               '/content/drive/MyDrive/fgsm_models/fgsm_models_svm/fgsm_svm_fold1.b5',\n",
    "               '/content/drive/MyDrive/fgsm_models/fgsm_models_svm/fgsm_svm_fold2.b5',\n",
    "               '/content/drive/MyDrive/fgsm_models/fgsm_models_svm/fgsm_svm_fold3.b5',\n",
    "               '/content/drive/MyDrive/fgsm_models/fgsm_models_svm/fgsm_svm_fold4.b5'\n",
    "]\n",
    "\n",
    "models_rf=[\n",
    "               '/content/drive/MyDrive/fgsm_models/fgsm_models_rf/fgsm_random_forest_fold0.b5',\n",
    "               '/content/drive/MyDrive/fgsm_models/fgsm_models_rf/fgsm_random_forest_fold1.b5',\n",
    "               '/content/drive/MyDrive/fgsm_models/fgsm_models_rf/fgsm_random_forest_fold2.b5',\n",
    "               '/content/drive/MyDrive/fgsm_models/fgsm_models_rf/fgsm_random_forest_fold3.b5',\n",
    "               '/content/drive/MyDrive/fgsm_models/fgsm_models_rf/fgsm_random_forest_fold4.b5'\n",
    "]"
   ]
  },
  {
   "cell_type": "code",
   "execution_count": 38,
   "metadata": {
    "colab": {
     "base_uri": "https://localhost:8080/"
    },
    "executionInfo": {
     "elapsed": 90517,
     "status": "ok",
     "timestamp": 1703072980501,
     "user": {
      "displayName": "Abhignya",
      "userId": "05737312112655230415"
     },
     "user_tz": 300
    },
    "id": "N1lCqBCbDPqg",
    "outputId": "e29d02e6-df98-496f-9a85-2dd8584e827e"
   },
   "outputs": [
    {
     "name": "stderr",
     "output_type": "stream",
     "text": [
      "100%|██████████| 340/340 [00:04<00:00, 73.57it/s]\n"
     ]
    },
    {
     "name": "stdout",
     "output_type": "stream",
     "text": [
      "[LightGBM] [Warning] Unknown parameter: silent\n"
     ]
    },
    {
     "name": "stderr",
     "output_type": "stream",
     "text": [
      "100%|██████████| 340/340 [00:04<00:00, 72.68it/s] \n"
     ]
    },
    {
     "name": "stdout",
     "output_type": "stream",
     "text": [
      "[LightGBM] [Warning] Unknown parameter: silent\n"
     ]
    },
    {
     "name": "stderr",
     "output_type": "stream",
     "text": [
      "100%|██████████| 340/340 [00:03<00:00, 93.97it/s] \n"
     ]
    },
    {
     "name": "stdout",
     "output_type": "stream",
     "text": [
      "[LightGBM] [Warning] Unknown parameter: silent\n"
     ]
    },
    {
     "name": "stderr",
     "output_type": "stream",
     "text": [
      "100%|██████████| 340/340 [00:03<00:00, 104.01it/s]\n"
     ]
    },
    {
     "name": "stdout",
     "output_type": "stream",
     "text": [
      "[LightGBM] [Warning] Unknown parameter: silent\n"
     ]
    },
    {
     "name": "stderr",
     "output_type": "stream",
     "text": [
      "100%|██████████| 340/340 [00:03<00:00, 107.97it/s]\n"
     ]
    },
    {
     "name": "stdout",
     "output_type": "stream",
     "text": [
      "[LightGBM] [Warning] Unknown parameter: silent\n",
      "\n",
      "\n",
      "Test Accuracy for Model 1 (SEA + XGBoost + LGBM) before Defense =  0.8719175561280824\n",
      "Test Accuracy for Model 1 (SEA + XGBoost + LGBM) after Defense =  0.9971475892528524\n",
      "\n",
      "\n",
      "Test Accuracy for Model 2 (SEA + Logistic Regression) before Defense =  0.695068089804932\n",
      "Test Accuracy for Model 2 (SEA + Logistic Regression) after Defense =  0.9622285609127714\n",
      "\n",
      "\n",
      "Test Accuracy for Model 3 (SEA + SVM) before Defense =  0.695068089804932\n",
      "Test Accuracy for Model 3 (SEA + SVM) after Defense =  0.9775947736474052\n",
      "\n",
      "\n",
      "Test Accuracy for Model 4 (SEA + Random Forest) before Defense =  0.8143172616856827\n",
      "Test Accuracy for Model 4 (SEA + Random Forest) after Defense =  0.9877162311372838\n"
     ]
    }
   ],
   "source": [
    "model1_preds_all = []\n",
    "model2_preds_all = []\n",
    "model3_preds_all = []\n",
    "model4_preds_all = []\n",
    "\n",
    "test_accs_new=[]\n",
    "#5 fold testing\n",
    "for model_nn, model_lgbm, model_xgb, model_log, model_svm, model_rf in zip(models_nn, models_lgbm, models_xgb, models_log, models_svm, models_rf):\n",
    "  #load model  \n",
    "  model = NeuralNet(100, 9).to(device)\n",
    "  model, _ = load_checkpoint(model, model_nn)\n",
    "  model_xgb = pickle.load(open(model_xgb, 'rb'))\n",
    "  model_lgbm = pickle.load(open(model_lgbm, 'rb'))\n",
    "  model_log = pickle.load(open(model_log, 'rb'))\n",
    "  model_svm = pickle.load(open(model_svm, 'rb'))\n",
    "  model_rf = pickle.load(open(model_rf, 'rb'))\n",
    "  \n",
    "  #generate predictions for baseline models  \n",
    "  nn_preds = inference(test_loader, model, device)\n",
    "  lgbm_preds = model_lgbm.predict_proba(test_encs.values)\n",
    "  xgb_preds = model_xgb.predict_proba(test_encs.values)\n",
    "  log_preds = model_log.predict_proba(test_encs.values)\n",
    "  svm_preds = model_svm.predict_proba(test_encs.values)\n",
    "  rf_preds = model_rf.predict_proba(test_encs.values)\n",
    "  #predictions for ensemble models  \n",
    "  model1_preds = np.array(nn_preds) * 0.33 + lgbm_preds * 0.33 + xgb_preds * 0.33\n",
    "  model2_preds = np.array(nn_preds) * 0.50 + log_preds * 0.50\n",
    "  model3_preds=np.array(nn_preds) * 0.50 + svm_preds * 0.50\n",
    "  model4_preds = np.array(nn_preds) * 0.50 + rf_preds * 0.50\n",
    "\n",
    "  model1_preds_all.append(model1_preds)\n",
    "  model2_preds_all.append(model2_preds)\n",
    "  model3_preds_all.append(model3_preds)\n",
    "  model4_preds_all.append(model4_preds)\n",
    "#averaging predictions over 5 folds and get Test accuracy\n",
    "model1_final_preds=  pd.DataFrame(np.array(model1_preds_all).mean(axis=0))\n",
    "model1_final_preds = model1_final_preds.idxmax(axis=1)\n",
    "model1_final_test_acc = (get_final_test_acc(final_embed['Family'],model1_final_preds))/len(model1_final_preds)\n",
    "test_accs_new.append(model1_final_test_acc)\n",
    "print(\"\\n\\nTest Accuracy for Model 1 (SEA + XGBoost + LGBM) before Defense = \",test_accs[0])\n",
    "print(\"Test Accuracy for Model 1 (SEA + XGBoost + LGBM) after Defense = \",model1_final_test_acc)\n",
    "\n",
    "#averaging predictions over 5 folds and get Test accuracy\n",
    "model2_final_preds=  pd.DataFrame(np.array(model2_preds_all).mean(axis=0))\n",
    "model2_final_preds = model2_final_preds.idxmax(axis=1)\n",
    "model2_final_test_acc = (get_final_test_acc(final_embed['Family'],model2_final_preds))/len(model2_final_preds)\n",
    "test_accs_new.append(model2_final_test_acc)\n",
    "print(\"\\n\\nTest Accuracy for Model 2 (SEA + Logistic Regression) before Defense = \",test_accs[1])\n",
    "print(\"Test Accuracy for Model 2 (SEA + Logistic Regression) after Defense = \",model2_final_test_acc)\n",
    "\n",
    "#averaging predictions over 5 folds and get Test accuracy\n",
    "model3_final_preds=  pd.DataFrame(np.array(model3_preds_all).mean(axis=0))\n",
    "model3_final_preds = model3_final_preds.idxmax(axis=1)\n",
    "model3_final_test_acc = (get_final_test_acc(final_embed['Family'],model3_final_preds))/len(model3_final_preds)\n",
    "test_accs_new.append(model3_final_test_acc)\n",
    "print(\"\\n\\nTest Accuracy for Model 3 (SEA + SVM) before Defense = \",test_accs[1])\n",
    "print(\"Test Accuracy for Model 3 (SEA + SVM) after Defense = \",model3_final_test_acc)\n",
    "\n",
    "#averaging predictions over 5 folds and get Test accuracy\n",
    "model4_final_preds=  pd.DataFrame(np.array(model4_preds_all).mean(axis=0))\n",
    "model4_final_preds = model4_final_preds.idxmax(axis=1)\n",
    "model4_final_test_acc = (get_final_test_acc(final_embed['Family'],model4_final_preds))/len(model4_final_preds)\n",
    "test_accs_new.append(model4_final_test_acc)\n",
    "print(\"\\n\\nTest Accuracy for Model 4 (SEA + Random Forest) before Defense = \",test_accs[3])\n",
    "print(\"Test Accuracy for Model 4 (SEA + Random Forest) after Defense = \",model4_final_test_acc)\n",
    "\n"
   ]
  },
  {
   "cell_type": "code",
   "execution_count": 41,
   "metadata": {
    "colab": {
     "base_uri": "https://localhost:8080/",
     "height": 492
    },
    "executionInfo": {
     "elapsed": 634,
     "status": "ok",
     "timestamp": 1703073238780,
     "user": {
      "displayName": "Abhignya",
      "userId": "05737312112655230415"
     },
     "user_tz": 300
    },
    "id": "cDsQBltUEHSz",
    "outputId": "64b1993a-f804-4760-9b58-7923c4ae71d3"
   },
   "outputs": [
    {
     "data": {
      "image/png": "[encoded data removed]",
      "text/plain": [
       "<Figure size 2000x600 with 1 Axes>"
      ]
     },
     "metadata": {},
     "output_type": "display_data"
    }
   ],
   "source": [
    "model_names=['Original: SEA + XGboost + LGBM','SEA + Logistic Regression','SEA + SVM','SEA + Random Forest']\n",
    "test_accs=[model1_test_acc[2],model2_test_acc[2],model3_test_acc[2],model4_test_acc[2]]\n",
    "# Set the figure size\n",
    "plt.figure(figsize=(20, 6))\n",
    "\n",
    "# Create the original scatter plot\n",
    "plt.scatter(model_names, test_accs, color='blue', label='Original Test Accuracies')\n",
    "\n",
    "# Add the new data to the plot\n",
    "plt.scatter(model_names, test_accs_new, color='red', label='New Test Accuracies')\n",
    "\n",
    "# Add labels and title\n",
    "plt.xlabel('Model Names')\n",
    "plt.ylabel('Test Accuracies')\n",
    "plt.title('Test Accuracies of Different Models')\n",
    "\n",
    "# Add a legend to differentiate between the original and new data\n",
    "plt.legend()\n",
    "\n",
    "# Show the plot\n",
    "plt.show()"
   ]
  }
 ],
 "metadata": {
  "colab": {
   "authorship_tag": "ABX9TyPQArECbJU8IKhn5FG+eb1/",
   "collapsed_sections": [
    "XTcvA2L0l6uJ"
   ],
   "provenance": []
  },
  "kernelspec": {
   "display_name": "Python 3 (ipykernel)",
   "language": "python",
   "name": "python3"
  },
  "language_info": {
   "codemirror_mode": {
    "name": "ipython",
    "version": 3
   },
   "file_extension": ".py",
   "mimetype": "text/x-python",
   "name": "python",
   "nbconvert_exporter": "python",
   "pygments_lexer": "ipython3",
   "version": "3.10.2"
  }
 },
 "nbformat": 4,
 "nbformat_minor": 1
}
